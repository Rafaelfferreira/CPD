{
 "cells": [
  {
   "cell_type": "markdown",
   "metadata": {},
   "source": [
    "#### Função para formatação de strings"
   ]
  },
  {
   "cell_type": "code",
   "execution_count": 2,
   "metadata": {
    "collapsed": true
   },
   "outputs": [],
   "source": [
    "from unicodedata import normalize\n",
    "import copy\n",
    "\n",
    "# Função que formata string desconsiderando maiúsculas e minúsculas e que remove acentos\n",
    "def formataString(string):\n",
    "    string = normalize('NFKD', string).encode('ASCII', 'ignore').decode('ASCII')\n",
    "    return string.upper()"
   ]
  },
  {
   "cell_type": "markdown",
   "metadata": {},
   "source": [
    "## Definição da estutura que vai formar as árvores TRIE para consulta"
   ]
  },
  {
   "cell_type": "code",
   "execution_count": 3,
   "metadata": {
    "collapsed": true
   },
   "outputs": [],
   "source": [
    "class TrieNode(object):\n",
    "\n",
    "    \n",
    "    def __init__(self, char: str):   # __init__ é um método especial para fazer construtores\n",
    "        self.char = char   # caractere do nodo atual\n",
    "        self.filhos = []   # nodos filhos\n",
    "        self.pFinalizada = False   # se é o último nodo e a palavra terminou\n",
    "        self.indices = []   # lista vazia para nodos que não são término de palavra\n",
    "        ### não é um índice único e sim uma lista, pois podem existir títulos de música repetidos com mais de um artista"
   ]
  },
  {
   "cell_type": "markdown",
   "metadata": {},
   "source": [
    "#### Operação que adiciona uma string na árvore trie"
   ]
  },
  {
   "cell_type": "code",
   "execution_count": 4,
   "metadata": {
    "collapsed": true
   },
   "outputs": [],
   "source": [
    "def addString(raiz, palavra: str, indice: int):   # função usada para adicionar uma palavra nova à estrutura trie\n",
    "    \n",
    "    palavra = formataString(palavra)   # formata string de entrada para o padrão (todas as letras maiúsculas sem acento)\n",
    "    nodo = raiz\n",
    "    for char in palavra:\n",
    "        encontradoEmFilho = False\n",
    "        # busca pelo caractere nos filhos do nodo atual\n",
    "        for filho in nodo.filhos:\n",
    "            if filho.char == char: \n",
    "                nodo = filho   # apontamos o nodo para o filho que contém esse char\n",
    "                encontradoEmFilho = True\n",
    "                break\n",
    "        \n",
    "        if not encontradoEmFilho:   # se o caractere não foi encontrado, adiciona novo filho\n",
    "            novoNodo = TrieNode(char)\n",
    "            nodo.filhos.append(novoNodo)\n",
    "            nodo = novoNodo   # apontamos, então, o nodo para seu novo filho e continuamos a iteração\n",
    "    \n",
    "    nodo.pFinalizada = True   # indica que até ali pode ser uma palavra (nome de música/artista completo)\n",
    "    nodo.indices.append(indice)   # assinala o indice passado"
   ]
  },
  {
   "cell_type": "markdown",
   "metadata": {},
   "source": [
    "#### Operação que procura uma string na árvore trie"
   ]
  },
  {
   "cell_type": "code",
   "execution_count": 5,
   "metadata": {
    "collapsed": true
   },
   "outputs": [],
   "source": [
    "def findString(select, dados, raiz, palavra: str) -> (bool, []):\n",
    "    \"\"\"\n",
    "      1. Se a palavra existe e tem algum índice associado, retorna verdadeiro e a lista de índices dela\n",
    "      2. Se a palavra não existe, retorna falso e uma lista com sugestões de palavras\n",
    "      \n",
    "      Sendo o parâmetro select utilizada para indicar se a busca é por artista ou música (0 música, 1 artista)\n",
    "    \"\"\"\n",
    "    palavra = formataString(palavra)   # formata string de entrada para o padrão (todas as letras maiúsculas sem acento)\n",
    "    nodo = raiz\n",
    "    stringSugerida = \"\"  # guarda os caracteres já encontrados para sugerir os próximos\n",
    "    \n",
    "    if not raiz.filhos:   # se o nodo raiz não tiver nenhum filho, trivial, retorna falso\n",
    "        return False, []\n",
    "    for char in palavra:\n",
    "        charNaoEncontrado = True\n",
    "        for filho in nodo.filhos:\n",
    "            if filho.char == char:\n",
    "                charNaoEncontrado = False   # assinala que o char foi encontrado\n",
    "                stringSugerida = stringSugerida+char\n",
    "                nodo = filho   # passa iteração para o nodo filho\n",
    "                break\n",
    "        \n",
    "        if charNaoEncontrado:   # chama a função que procura sugestões e retorna a tupla (False, lista de sugestões)\n",
    "            return False, sugereStrings(select, dados, nodo, stringSugerida, 15)\n",
    "    \n",
    "    # Caso passe por todos os caracteres sem retornar false, então significa que a palavra foi encontrada\n",
    "    # Resta saber se aquele nodo é um nodo final com um índice associado\n",
    "    if nodo.pFinalizada:\n",
    "        return True, nodo.indices\n",
    "    else:\n",
    "        return False, sugereStrings(select, dados, nodo, stringSugerida, 15)"
   ]
  },
  {
   "cell_type": "markdown",
   "metadata": {},
   "source": [
    "#### Funções utilizadas para sugerir buscas"
   ]
  },
  {
   "cell_type": "code",
   "execution_count": 23,
   "metadata": {
    "collapsed": true
   },
   "outputs": [],
   "source": [
    "def sugereStrings(select, dados, nodo, string, maxSugestoes):   # onde select igual a 1 significa que se procura um artista e False, música\n",
    "        listaDeSugestoes = []   # cria lista vazia para adicionarmos as sugestões\n",
    "        procuraSugestoes(nodo, string, listaDeSugestoes)   # chama a função que percorre a trie procurando sugestões\n",
    "        \n",
    "        \n",
    "        itera = copy.deepcopy(listaDeSugestoes)   # utilizado para iteração na lista que está sendo modificada enquanto o loop itera\n",
    "        \n",
    "        # substitui os indices pelos títulos\n",
    "        for indice in itera:\n",
    "            listaDeSugestoes.remove(indice)   # remove o índice \n",
    "            if select:\n",
    "                listaDeSugestoes.append(dados[indice]['Artista']) \n",
    "            else:\n",
    "                listaDeSugestoes.append(dados[indice]['Titulo']) \n",
    "            \n",
    "        \n",
    "        listaDeSugestoes = sorted(listaDeSugestoes)   # ordena a lista alfabeticamente\n",
    "        return listaDeSugestoes[:maxSugestoes]   # retorna apenas os n elementos da lista definidos por maxSugestoes\n",
    "\n",
    "    \n",
    "# função que dado um nodo, uma parte correta de uma string (que existe na TRIE), uma lista de sugestoes, retorna uma lista de sugestões\n",
    "def procuraSugestoes(nodo, string, listaDeSugestoes):\n",
    "        \n",
    "        if nodo.pFinalizada:   \n",
    "            listaDeSugestoes.append(nodo.indices[0])   # adiciona nova sugestão na lista\n",
    "        \n",
    "        for filho in nodo.filhos:\n",
    "            \n",
    "            procuraSugestoes(filho, string+filho.char, listaDeSugestoes)   # recursão para cada filho \n",
    "            if filho.pFinalizada:   \n",
    "                listaDeSugestoes.append(filho.indices[0])   # adiciona nova sugestão na lista\n",
    "                \n",
    "        return        "
   ]
  },
  {
   "cell_type": "markdown",
   "metadata": {},
   "source": [
    "#### Função auxiliar para adicionar artista levando-se em consideração a retirada do possível \"feat\" da string"
   ]
  },
  {
   "cell_type": "code",
   "execution_count": 7,
   "metadata": {
    "collapsed": true
   },
   "outputs": [],
   "source": [
    "# A função checa se a string passada como parâmetro contém uma sinalização de featuring para evitar que se crie um \"artista novo\"\n",
    "def adicionaArtista(raiz, artista, indice):\n",
    "    \n",
    "    if \" Featuring\" in artista:   # Se a música tiver um featuring, deve-se retirá-lo\n",
    "        indexFeat = artista.find(\" Featuring\")\n",
    "        counter = 0\n",
    "        artistaNewString = \"\"\n",
    "        \n",
    "        # como artista = [:indexFeat] dá erro de sintaxe, precisa-se iterar e construir outra string \n",
    "        # um loop for com contador (e break) é necessário nesse caso para poder iterar pela sting \n",
    "        for char in artista:\n",
    "            if counter == indexFeat:\n",
    "                break\n",
    "            artistaNewString = artistaNewString + char\n",
    "            counter += 1\n",
    "\n",
    "        artista = artistaNewString   # atualiza nome do artista     \n",
    "\n",
    "    addString(raiz, artista, indice)\n",
    "    "
   ]
  },
  {
   "cell_type": "markdown",
   "metadata": {},
   "source": [
    "## Início do código em si\n",
    "\n",
    "#### Leitura dos dados filtrados por ano"
   ]
  },
  {
   "cell_type": "code",
   "execution_count": 8,
   "metadata": {
    "collapsed": true
   },
   "outputs": [],
   "source": [
    "import pickle\n",
    "import os\n",
    "\n",
    "#Faz a leitura do arquivo de registros\n",
    "with (open('teste.bin', 'rb')) as openfile:\n",
    "    leitura = pickle.load(openfile)"
   ]
  },
  {
   "cell_type": "markdown",
   "metadata": {},
   "source": [
    "#### Criação da TRIE para músicas e da TRIE para artistas"
   ]
  },
  {
   "cell_type": "code",
   "execution_count": 9,
   "metadata": {
    "collapsed": true
   },
   "outputs": [],
   "source": [
    "raizMusicas = TrieNode('@')   # raiz da trie de músicas \n",
    "raizArtistas = TrieNode('@')  # raiz da trie de artistas\n",
    "\n",
    "indice = 0   # endereço da música no arquivo\n",
    "\n",
    "for x in leitura:  \n",
    "    # o str é necessário para os casos em que a música ou artista são apenas números e interpretados com inteiros\n",
    "    addString(raizMusicas, str(x['Titulo']), indice)   \n",
    "    adicionaArtista(raizArtistas, str(x['Artista']), indice)\n",
    "    indice += 1"
   ]
  },
  {
   "cell_type": "markdown",
   "metadata": {},
   "source": [
    "##### Testes com as TRIE criadas"
   ]
  },
  {
   "cell_type": "code",
   "execution_count": 10,
   "metadata": {},
   "outputs": [
    {
     "name": "stdout",
     "output_type": "stream",
     "text": [
      "(True, [10800]) \n",
      "\n",
      "(True, [7948, 8090, 8201, 8564, 8624, 9977, 10000, 10095, 10318, 10413, 10471]) \n",
      "\n",
      "[7948, 8090, 8201, 8564, 8624, 9977, 10000, 10095, 10318, 10413, 10471] \n",
      "\n"
     ]
    }
   ],
   "source": [
    "# sendo o parâmetro 0 utilizado para sinalizar que a busca é por músicas\n",
    "print(findString(0, leitura, raizMusicas, \"All Of Me\"), \"\\n\")\n",
    "print(findString(0, leitura, raizArtistas, \"Train\"), \"\\n\")\n",
    "print(findString(0, leitura, raizArtistas, \"Train\")[1], \"\\n\")"
   ]
  },
  {
   "cell_type": "code",
   "execution_count": 11,
   "metadata": {},
   "outputs": [
    {
     "name": "stdout",
     "output_type": "stream",
     "text": [
      "{'Artista': 'John Legend', 'Titulo': 'All Of Me', 'Ano': 2014, 'Pontos': 4069, 'Peak': 100, 'Semanas': 59}\n"
     ]
    }
   ],
   "source": [
    "print(leitura[10800])"
   ]
  },
  {
   "cell_type": "markdown",
   "metadata": {},
   "source": [
    "#### Salvando os dados das TRIE em arquivos binários"
   ]
  },
  {
   "cell_type": "code",
   "execution_count": 12,
   "metadata": {
    "collapsed": true
   },
   "outputs": [],
   "source": [
    "filename = \"trieMusicas.bin\"\n",
    "with (open(filename, 'wb+')) as openfile: #abre o arquivo de teste no modo de leitura binaria 'wb' como openfile\n",
    "    pickle.dump(raizMusicas, openfile)\n",
    "    \n",
    "filename = \"trieArtistas.bin\"\n",
    "with (open(filename, 'wb+')) as openfile: #abre o arquivo de teste no modo de leitura binaria 'wb' como openfile\n",
    "    pickle.dump(raizArtistas, openfile)"
   ]
  },
  {
   "cell_type": "markdown",
   "metadata": {},
   "source": [
    "#### Testando arquivos salvos:"
   ]
  },
  {
   "cell_type": "code",
   "execution_count": 13,
   "metadata": {},
   "outputs": [
    {
     "name": "stdout",
     "output_type": "stream",
     "text": [
      "(True, [10800]) \n",
      "\n",
      "(True, [10800]) \n",
      "\n",
      "(True, [10800]) \n",
      "\n",
      "[7948, 8090, 8201, 8564, 8624, 9977, 10000, 10095, 10318, 10413, 10471] \n",
      "\n"
     ]
    }
   ],
   "source": [
    "filename = \"trieMusicas.bin\"\n",
    "\n",
    "if os.path.exists(filename): #confere se o arquivo existe\n",
    "    with open(filename,'rb') as openfile:  #with automaticamente da um close() no final\n",
    "        trieMusicas = pickle.load(openfile)\n",
    "        \n",
    "filename = \"trieArtistas.bin\"\n",
    "if os.path.exists(filename): #confere se o arquivo existe\n",
    "    with open(filename,'rb') as openfile:  #with automaticamente da um close() no final\n",
    "        trieArtistas = pickle.load(openfile)\n",
    "        \n",
    "print(findString(0, leitura, trieMusicas, \"All Of Me\"), \"\\n\")\n",
    "print(findString(0, leitura, trieMusicas, \"ALL OF ME\"), \"\\n\")\n",
    "print(findString(0, leitura, trieMusicas, \"Àll Öf Mé\"), \"\\n\")\n",
    "print(findString(1, leitura, trieArtistas, \"Train\")[1], \"\\n\")"
   ]
  },
  {
   "cell_type": "code",
   "execution_count": 25,
   "metadata": {},
   "outputs": [
    {
     "name": "stdout",
     "output_type": "stream",
     "text": [
      "False\n",
      "['Katy Perry']\n"
     ]
    }
   ],
   "source": [
    "(encontrou, sugestoes) = findString(1, leitura, trieArtistas, \"Katy Perry Featuring Kanye West\")\n",
    "print(encontrou)\n",
    "print(sugestoes)\n"
   ]
  },
  {
   "cell_type": "code",
   "execution_count": null,
   "metadata": {
    "collapsed": true
   },
   "outputs": [],
   "source": []
  }
 ],
 "metadata": {
  "kernelspec": {
   "display_name": "Python 3",
   "language": "python",
   "name": "python3"
  },
  "language_info": {
   "codemirror_mode": {
    "name": "ipython",
    "version": 3
   },
   "file_extension": ".py",
   "mimetype": "text/x-python",
   "name": "python",
   "nbconvert_exporter": "python",
   "pygments_lexer": "ipython3",
   "version": "3.6.1"
  }
 },
 "nbformat": 4,
 "nbformat_minor": 2
}
