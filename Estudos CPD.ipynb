{
 "cells": [
  {
   "cell_type": "markdown",
   "metadata": {},
   "source": [
    "# Estudos de Classificação e Pesquisa de Dados\n",
    "### Setting up the environment"
   ]
  },
  {
   "cell_type": "code",
   "execution_count": 11,
   "metadata": {
    "collapsed": true
   },
   "outputs": [],
   "source": [
    "import numpy as np # Importando a biblioteca numpy (para trabalhar com arrays)\n",
    "import time #Biblioteca utilizada para contar o tempo\n",
    "import pandas as pd #biblioteca para trabalhar com dataframes\n",
    "\n",
    "gerador = np.random.RandomState() # Cria um gerador de números aleatórios\n",
    "\n",
    "# A função log imprime um log dos dados da execução de algum dos algoritmos\n",
    "# Dados registrados: algoritmo, tipo de array, quantidade de números, trocas e comparações e tempo em milissegundos\n",
    "# Os tipos de array podem ser 'R'andomicos, 'C'rescente ou 'D'ecrescente\n",
    "# lambda é uma keyword que permite gerar funcoes de uma linha, m é o argumento que ela recebe\n",
    "log = lambda m: print('[log: {algoritmo}, {tipo}, {quantidade:d}, {trocas:d}, {comparacoes:d},{tempo:f}]'.format(algoritmo=m['algoritmo'],\n",
    "                                                                                                                tipo=m['tipo'],\n",
    "                                                                                                                quantidade=m['quantidade'],\n",
    "                                                                                                                trocas=m['trocas'],\n",
    "                                                                                                                comparacoes=m['comparacoes'],\n",
    "                                                                                                                tempo=m['tempo']))\n",
    "\n",
    "medicoes=[] # Lista que armazena os resultados das medições em memória"
   ]
  },
  {
   "cell_type": "markdown",
   "metadata": {},
   "source": [
    "## Algoritmo de inserção direta (Insertion Sort)\n",
    "Melhor caso: O(n) - Array ja esta ordenado e só ocorrem n comparações  \n",
    "Pior caso: O(n^2) - Array esta completamente desordenado"
   ]
  },
  {
   "cell_type": "code",
   "execution_count": 72,
   "metadata": {
    "collapsed": true
   },
   "outputs": [],
   "source": [
    "#Função de inserção direta com busca linear:\n",
    "def insertion_sort(array):\n",
    "    trocas = comparacoes = 0\n",
    "    for j in range(1, len(array)): #funcao range gera uma lista de numeros com o valor inicial de j (1) e depois o final (len(array))\n",
    "        chave = array[j] #chave a ser inserida no subarray ordenado\n",
    "        i = j-1 #i recebe o ultimo elemento do subarray ordenado\n",
    "        comparacoes += 1\n",
    "        while (i >= 0) and (array[i] > chave): #busca linear da direita para a esquerda dentro do array subordenado\n",
    "            array[i+1] = array[i]\n",
    "            i -= 1\n",
    "            trocas += 1\n",
    "        array[i+1] = chave\n",
    "    return {'trocas':trocas, 'comparacoes':comparacoes}"
   ]
  },
  {
   "cell_type": "code",
   "execution_count": 73,
   "metadata": {},
   "outputs": [
    {
     "name": "stdout",
     "output_type": "stream",
     "text": [
      "Array gerado ( 100 numeros ):\n",
      " [36  5 22  2 23 36 85  9 86 14 48 60 91 27 41 86 95 23 92 17 94 43 96 67 22\n",
      " 45 13 30 55 66 76  1 41 99 32 49  8 42 45 77 62  9 31 59 45 33 80 57 59 20\n",
      " 72 67 36 32 89 66 36 40 56 59  2  5 71 96 49 53 93 88 82 92 41  2 27 83 92\n",
      " 54  1 98 77 23  3 19 10 11 42 51 35 42 53  0 25  8  5 12 46 22 17 90 33 62]\n",
      "Array ordenado:\n",
      " [ 0  1  1  2  2  2  3  5  5  5  8  8  9  9 10 11 12 13 14 17 17 19 20 22 22\n",
      " 22 23 23 23 25 27 27 30 31 32 32 33 33 35 36 36 36 36 40 41 41 41 42 42 42\n",
      " 43 45 45 45 46 48 49 49 51 53 53 54 55 56 57 59 59 59 60 62 62 66 66 67 67\n",
      " 71 72 76 77 77 80 82 83 85 86 86 88 89 90 91 92 92 92 93 94 95 96 96 98 99]\n"
     ]
    }
   ],
   "source": [
    "#Teste do algoritmo de inserção direta com 100 elementos\n",
    "max = qtd = 100 #Quantidade de elementos que serão gerados aleatoriamente\n",
    "arrayRandomico = gerador.randint(0, max+1, qtd) #randint retorna inteiros aleatorio, nesse caso 'qtd' inteiros entre 0 e max \n",
    "print('Array gerado (',qtd, 'numeros ):\\n', arrayRandomico)\n",
    "\n",
    "tempo = time.process_time() #Armazena o tempo de inicio do processamento\n",
    "m = insertion_sort(arrayRandomico) #Ordena o Array e retorna a quantidade de trocas e comparacoes\n",
    "t = time.process_time() - tempo #Salva em t o tempo que o processo levou\n",
    "print('Array ordenado:\\n', arrayRandomico)\n",
    "\n",
    "#Armazenando as informacoes sobre a execucao do algoritmo em um dicionario\n",
    "medicao={}\n",
    "medicao['algoritmo']='IDBL'\n",
    "medicao['tipo']='R'\n",
    "medicao['quantidade'] = qtd\n",
    "medicao['trocas']=m['trocas']\n",
    "medicao['comparacoes']=m['comparacoes']\n",
    "medicao['tempo']=t\n",
    "\n",
    "medicoes.append(medicao) #Adiciona medição em uma lista de medições"
   ]
  },
  {
   "cell_type": "code",
   "execution_count": 74,
   "metadata": {},
   "outputs": [
    {
     "name": "stdout",
     "output_type": "stream",
     "text": [
      "  algoritmo tipo  quantidade  trocas  comparacoes  tempo\n",
      "0      IDBL    R         100    2559           99    0.0\n"
     ]
    }
   ],
   "source": [
    "#Exibe os dados relacionados as execuções do algoritmo de ordenação\n",
    "df = pd.DataFrame(medicoes) #Estrutura de tabela da biblioteca pandas\n",
    "cols = ['algoritmo', 'tipo', 'quantidade', 'trocas', 'comparacoes', 'tempo'] #Colocando as colunas na ordem certa\n",
    "df = df[cols]\n",
    "\n",
    "print(df)"
   ]
  },
  {
   "cell_type": "markdown",
   "metadata": {
    "collapsed": true
   },
   "source": [
    "## Algoritmo de inserção direta com busca binária (binary insertion sort)\n",
    "\n",
    "Implementar um algoritmo de busca binária no insertion sort diminuiria o numero de comparações para log_2(n), porém o custo total do algoritmo continuaria O(n^2) por causa do numero de swaps"
   ]
  },
  {
   "cell_type": "markdown",
   "metadata": {},
   "source": [
    "## Shellsort\n",
    "A analise de desempenho do shellsort é complexa porém usarei os seguintes valores de referencia  \n",
    "Pior caso: O(n^2) (com a pior sequencia de gaps [o 'h' do algoritmo abaixo] conhecida) ou  \n",
    "O(n log_2 n) com a melhor sequencia conhecida)  \n",
    "Melhor caso: O(n log n)"
   ]
  },
  {
   "cell_type": "code",
   "execution_count": 132,
   "metadata": {
    "collapsed": true
   },
   "outputs": [],
   "source": [
    "def shellSort(array):\n",
    "    n = len(array) # n=tamanho do array\n",
    "    h = n//2 # h é a distancia entre cada segmento. O operador // faz a divisao em integer\n",
    "    # Os segmentos sao os \"subarray\" que vao sendo ordenados parcialmente\n",
    "    \n",
    "    while h > 0:\n",
    "        for startPosition in range(h):\n",
    "            insShellSort(array, startPosition, h)\n",
    "            \n",
    "        print('Array parcialmente ordenado com intervalo de', h, ':\\n', array, '\\n')\n",
    "        h = h//2\n",
    "            \n",
    "def insShellSort(array, startPosition, h):\n",
    "    for i in range(startPosition+h, len(array), h): # Vai de startPosition+h ate o tamanho do array pulando de h em h\n",
    "        chave = array[i]\n",
    "        posicao = i\n",
    "        \n",
    "        while (posicao>=h) and (array[posicao-h]>chave): # Se alguma chave do segmento for menor que a mais da direita reordena\n",
    "            array[posicao]=array[posicao-h]\n",
    "            posicao = posicao-h\n",
    "            \n",
    "        array[posicao] = chave"
   ]
  },
  {
   "cell_type": "code",
   "execution_count": 133,
   "metadata": {},
   "outputs": [
    {
     "name": "stdout",
     "output_type": "stream",
     "text": [
      "Aray gerado ( 10 numeros ):\n",
      " [2 3 2 3 2 4 3 7 6 1] \n",
      "\n",
      "Array parcialmente ordenado com intervalo de 5 :\n",
      " [2 3 2 3 1 4 3 7 6 2] \n",
      "\n",
      "Array parcialmente ordenado com intervalo de 2 :\n",
      " [1 2 2 3 2 3 3 4 6 7] \n",
      "\n",
      "Array parcialmente ordenado com intervalo de 1 :\n",
      " [1 2 2 2 3 3 3 4 6 7] \n",
      "\n"
     ]
    }
   ],
   "source": [
    "# Teste do algoritmo shellSort\n",
    "max = qtd = 10 # Quantidade de elementos que serao gerados aleatoriamente\n",
    "arrayRandomico = gerador.randint(0, max+1, qtd) #max+1 pois é um intervalo aberto\n",
    "print('Aray gerado (', qtd, 'numeros ):\\n', arrayRandomico, '\\n')\n",
    "\n",
    "shellSort(arrayRandomico)"
   ]
  },
  {
   "cell_type": "markdown",
   "metadata": {
    "collapsed": true
   },
   "source": [
    "## Quicksort\n",
    "Um dos argumentos mais eficientes  \n",
    "Melhor caso: O(n log n)  \n",
    "Pior caso: O(n^2) - Ocorre quando os pivos selecionados sao ou o maior ou o menor elemento do array"
   ]
  },
  {
   "cell_type": "code",
   "execution_count": 135,
   "metadata": {
    "collapsed": true
   },
   "outputs": [],
   "source": [
    "def quicksort(array, begin=0, end=None): #valores defaults\n",
    "    if end is None: #Caso seja a primeira execução da funcao (primeira em relacao a recursao)\n",
    "            end = len(array) - 1\n",
    "    if end > begin:\n",
    "        pivot = particiona(array, begin, end)\n",
    "        quicksort(array, begin, pivot-1)\n",
    "        quicksort(array, pivot+1, end)\n",
    "        \n",
    "\n",
    "def particiona(array, begin, end):\n",
    "    pivot = begin #seleciona o novo pivo da particao\n",
    "    i = begin + 1 #le o array partindo do começo procurando por um elemento maior que o pivo\n",
    "    j = end #le o array partindo do final procurando um elemento menor que o pivo\n",
    "    \n",
    "    while j > i:\n",
    "        while(array[i]<array[pivot] and i<end):\n",
    "            i += 1\n",
    "        while(array[j]>=array[pivot] and j>begin):\n",
    "            j -= 1\n",
    "        if(j>i and array[i]>array[j]):\n",
    "            array[i], array[j] = array[j],array[i] #swap entre os ponteiros\n",
    "    \n",
    "    if(array[j]<array[pivot]):\n",
    "        array[pivot],array[j] = array[j],array[pivot]\n",
    "        \n",
    "    return j"
   ]
  },
  {
   "cell_type": "code",
   "execution_count": 136,
   "metadata": {},
   "outputs": [
    {
     "name": "stdout",
     "output_type": "stream",
     "text": [
      "Aray gerado ( 10 numeros ):\n",
      " [ 5  6  7  5  8  3  8  4 10  2] \n",
      "\n",
      "Array ordenado com quicksort:  [ 2  3  4  5  5  6  7  8  8 10]\n",
      "\n",
      "Tempo de processamento num array de 100.000 items:  0.921875\n"
     ]
    }
   ],
   "source": [
    "# Teste do algoritmo quicksort\n",
    "max = qtd = 10 # Quantidade de elementos que serao gerados aleatoriamente\n",
    "arrayRandomico = gerador.randint(0, max+1, qtd) #max+1 pois é um intervalo aberto\n",
    "print('Aray gerado (', qtd, 'numeros ):\\n', arrayRandomico, '\\n')\n",
    "\n",
    "quicksort(arrayRandomico)\n",
    "print('Array ordenado com quicksort: ', arrayRandomico)\n",
    "\n",
    "\n",
    "#teste de tempo do quicksort\n",
    "max = qtd = 100000\n",
    "arrayRandomico = gerador.randint(0,max+1, qtd)\n",
    "\n",
    "tempo = time.process_time() #Armazena o tempo de inicio do processamento\n",
    "quicksort(arrayRandomico)\n",
    "t = time.process_time() - tempo #Salva em t o tempo que o processo levou\n",
    "print('\\nTempo de processamento num array de 100.000 items: ', t)"
   ]
  },
  {
   "cell_type": "markdown",
   "metadata": {},
   "source": [
    "## Selection Sort\n",
    "Um algoritmo bem ineficiente porém para fins didaticos será incluido aqui  \n",
    "Melhor caso: O(n^2)  \n",
    "Pior caso: O(n^2)"
   ]
  },
  {
   "cell_type": "code",
   "execution_count": 8,
   "metadata": {},
   "outputs": [],
   "source": [
    "def selectionSort(array): # n é o tamanho do array\n",
    "    for i in range(0, len(array)-1):\n",
    "        menor = i\n",
    "        for j in range((i+1), len(array)):\n",
    "            if(array[j] < array[menor]):\n",
    "                menor = j\n",
    "        if(i != menor):\n",
    "            array[i],array[menor] = array[menor],array[i]"
   ]
  },
  {
   "cell_type": "code",
   "execution_count": 141,
   "metadata": {},
   "outputs": [
    {
     "name": "stdout",
     "output_type": "stream",
     "text": [
      "Array gerado ( 10 numeros ):\n",
      " [ 0  4  7  6  2  2  8 10  7  9] \n",
      "\n",
      "Array ordenado com selectionSort: \n",
      " [ 0  2  2  4  6  7  7  8  9 10]\n",
      "\n",
      "Tempo de processamento num array de 5.000 items:  2.65625\n"
     ]
    }
   ],
   "source": [
    "# Teste do selection sort\n",
    "max = qtd = 10\n",
    "arrayRandomico = gerador.randint(0,max+1, qtd)\n",
    "print('Array gerado (', qtd, 'numeros ):\\n', arrayRandomico, '\\n')\n",
    "\n",
    "selectionSort(arrayRandomico)\n",
    "print('Array ordenado com selectionSort: \\n', arrayRandomico)\n",
    "\n",
    "#teste de tempo\n",
    "max = qtd = 5000\n",
    "arrayRandomico = gerador.randint(0,max+1, qtd)\n",
    "\n",
    "tempo = time.process_time() #Armazena o tempo de inicio do processamento\n",
    "selectionSort(arrayRandomico)\n",
    "t = time.process_time() - tempo #Salva em t o tempo que o processo levou\n",
    "print('\\nTempo de processamento num array de 5.000 items: ', t)"
   ]
  },
  {
   "cell_type": "markdown",
   "metadata": {},
   "source": [
    "## Heapsort\n",
    "Melhor caso: O(n log n)  \n",
    "Pior caso: O(n log n)  \n",
    "  \n",
    "Apesar de ter um pior caso melhor que o pior caso quicksort costuma ser mais lento que o quicksort devido ao fato do pior caso do quicksort ser mais raro"
   ]
  },
  {
   "cell_type": "code",
   "execution_count": 106,
   "metadata": {},
   "outputs": [],
   "source": [
    "#função heapify, que organiza o heap\n",
    "def heapify(array, i, heap_size): #i é o ponto de entrada da função no array\n",
    "    esquerda = (2*i)+1\n",
    "    direita = (2*i)+2\n",
    "    maior = i #colocando o pai na posicao de maior\n",
    "    if((esquerda < heap_size) and (array[esquerda] > array[maior])): #nodo da esquerda é maior\n",
    "        maior = esquerda\n",
    "    if((direita < heap_size) and (array[direita] > array[maior])): #nodo da direita é maior\n",
    "        maior = direita\n",
    "    if(maior != i):\n",
    "        array[i], array[maior] = array[maior], array[i]\n",
    "        heapify(array, maior, heap_size) #heap_size é quantos elementos tem no heap\n",
    "\n",
    "#função build-heap, organiza um array qualquer para ser um heap\n",
    "def buildHeap(array):\n",
    "    heap_size = len(array)\n",
    "    for i in range(int((heap_size/2)-1), -1, -1): #range de heapsize até -1 de -1 em -1\n",
    "        heapify(array, i, heap_size)\n",
    "    return heap_size\n",
    "        \n",
    "#função que implementa o heapsort\n",
    "def heapSort(array):\n",
    "    heap_size = buildHeap(array)\n",
    "    for i in range(heap_size-1, 0, -1):\n",
    "        array[i],array[0] = array[0], array[i]\n",
    "        heapify(array, 0, i)"
   ]
  },
  {
   "cell_type": "code",
   "execution_count": 142,
   "metadata": {},
   "outputs": [
    {
     "name": "stdout",
     "output_type": "stream",
     "text": [
      "Array gerado ( 20 numeros ):\n",
      " [18 16 14  2 12  0 19  3 10 12 19 14  2  8  2  1 16  8  4  2] \n",
      "\n",
      "Array ordenado com selectionSort: \n",
      " [ 0  1  2  2  2  2  3  4  8  8 10 12 12 14 14 16 16 18 19 19]\n",
      "\n",
      "Tempo de processamento num array de 100.000 items:  1.65625\n"
     ]
    }
   ],
   "source": [
    "# Teste do selection sort\n",
    "max = qtd = 20\n",
    "arrayRandomico = gerador.randint(0,max+1, qtd)\n",
    "print('Array gerado (', qtd, 'numeros ):\\n', arrayRandomico, '\\n')\n",
    "\n",
    "heapSort(arrayRandomico)\n",
    "print('Array ordenado com selectionSort: \\n', arrayRandomico)\n",
    "\n",
    "#teste de tempo\n",
    "max = qtd = 100000\n",
    "arrayRandomico = gerador.randint(0,max+1, qtd)\n",
    "\n",
    "tempo = time.process_time() #Armazena o tempo de inicio do processamento\n",
    "heapSort(arrayRandomico)\n",
    "t = time.process_time() - tempo #Salva em t o tempo que o processo levou\n",
    "print('\\nTempo de processamento num array de 100.000 items: ', t)"
   ]
  }
 ],
 "metadata": {
  "kernelspec": {
   "display_name": "Python 3",
   "language": "python",
   "name": "python3"
  },
  "language_info": {
   "codemirror_mode": {
    "name": "ipython",
    "version": 3
   },
   "file_extension": ".py",
   "mimetype": "text/x-python",
   "name": "python",
   "nbconvert_exporter": "python",
   "pygments_lexer": "ipython3",
   "version": "3.6.3"
  }
 },
 "nbformat": 4,
 "nbformat_minor": 2
}
