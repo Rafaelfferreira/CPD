{
 "cells": [
  {
   "cell_type": "markdown",
   "metadata": {},
   "source": [
    "## Limpeza de Dados"
   ]
  },
  {
   "cell_type": "code",
   "execution_count": 4,
   "metadata": {},
   "outputs": [],
   "source": [
    "import pandas as pd\n",
    "import xlrd\n",
    "\n",
    "df = pd.read_excel('Hot Stuff.xlsx')"
   ]
  },
  {
   "cell_type": "code",
   "execution_count": 40,
   "metadata": {},
   "outputs": [
    {
     "name": "stdout",
     "output_type": "stream",
     "text": [
      "Index(['url', 'WeekID', 'Week Position', 'Song', 'Performer', 'SongID',\n",
      "       'Instance', 'Previous Week Position', 'Peak Position',\n",
      "       'Weeks on Chart'],\n",
      "      dtype='object')\n"
     ]
    }
   ],
   "source": [
    "#colunas disponiveis\n",
    "print(df.columns)"
   ]
  },
  {
   "cell_type": "code",
   "execution_count": 30,
   "metadata": {},
   "outputs": [
    {
     "name": "stdout",
     "output_type": "stream",
     "text": [
      "['1990-05-05']\n",
      "['1990-05-12']\n",
      "['1990-05-19']\n",
      "['1990-05-26']\n",
      "['1990-06-02']\n"
     ]
    }
   ],
   "source": [
    "#Comparando um digito apenas com o inteiro especificado\n",
    "for i in range(5):\n",
    "    if (df['WeekID'][i][0] == '1'):\n",
    "        print(df['WeekID'][i].split())"
   ]
  },
  {
   "cell_type": "code",
   "execution_count": 59,
   "metadata": {},
   "outputs": [
    {
     "name": "stdout",
     "output_type": "stream",
     "text": [
      "\"B\" GirlsYoung And Restless : 4\n",
      "A Little LoveCorey Hart : 4\n",
      "All Around The WorldLisa Stansfield : 4\n",
      "All I Wanna Do Is Make Love To YouHeart : 4\n",
      "All My LifeLinda Ronstadt (Featuring Aaron Neville) : 3\n",
      "All That Glitters Isn't GoldThe Cover Girls : 4\n",
      "AlrightJanet Jackson : 4\n",
      "Always And ForeverWhistle : 4\n",
      "Baby, It's TonightJude Cole : 4\n",
      "Bad Of The HeartGeorge LaMond : 3\n",
      "Black VelvetAlannah Myles : 4\n",
      "Blues Before And AfterThe Smithereens : 2\n",
      "Bounce BackAlisha : 1\n",
      "Children Of The NightRichard Marx : 4\n",
      "Club At The End Of The StreetElton John : 4\n",
      "C'mon And Get My LoveD-Mob Introducing Cathy Dennis : 1\n",
      "Coming Of AgeDamn Yankees : 4\n",
      "Counting The DaysJoey Kid : 4\n",
      "Cradle Of Love (From \"Ford Fairlane\")Billy Idol : 4\n",
      "Cruising For BruisingBasia : 4\n",
      "Cuts You UpPeter Murphy : 3\n",
      "DangerousRoxette : 1\n",
      "Dare To Fall In LoveBrent Bourgeois : 4\n",
      "Deadbeat ClubThe B-52s : 4\n",
      "Do You Remember?Phil Collins : 4\n",
      "Don't Wanna Fall In LoveJane Child : 4\n",
      "Doubleback (From \"Back To The Future Part III\")ZZ Top : 2\n",
      "Drag My Bad Name DownThe 4 Of Us : 3\n",
      "Dub Be Good To MeBeats International : 2\n",
      "Enjoy The SilenceDepeche Mode : 4\n",
      "EscapadeJanet Jackson : 2\n",
      "ExpressionSalt-N-Pepa : 4\n",
      "ForeverKISS : 4\n",
      "Get A LifeSoul II Soul : 4\n",
      "Get Up! (Before The Night Is Over)Technotronic : 4\n",
      "Getting Away With ItElectronic : 4\n",
      "Girls Nite OutTyler Collins : 4\n",
      "Got To Tell Me SomethingAna : 2\n",
      "Have A HeartBonnie Raitt : 1\n",
      "Heart Of StoneCher : 2\n",
      "HeartbeatSeduction : 4\n",
      "Heaven Is A 4 Letter WordBad English : 4\n",
      "Here And NowLuther Vandross : 4\n",
      "Here We AreGloria Estefan : 1\n",
      "Hide And SeekPajama Party : 2\n",
      "Hold OnEn Vogue : 4\n",
      "Hold OnWilson Phillips : 4\n",
      "House Of PainFaster Pussycat : 4\n",
      "How 'Bout Us (From \"True Love\")Grayson Hugh & Betty Wright : 2\n",
      "How Can We Be LoversMichael Bolton : 4\n",
      "Hurting Kind (I've Got My Eyes On You)Robert Plant : 4\n",
      "I Wanna Be RichCalloway : 4\n",
      "I Wish It Would Rain DownPhil Collins : 4\n",
      "If U Were MineThe U-Krew : 4\n",
      "I'll Be Your EverythingTommy Page : 4\n",
      "I'll Be Your ShelterTaylor Dayne : 4\n",
      "I'll See You In My DreamsGiant : 4\n",
      "It Must Have Been Love (From \"Pretty Woman\")Roxette : 4\n",
      "Jealous AgainThe Black Crowes : 3\n",
      "Just A FriendBiz Markie : 4\n",
      "King Of Wishful Thinking (From \"Pretty Woman\")Go West : 2\n",
      "Kiss This Thing GoodbyeDel Amitri : 2\n",
      "LambadaKaoma : 3\n",
      "Love ChildSweet Sensation : 4\n",
      "Love IsAlannah Myles : 4\n",
      "Love Me For LifeStevie B : 1\n",
      "Love Will Lead You BackTaylor Dayne : 4\n",
      "Make It Like It WasRegina Belle : 1\n",
      "MentirosaMellow Man Ace : 3\n",
      "Moonlight On WaterLaura Branigan : 4\n",
      "NicetyMichel'le : 4\n",
      "Nick Of TimeBonnie Raitt : 2\n",
      "No More LiesMichel'le : 4\n",
      "Nothing Compares 2 USinead O'Connor : 4\n",
      "Notice MeNikki : 4\n",
      "Only My Heart Talkin'Alice Cooper : 2\n",
      "Ooh La La (I Can't Get Over You)Perfect Gentlemen : 4\n",
      "Opposites AttractPaula Abdul (Duet With The Wild Pair) : 3\n",
      "Oye Mi Canto (Hear My Voice)Gloria Estefan : 3\n",
      "Pictures Of YouThe Cure : 4\n",
      "PoisonBell Biv DeVoe : 4\n",
      "PureLightning Seeds : 2\n",
      "Ready Or NotAfter 7 : 4\n",
      "RoamThe B-52s : 1\n",
      "Room At The TopAdam Ant : 4\n",
      "Rub You The Right WayJohnny Gill : 3\n",
      "SacrificeElton John : 1\n",
      "Save MeFleetwood Mac : 4\n",
      "Sending All My LoveLinear : 4\n",
      "ShakeAndrew Ridgeley : 3\n",
      "She Ain't Worth ItGlenn Medeiros Featuring Bobby Brown : 2\n",
      "Show MeHoward Hewett : 1\n",
      "Sittin' In The Lap Of LuxuryLouie Louie : 4\n",
      "Spin That WheelHi Tek 3 Featuring Ya Kid K : 4\n",
      "Step By StepNew Kids On The Block : 1\n",
      "That's The Way Of The WorldD-Mob With Cathy Dennis : 4\n",
      "The Ballad Of JayneL.A. Guns : 4\n",
      "The Downeaster \"Alexa\"Billy Joel : 4\n",
      "The Heart Of The MatterDon Henley : 4\n",
      "The Humpty DanceDigital Underground : 4\n",
      "The PowerSnap! : 3\n",
      "The Secret GardenQuincy Jones : 4\n",
      "The Way It IsTesla : 4\n",
      "This & ThatMichael Penn : 4\n",
      "This Old Heart Of MineRod Stewart With Ronald Isley : 4\n",
      "Time After TimeTimmy T. : 4\n",
      "Tomorrow (A Better You, Better Me)Quincy Jones With Tevin Campbell : 1\n",
      "Try To Find MeGorky Park : 4\n",
      "Turtle PowerPartners In Kryme : 4\n",
      "U Can't Touch ThisM.C. Hammer : 4\n",
      "Up All NightSlaughter : 4\n",
      "VogueMadonna : 4\n",
      "What It TakesAerosmith : 4\n",
      "When I Dream Of YouTommy Page : 3\n",
      "When I'm Back On My Feet AgainMichael Bolton : 1\n",
      "When Something Is Wrong With My BabyLinda Ronstadt (Featuring Aaron Neville) : 3\n",
      "Whip AppealBabyface : 4\n",
      "Whole Wide World (From \"True Love\")A'me Lorain : 4\n",
      "Without YouMotley Crue : 4\n",
      "You Can't Deny ItLisa Stansfield : 1\n",
      "Your Baby Never Looked Good In BlueExpose : 4\n"
     ]
    }
   ],
   "source": [
    "#vai contar o quao popular foi a musica no ano atribuindo pontos a quantas semanas ela ficou entre as mais tocadas\n",
    "contador = {}\n",
    "\n",
    "#testando se o char especificado esta na entrada atual\n",
    "#pode ser usado para identificar anos diferentes\n",
    "counter = 0\n",
    "for i in range(len(df)):\n",
    "    if '1990-05-' in df['WeekID'][i]: #filtra todas as entradas por ano\n",
    "        counter += 1\n",
    "        if(df['SongID'][i] in contador): #testa se a musica ja esta no dicionario (ja foi computada)\n",
    "            contador[df['SongID'][i]] += 1\n",
    "        else: #cai aqui se ainda nao foi computada\n",
    "            contador[df['SongID'][i]] = 1\n",
    "        \n",
    "for x in contador:\n",
    "    print(x, ':', contador[x])"
   ]
  },
  {
   "cell_type": "code",
   "execution_count": null,
   "metadata": {
    "collapsed": true
   },
   "outputs": [],
   "source": []
  }
 ],
 "metadata": {
  "kernelspec": {
   "display_name": "Python 3",
   "language": "python",
   "name": "python3"
  },
  "language_info": {
   "codemirror_mode": {
    "name": "ipython",
    "version": 3
   },
   "file_extension": ".py",
   "mimetype": "text/x-python",
   "name": "python",
   "nbconvert_exporter": "python",
   "pygments_lexer": "ipython3",
   "version": "3.6.1"
  }
 },
 "nbformat": 4,
 "nbformat_minor": 2
}
