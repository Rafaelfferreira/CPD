{
 "cells": [
  {
   "cell_type": "code",
   "execution_count": 62,
   "metadata": {},
   "outputs": [],
   "source": [
    "import pandas as pd\n",
    "import xlrd\n",
    "import pickle #modulo usado para serializar dados para o arquivo binario\n",
    "import os\n",
    "import time\n",
    "\n",
    "df = pd.read_excel('Hot Stuff.xlsx')"
   ]
  },
  {
   "cell_type": "code",
   "execution_count": 63,
   "metadata": {},
   "outputs": [
    {
     "ename": "KeyboardInterrupt",
     "evalue": "",
     "output_type": "error",
     "traceback": [
      "\u001b[0;31m---------------------------------------------------------------------------\u001b[0m",
      "\u001b[0;31mKeyboardInterrupt\u001b[0m                         Traceback (most recent call last)",
      "\u001b[0;32m<ipython-input-63-715b2362c7fe>\u001b[0m in \u001b[0;36m<module>\u001b[0;34m\u001b[0m\n\u001b[1;32m     12\u001b[0m         \u001b[0mcontador\u001b[0m \u001b[0;34m=\u001b[0m \u001b[0;34m{\u001b[0m\u001b[0;34m}\u001b[0m\u001b[0;34m\u001b[0m\u001b[0m\n\u001b[1;32m     13\u001b[0m         \u001b[0;32mfor\u001b[0m \u001b[0mi\u001b[0m \u001b[0;32min\u001b[0m \u001b[0mrange\u001b[0m\u001b[0;34m(\u001b[0m\u001b[0mlen\u001b[0m\u001b[0;34m(\u001b[0m\u001b[0mdf\u001b[0m\u001b[0;34m)\u001b[0m\u001b[0;34m)\u001b[0m\u001b[0;34m:\u001b[0m\u001b[0;34m\u001b[0m\u001b[0m\n\u001b[0;32m---> 14\u001b[0;31m             \u001b[0;32mif\u001b[0m \u001b[0;34m(\u001b[0m\u001b[0mstr\u001b[0m\u001b[0;34m(\u001b[0m\u001b[0mano\u001b[0m\u001b[0;34m)\u001b[0m \u001b[0;34m+\u001b[0m \u001b[0;34m'-'\u001b[0m \u001b[0;34m+\u001b[0m \u001b[0mmes\u001b[0m \u001b[0;34m+\u001b[0m \u001b[0;34m'-'\u001b[0m\u001b[0;34m)\u001b[0m \u001b[0;32min\u001b[0m \u001b[0mdf\u001b[0m\u001b[0;34m[\u001b[0m\u001b[0;34m'WeekID'\u001b[0m\u001b[0;34m]\u001b[0m\u001b[0;34m[\u001b[0m\u001b[0mi\u001b[0m\u001b[0;34m]\u001b[0m\u001b[0;34m:\u001b[0m \u001b[0;31m#filtra todas as entradas por ano E mes nesse caso (Maio de 1990)\u001b[0m\u001b[0;34m\u001b[0m\u001b[0m\n\u001b[0m\u001b[1;32m     15\u001b[0m                 \u001b[0;32mif\u001b[0m\u001b[0;34m(\u001b[0m\u001b[0mdf\u001b[0m\u001b[0;34m[\u001b[0m\u001b[0;34m'SongID'\u001b[0m\u001b[0;34m]\u001b[0m\u001b[0;34m[\u001b[0m\u001b[0mi\u001b[0m\u001b[0;34m]\u001b[0m \u001b[0;32min\u001b[0m \u001b[0mcontador\u001b[0m\u001b[0;34m)\u001b[0m\u001b[0;34m:\u001b[0m \u001b[0;31m#testa se a musica ja esta no dicionario (ja foi computada)\u001b[0m\u001b[0;34m\u001b[0m\u001b[0m\n\u001b[1;32m     16\u001b[0m                     \u001b[0mcontador\u001b[0m\u001b[0;34m[\u001b[0m\u001b[0mdf\u001b[0m\u001b[0;34m[\u001b[0m\u001b[0;34m'SongID'\u001b[0m\u001b[0;34m]\u001b[0m\u001b[0;34m[\u001b[0m\u001b[0mi\u001b[0m\u001b[0;34m]\u001b[0m\u001b[0;34m]\u001b[0m\u001b[0;34m[\u001b[0m\u001b[0;34m'Pontos'\u001b[0m\u001b[0;34m]\u001b[0m \u001b[0;34m+=\u001b[0m \u001b[0;34m(\u001b[0m\u001b[0;36m101\u001b[0m \u001b[0;34m-\u001b[0m \u001b[0mdf\u001b[0m\u001b[0;34m[\u001b[0m\u001b[0;34m'Week Position'\u001b[0m\u001b[0;34m]\u001b[0m\u001b[0;34m[\u001b[0m\u001b[0mi\u001b[0m\u001b[0;34m]\u001b[0m\u001b[0;34m)\u001b[0m\u001b[0;34m\u001b[0m\u001b[0m\n",
      "\u001b[0;31mKeyboardInterrupt\u001b[0m: "
     ]
    }
   ],
   "source": [
    "#esta celula calcula o quao popular foi uma musica no mes especificado (Maio de 1990) atribuindo um sistema de pontos baseado em que posicao ela ficou no top 100 em cada semana do mês\n",
    "#vai contar o quao popular foi a musica no ano atribuindo pontos a quantas semanas ela ficou entre as mais tocadas\n",
    "contador = {}\n",
    "\n",
    "#testando se o char especificado esta na entrada atual\n",
    "#pode ser usado para identificar anos diferentes\n",
    "ano = '2010'\n",
    "meses = ['01','02','03','04','05','06','07','08','09','10','11','12']\n",
    "tempo = time.process_time() #Armazena o tempo de inicio do processamento\n",
    "for ano in range(1960,2016):\n",
    "    for mes in meses:\n",
    "        contador = {}\n",
    "        for i in range(len(df)):\n",
    "            if (str(ano) + '-' + mes + '-') in df['WeekID'][i]: #filtra todas as entradas por ano E mes nesse caso (Maio de 1990)\n",
    "                if(df['SongID'][i] in contador): #testa se a musica ja esta no dicionario (ja foi computada)\n",
    "                    contador[df['SongID'][i]]['Pontos'] += (101 - df['Week Position'][i])\n",
    "                else: #cai aqui se ainda nao foi computada\n",
    "                    contador[df['SongID'][i]] = {}\n",
    "                    contador[df['SongID'][i]]['Artista'] = df['Performer'][i]\n",
    "                    contador[df['SongID'][i]]['Titulo'] = df['Song'][i]\n",
    "                    contador[df['SongID'][i]]['Ano'] = ano\n",
    "                    contador[df['SongID'][i]]['Mes'] = mes\n",
    "                    contador[df['SongID'][i]]['Pontos'] = (101 - df['Week Position'][i])\n",
    "                    #A medida 'Peak' nao eh a posicao exata que ela atingiu mas os \"pontos maximos\" ganhos em uma semana (de 1 a 100)\n",
    "                    contador[df['SongID'][i]]['Peak'] = (101 - df['Peak Position'][i]) #salva qual foi a maior posicao alcançada pela musica (usada para criterios de desempate)\n",
    "                    contador[df['SongID'][i]]['Semanas'] = df['Weeks on Chart'][i] #Terceiro criterio de desempate\n",
    "                \n",
    "        #Faz o sort do mes atual\n",
    "        items = sorted(contador.items(), key = lambda tup: (tup[1][\"Pontos\"], tup[1][\"Peak\"], tup[1][\"Semanas\"]), reverse=True)\n",
    "    \n",
    "        #armazena as primeiras 100 entradas em um dicionário mais organizado\n",
    "        top = [dict() for x in range(100)] #cria uma lista de 100 dicionarios\n",
    "        for i in range(len(top)):\n",
    "            for y in items[i][1]:\n",
    "                top[i][y] = items[i][1][y]\n",
    "                \n",
    "        #Concatena o dicionario no arquivo teste.bin\n",
    "        filename = 'teste.bin'\n",
    "        topBytes = []\n",
    "    \n",
    "        if os.path.exists(filename): #confere se o arquivo existe\n",
    "            with open(filename,'rb') as openfile:  #with automaticamente da um close() no final\n",
    "                topBytes = pickle.load(openfile)\n",
    "\n",
    "\n",
    "        newData = top #Aqui vem a nova data que deve ser concatenada\n",
    "        \n",
    "        topBytes = topBytes + newData #concatena o que ja tinha no arquivo binario com a nova data\n",
    "        with (open(filename, 'wb+')) as openfile: #abre o arquivo de teste no modo de leitura binaria 'wb' como openfile\n",
    "            pickle.dump(topBytes, openfile) \n",
    "        \n",
    "        #Cria o arquivo de indice para consultas    \n",
    "        filename = 'indices.bin'\n",
    "        fileBytes = []\n",
    "\n",
    "        if os.path.exists(filename): #confere se o arquivo existe\n",
    "            with open(filename,'rb') as openfile:  #with automaticamente da um close() no final\n",
    "                fileBytes = pickle.load(openfile)\n",
    "\n",
    "\n",
    "        newData = {'Ano': ano, 'Mes': mes, 'Min': len(topBytes) - 100, 'Max': len(topBytes) - 1} #Aqui vem a nova data que deve ser concatenada\n",
    "        \n",
    "        fileBytes.append(newData)#concatena o que ja tinha no arquivo binario com a nova data\n",
    "        with (open(filename, 'wb+')) as openfile: #abre o arquivo de teste no modo de leitura binaria 'wb' como openfile\n",
    "            pickle.dump(fileBytes, openfile) \n",
    "            \n",
    "t = time.process_time() - tempo #Salva em t o tempo que o processo levou"
   ]
  },
  {
   "cell_type": "code",
   "execution_count": 64,
   "metadata": {},
   "outputs": [],
   "source": [
    "#Faz a leitura do arquivo de registros\n",
    "with (open('teste.bin', 'rb')) as openfile:\n",
    "    leitura = pickle.load(openfile)\n",
    "    \n",
    "with (open('indices.bin', 'rb')) as openfile:\n",
    "    indices = pickle.load(openfile)"
   ]
  },
  {
   "cell_type": "code",
   "execution_count": 65,
   "metadata": {},
   "outputs": [
    {
     "name": "stdout",
     "output_type": "stream",
     "text": [
      "{'Ano': 1960, 'Mes': '01', 'Min': 0, 'Max': 99}\n",
      "{'Ano': 1960, 'Mes': '02', 'Min': 100, 'Max': 199}\n",
      "{'Ano': 1960, 'Mes': '03', 'Min': 200, 'Max': 299}\n",
      "{'Ano': 1960, 'Mes': '04', 'Min': 300, 'Max': 399}\n",
      "{'Ano': 1960, 'Mes': '05', 'Min': 400, 'Max': 499}\n",
      "{'Ano': 1960, 'Mes': '06', 'Min': 500, 'Max': 599}\n",
      "{'Ano': 1960, 'Mes': '07', 'Min': 600, 'Max': 699}\n",
      "{'Ano': 1960, 'Mes': '08', 'Min': 700, 'Max': 799}\n",
      "{'Ano': 1960, 'Mes': '09', 'Min': 800, 'Max': 899}\n",
      "{'Ano': 1960, 'Mes': '10', 'Min': 900, 'Max': 999}\n",
      "{'Ano': 1960, 'Mes': '11', 'Min': 1000, 'Max': 1099}\n",
      "{'Ano': 1960, 'Mes': '12', 'Min': 1100, 'Max': 1199}\n",
      "{'Ano': 1961, 'Mes': '01', 'Min': 1200, 'Max': 1299}\n",
      "{'Ano': 1961, 'Mes': '02', 'Min': 1300, 'Max': 1399}\n",
      "{'Ano': 1961, 'Mes': '03', 'Min': 1400, 'Max': 1499}\n",
      "{'Ano': 1961, 'Mes': '04', 'Min': 1500, 'Max': 1599}\n",
      "{'Ano': 1961, 'Mes': '05', 'Min': 1600, 'Max': 1699}\n",
      "{'Ano': 1961, 'Mes': '06', 'Min': 1700, 'Max': 1799}\n",
      "{'Ano': 1961, 'Mes': '07', 'Min': 1800, 'Max': 1899}\n",
      "{'Ano': 1961, 'Mes': '08', 'Min': 1900, 'Max': 1999}\n",
      "{'Ano': 1961, 'Mes': '09', 'Min': 2000, 'Max': 2099}\n",
      "{'Ano': 1961, 'Mes': '10', 'Min': 2100, 'Max': 2199}\n",
      "{'Ano': 1961, 'Mes': '11', 'Min': 2200, 'Max': 2299}\n",
      "{'Ano': 1961, 'Mes': '12', 'Min': 2300, 'Max': 2399}\n",
      "{'Ano': 1962, 'Mes': '01', 'Min': 2400, 'Max': 2499}\n",
      "{'Ano': 1962, 'Mes': '02', 'Min': 2500, 'Max': 2599}\n",
      "{'Ano': 1962, 'Mes': '03', 'Min': 2600, 'Max': 2699}\n",
      "{'Ano': 1962, 'Mes': '04', 'Min': 2700, 'Max': 2799}\n",
      "{'Ano': 1962, 'Mes': '05', 'Min': 2800, 'Max': 2899}\n",
      "{'Ano': 1962, 'Mes': '06', 'Min': 2900, 'Max': 2999}\n",
      "{'Ano': 1962, 'Mes': '07', 'Min': 3000, 'Max': 3099}\n"
     ]
    }
   ],
   "source": [
    "for i in indices:\n",
    "    print(i)"
   ]
  },
  {
   "cell_type": "code",
   "execution_count": 18,
   "metadata": {},
   "outputs": [
    {
     "name": "stdout",
     "output_type": "stream",
     "text": [
      "5500\n"
     ]
    }
   ],
   "source": [
    "print(len(leitura))"
   ]
  },
  {
   "cell_type": "markdown",
   "metadata": {},
   "source": [
    "### Teste da relação\n",
    "consultando o indice inicial de um dado ano no arquivo indice e imprimindo os 5 mais populares daquele ano"
   ]
  },
  {
   "cell_type": "code",
   "execution_count": 19,
   "metadata": {},
   "outputs": [
    {
     "name": "stdout",
     "output_type": "stream",
     "text": [
      "{'Artista': 'John Legend', 'Titulo': 'All Of Me', 'Ano': 2014, 'Pontos': 4069, 'Peak': 100, 'Semanas': 59}\n",
      "{'Artista': 'Pharrell Williams', 'Titulo': 'Happy', 'Ano': 2014, 'Pontos': 3898, 'Peak': 100, 'Semanas': 47}\n",
      "{'Artista': 'Katy Perry Featuring Juicy J', 'Titulo': 'Dark Horse', 'Ano': 2014, 'Pontos': 3816, 'Peak': 100, 'Semanas': 57}\n",
      "{'Artista': 'OneRepublic', 'Titulo': 'Counting Stars', 'Ano': 2014, 'Pontos': 3373, 'Peak': 99, 'Semanas': 68}\n",
      "{'Artista': 'Iggy Azalea Featuring Charli XCX', 'Titulo': 'Fancy', 'Ano': 2014, 'Pontos': 2993, 'Peak': 100, 'Semanas': 39}\n"
     ]
    }
   ],
   "source": [
    "start = 0\n",
    "\n",
    "for x in indices:\n",
    "    if x['Ano'] == 2014:\n",
    "        start = x['Min']\n",
    " \n",
    "for i in range(5):\n",
    "    print(leitura[start + i])"
   ]
  },
  {
   "cell_type": "code",
   "execution_count": 66,
   "metadata": {},
   "outputs": [
    {
     "name": "stdout",
     "output_type": "stream",
     "text": [
      "1233.615231867\n"
     ]
    }
   ],
   "source": [
    "print(tempo)"
   ]
  }
 ],
 "metadata": {
  "kernelspec": {
   "display_name": "Python 3",
   "language": "python",
   "name": "python3"
  },
  "language_info": {
   "codemirror_mode": {
    "name": "ipython",
    "version": 3
   },
   "file_extension": ".py",
   "mimetype": "text/x-python",
   "name": "python",
   "nbconvert_exporter": "python",
   "pygments_lexer": "ipython3",
   "version": "3.6.4"
  }
 },
 "nbformat": 4,
 "nbformat_minor": 2
}
