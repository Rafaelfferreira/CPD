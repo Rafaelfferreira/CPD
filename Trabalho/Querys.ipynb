{
 "cells": [
  {
   "cell_type": "markdown",
   "metadata": {},
   "source": [
    "#### Importando as bibliotecas"
   ]
  },
  {
   "cell_type": "code",
   "execution_count": 16,
   "metadata": {
    "collapsed": true
   },
   "outputs": [],
   "source": [
    "import pandas as pd\n",
    "import xlrd\n",
    "import pickle #modulo usado para serializar dados para o arquivo binario\n",
    "import os\n",
    "import time\n",
    "import copy\n",
    "from unicodedata import normalize"
   ]
  },
  {
   "cell_type": "markdown",
   "metadata": {},
   "source": [
    "#### Criando as funções necessárias para acessar as árvores TRIE"
   ]
  },
  {
   "cell_type": "code",
   "execution_count": 17,
   "metadata": {
    "collapsed": true
   },
   "outputs": [],
   "source": [
    "class TrieNode(object):\n",
    "\n",
    "    \n",
    "    def __init__(self, char: str):   # __init__ é um método especial para fazer construtores\n",
    "        self.char = char   # caractere do nodo atual\n",
    "        self.filhos = []   # nodos filhos\n",
    "        self.pFinalizada = False   # se é o último nodo e a palavra terminou\n",
    "        self.indices = []   # lista vazia para nodos que não são término de palavra\n",
    "        ### não é um índice único e sim uma lista, pois podem existir títulos de música repetidos com mais de um artista\n",
    "\n",
    "\n",
    "#Definindo função que localiza uma string na arvore\n",
    "def findString(select, dados, raiz, palavra: str) -> (bool, []):\n",
    "    \"\"\"\n",
    "      1. Se a palavra existe e tem algum índice associado, retorna verdadeiro e a lista de índices dela\n",
    "      2. Se a palavra não existe, retorna falso e uma lista com sugestões de palavras\n",
    "      \n",
    "      Sendo o parâmetro select utilizada para indicar se a busca é por artista ou música (0 música, 1 artista)\n",
    "    \"\"\"\n",
    "    palavra = formataString(palavra)   # formata string de entrada para o padrão (todas as letras maiúsculas sem acento)\n",
    "    nodo = raiz\n",
    "    stringSugerida = \"\"  # guarda os caracteres já encontrados para sugerir os próximos\n",
    "    \n",
    "    if not raiz.filhos:   # se o nodo raiz não tiver nenhum filho, trivial, retorna falso\n",
    "        return False, []\n",
    "    for char in palavra:\n",
    "        charNaoEncontrado = True\n",
    "        for filho in nodo.filhos:\n",
    "            if filho.char == char:\n",
    "                charNaoEncontrado = False   # assinala que o char foi encontrado\n",
    "                stringSugerida = stringSugerida+char\n",
    "                nodo = filho   # passa iteração para o nodo filho\n",
    "                break\n",
    "        \n",
    "        if charNaoEncontrado:   # chama a função que procura sugestões e retorna a tupla (False, lista de sugestões)\n",
    "            return False, sugereStrings(select, dados, nodo, stringSugerida, 15)\n",
    "    \n",
    "    # Caso passe por todos os caracteres sem retornar false, então significa que a palavra foi encontrada\n",
    "    # Resta saber se aquele nodo é um nodo final com um índice associado\n",
    "    if nodo.pFinalizada:\n",
    "        return True, nodo.indices\n",
    "    else:\n",
    "        return False, sugereStrings(select, dados, nodo, stringSugerida, 15)\n",
    "    \n",
    "# Função que formata string desconsiderando maiúsculas e minúsculas e que remove acentos\n",
    "def formataString(string):\n",
    "    string = normalize('NFKD', string).encode('ASCII', 'ignore').decode('ASCII')\n",
    "    return string.upper()\n",
    "\n",
    "def sugereStrings(select, dados, nodo, string, maxSugestoes):   # onde select igual a 1 significa que se procura um artista e False, música\n",
    "        listaDeSugestoes = []   # cria lista vazia para adicionarmos as sugestões\n",
    "        procuraSugestoes(nodo, string, listaDeSugestoes)   # chama a função que percorre a trie procurando sugestões\n",
    "        \n",
    "        itera = copy.deepcopy(listaDeSugestoes)   # utilizado para iteração na lista que está sendo modificada enquanto o loop itera\n",
    "        \n",
    "        # substitui os indices pelos títulos\n",
    "        for indice in itera:\n",
    "            listaDeSugestoes.remove(indice)   # remove o índice \n",
    "            if select:\n",
    "                listaDeSugestoes.append(dados[indice]['Artista']) \n",
    "            else:\n",
    "                listaDeSugestoes.append(dados[indice]['Titulo']) \n",
    "            \n",
    "        \n",
    "        listaDeSugestoes = sorted(listaDeSugestoes)   # ordena a lista alfabeticamente\n",
    "        return listaDeSugestoes[:maxSugestoes]   # retorna apenas os n elementos da lista definidos por maxSugestoes\n",
    "\n",
    "    \n",
    "# função que dado um nodo, uma parte correta de uma string (que existe na TRIE), uma lista de sugestoes, retorna uma lista de sugestões\n",
    "def procuraSugestoes(nodo, string, listaDeSugestoes):\n",
    "        \n",
    "        if nodo.pFinalizada:   \n",
    "            listaDeSugestoes.append(nodo.indices[0])   # adiciona nova sugestão na lista\n",
    "        \n",
    "        for filho in nodo.filhos:            \n",
    "            procuraSugestoes(filho, string+filho.char, listaDeSugestoes)   # recursão para cada filho \n",
    "\n",
    "        return        "
   ]
  },
  {
   "cell_type": "markdown",
   "metadata": {},
   "source": [
    "#### Fazendo a leitura dos arquivos"
   ]
  },
  {
   "cell_type": "code",
   "execution_count": 18,
   "metadata": {},
   "outputs": [],
   "source": [
    "#Faz a leitura do arquivo de registros\n",
    "with (open('database.bin', 'rb')) as openfile:\n",
    "    database = pickle.load(openfile)\n",
    "    \n",
    "#Leitura do arquivo de indices de anos\n",
    "with (open('indices.bin', 'rb')) as openfile:\n",
    "    indices = pickle.load(openfile)\n",
    "\n",
    "#Leitura do arquivo com a arvore TRIE de titulos de musicas\n",
    "with open('trieMusicas.bin','rb') as openfile:\n",
    "    trieMusicas = pickle.load(openfile)\n",
    "        \n",
    "#Leitura do arquivo com a arvore TRIE de nomes de artistas\n",
    "with open('trieArtistas.bin','rb') as openfile:\n",
    "    trieArtistas = pickle.load(openfile)"
   ]
  },
  {
   "cell_type": "markdown",
   "metadata": {},
   "source": [
    "## Definição das Querys"
   ]
  },
  {
   "cell_type": "markdown",
   "metadata": {},
   "source": [
    "#### Query que retorna um numero N de pesquisas em ordem de relevancia, filtrando por artista/ano opcionalmente\n",
    "###### Opcional: Depois criar um algoritmo que tente achar se tem mais de uma musica do mesmo artista em um ano"
   ]
  },
  {
   "cell_type": "code",
   "execution_count": 19,
   "metadata": {
    "collapsed": true
   },
   "outputs": [],
   "source": [
    "def relevancia(dados, top, ano=None, artista=None):    \n",
    "    #Retornando de um determinado ano\n",
    "    if(ano != None and artista == None):\n",
    "        #Consultando do arquivo de indices qual o index inicial do ano que o usuario entrou\n",
    "        for x in indices:\n",
    "            if x['Ano'] == ano:\n",
    "                comeco = x['Min']\n",
    "        for i in range(comeco, comeco+top):\n",
    "            print(dados[i])\n",
    "            \n",
    "    #Retornando de um determinado artista\n",
    "    if(artista != None and ano == None):\n",
    "        indicesArtista = findString(1, dados, trieArtistas, artista)[1] #retorna os indices do arquivo principal com registros do artista\n",
    "        listaMusicas2 = []\n",
    "        for i in indicesArtista:\n",
    "            listaMusicas2.append(dados[i])\n",
    "\n",
    "        listaMusicas = copy.deepcopy(listaMusicas2) #Faz uma copia de lista2 para lista, pq lista2 so referencia os registros de dados ao inves de criar eles novamente\n",
    "        \n",
    "        for i in range(len(listaMusicas)-1):\n",
    "            for j in range(i+1, len(listaMusicas)-1):\n",
    "                #print(j)\n",
    "                if(listaMusicas[i]['Titulo'] == listaMusicas[j]['Titulo']):\n",
    "                    listaMusicas[i]['Pontos'] = listaMusicas[i]['Pontos'] + listaMusicas[j]['Pontos']\n",
    "                    listaMusicas.pop(j)\n",
    "        \n",
    "        listaMusicas = sorted(listaMusicas, key = lambda tup: (tup[\"Pontos\"]), reverse=True)\n",
    "        \n",
    "        if(len(listaMusicas) < top): #Faz com que a query retorne apenas o numero de entradas pedido na variavel top\n",
    "            top = len(listaMusicas) - 1\n",
    "            \n",
    "        for i in range(top):\n",
    "            print(listaMusicas[i])    \n",
    "            \n",
    "    #Retorna o top geral\n",
    "    if(ano == None and artista == None):\n",
    "        for i in range(top):\n",
    "            print(dados[topGeral[i]['Indice']])\n",
    "        \n",
    "    #Retorna o top dos artistas em determinado ano\n",
    "    if(artista != None and ano != None):\n",
    "        #Faz o mesmo procedimento que a busca por artista\n",
    "        indicesArtista = findString(1, dados, trieArtistas, artista)[1] #retorna os indices do arquivo principal com registros do artista\n",
    "        listaMusicas2 = []\n",
    "        for i in indicesArtista:\n",
    "            listaMusicas2.append(dados[i])\n",
    "\n",
    "        listaMusicas = copy.deepcopy(listaMusicas2) #Faz uma copia de lista2 para lista, pq lista2 so referencia os registros de dados ao inves de criar eles novamente\n",
    "        \n",
    "        for i in range(len(listaMusicas)-1):\n",
    "            for j in range(i+1, len(listaMusicas)-1):\n",
    "                #print(j)\n",
    "                if(listaMusicas[i]['Titulo'] == listaMusicas[j]['Titulo']):\n",
    "                    listaMusicas[i]['Pontos'] = listaMusicas[i]['Pontos'] + listaMusicas[j]['Pontos']\n",
    "                    listaMusicas.pop(j)\n",
    "        \n",
    "        listaMusicas = sorted(listaMusicas, key = lambda tup: (tup[\"Pontos\"]), reverse=True)\n",
    "        \n",
    "        listaMusicasAno = [] #Lista com as musicas do artista no ano pedido\n",
    "        \n",
    "        for i in range(len(listaMusicas)):\n",
    "            if(listaMusicas[i]['Ano'] == ano):\n",
    "                listaMusicasAno.append(listaMusicas[i])\n",
    "            \n",
    "        if(len(listaMusicasAno) < top):\n",
    "            top = len(listaMusicasAno)\n",
    "            \n",
    "        for i in range(top):\n",
    "            print(listaMusicasAno[i])   "
   ]
  },
  {
   "cell_type": "code",
   "execution_count": 20,
   "metadata": {},
   "outputs": [
    {
     "name": "stdout",
     "output_type": "stream",
     "text": [
      "{'Artista': 'Katy Perry Featuring Kanye West', 'Titulo': 'E.T.', 'Ano': 2011, 'Pontos': 2601, 'Peak': 100, 'Semanas': 30}\n",
      "{'Artista': 'Katy Perry', 'Titulo': 'Last Friday Night (T.G.I.F.)', 'Ano': 2011, 'Pontos': 1960, 'Peak': 100, 'Semanas': 24}\n",
      "{'Artista': 'Katy Perry', 'Titulo': 'The One That Got Away', 'Ano': 2011, 'Pontos': 1897, 'Peak': 98, 'Semanas': 24}\n"
     ]
    }
   ],
   "source": [
    "relevancia(database, 10, 2011, 'Katy Perry')"
   ]
  },
  {
   "cell_type": "markdown",
   "metadata": {},
   "source": [
    "#### Query que retorna uma lista de sugestões para artista/música dada um pedaço de string"
   ]
  },
  {
   "cell_type": "code",
   "execution_count": 21,
   "metadata": {},
   "outputs": [
    {
     "data": {
      "text/plain": [
       "['Da Brat',\n",
       " 'Daddy Dewdrop',\n",
       " 'Daddy Yankee',\n",
       " 'Daft Punk',\n",
       " 'Dale & Grace',\n",
       " 'Dale Ward',\n",
       " 'Damita Jo',\n",
       " 'Damn Yankees',\n",
       " 'Dan + Shay',\n",
       " 'Dan Baird',\n",
       " 'Dan Fogelberg',\n",
       " 'Dan Fogelberg/Tim Weisberg',\n",
       " 'Dan Hartman',\n",
       " 'Dan Hill',\n",
       " 'Dan Hill (Duet With Vonda Shepard)']"
      ]
     },
     "execution_count": 21,
     "metadata": {},
     "output_type": "execute_result"
    }
   ],
   "source": [
    "findString(1, database, trieArtistas, \"Daives\")[1]"
   ]
  },
  {
   "cell_type": "code",
   "execution_count": 22,
   "metadata": {
    "collapsed": true
   },
   "outputs": [],
   "source": [
    "def retiraFeaturing(artistaString):\n",
    "    \n",
    "    if \" Featuring\" in artistaString:   # Se a música tiver um featuring, deve-se retirá-lo\n",
    "            indexFeat = artistaString.find(\" Featuring\")   # pega índice do char space antes de Featuring\n",
    "            artistaString = artistaString[:indexFeat]   # retorna apenas o primeiro artista\n",
    "        \n",
    "    return artistaString   # caso não caia no if, simplesmente retorna o artista assim como veio"
   ]
  },
  {
   "cell_type": "markdown",
   "metadata": {
    "collapsed": true
   },
   "source": [
    "#### Query que retorna os N artistas mais relevantes de determinado ano"
   ]
  },
  {
   "cell_type": "code",
   "execution_count": 23,
   "metadata": {
    "collapsed": true
   },
   "outputs": [],
   "source": [
    "def relevanciaArtistaAno(dados, indiceFile, ano, maxArtistas):\n",
    "    \n",
    "    # Loop que pega o ano passado para procurar no arquivo principal o artista mais relevante\n",
    "    for entrada in range(len(indiceFile)):\n",
    "        if indiceFile[entrada]['Ano'] == ano:\n",
    "            index = entrada\n",
    "            indexMin = indiceFile[index]['Min']\n",
    "            indexMax = indiceFile[index]['Max']\n",
    "    \n",
    "    artistasDict = {}\n",
    "    \n",
    "    # Itera pelos indices daquele determinado ano construindo um dicionário de artistas e pontos acumulados\n",
    "    while indexMin <= indexMax:\n",
    "        \n",
    "        artistaIterado = retiraFeaturing(dados[indexMin]['Artista'])\n",
    "        if artistaIterado in artistasDict:\n",
    "            artistasDict[artistaIterado] += dados[indexMin]['Pontos']\n",
    "        else:\n",
    "            artistasDict[artistaIterado] = dados[indexMin]['Pontos']\n",
    "        \n",
    "        indexMin += 1\n",
    "        \n",
    "    #artistasDict = sorted(artistasDict.items(), key = lambda tup: (tup[1][\"Pontos\"]), reverse=True)\n",
    "    dictSorted = sorted(artistasDict.items(), key=lambda kv: kv[1], reverse=True)\n",
    "    \n",
    "    return dictSorted[:maxArtistas]\n"
   ]
  },
  {
   "cell_type": "code",
   "execution_count": 24,
   "metadata": {},
   "outputs": [
    {
     "data": {
      "text/plain": [
       "[(\"Destiny's Child\", 6306),\n",
       " ('Faith Hill', 5970),\n",
       " ('Santana', 5273),\n",
       " (\"'N Sync\", 5182),\n",
       " ('Creed', 5100)]"
      ]
     },
     "execution_count": 24,
     "metadata": {},
     "output_type": "execute_result"
    }
   ],
   "source": [
    "relevanciaArtistaAno(database, indices, 2000, 5)\n"
   ]
  },
  {
   "cell_type": "markdown",
   "metadata": {},
   "source": [
    "#### Query que retorna os N artistas mais relevantes no geral"
   ]
  },
  {
   "cell_type": "code",
   "execution_count": 25,
   "metadata": {
    "collapsed": true
   },
   "outputs": [],
   "source": [
    "def topArtistas(n):   # sendo n o número máximo de artistas\n",
    "      \n",
    "    if os.path.exists(\"topArtistas.bin\"): #confere se o arquivo existe\n",
    "        with open(\"topArtistas.bin\",'rb') as openfile:  #with automaticamente da um close() no final\n",
    "            topArtistas = pickle.load(openfile)\n",
    "       \n",
    "    return topArtistas[:n]"
   ]
  },
  {
   "cell_type": "code",
   "execution_count": 26,
   "metadata": {},
   "outputs": [
    {
     "data": {
      "text/plain": [
       "[('Madonna', 53607),\n",
       " ('Rihanna', 49051),\n",
       " ('Elton John', 47983),\n",
       " ('Mariah Carey', 46615),\n",
       " ('Usher', 45357)]"
      ]
     },
     "execution_count": 26,
     "metadata": {},
     "output_type": "execute_result"
    }
   ],
   "source": [
    "topArtistas(5)"
   ]
  }
 ],
 "metadata": {
  "kernelspec": {
   "display_name": "Python 3",
   "language": "python",
   "name": "python3"
  },
  "language_info": {
   "codemirror_mode": {
    "name": "ipython",
    "version": 3
   },
   "file_extension": ".py",
   "mimetype": "text/x-python",
   "name": "python",
   "nbconvert_exporter": "python",
   "pygments_lexer": "ipython3",
   "version": "3.6.3"
  }
 },
 "nbformat": 4,
 "nbformat_minor": 2
}
