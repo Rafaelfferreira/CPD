{
 "cells": [
  {
   "cell_type": "markdown",
   "metadata": {},
   "source": [
    "# Estudos de Classificação e Pesquisa de Dados\n",
    "### Setting up the environment"
   ]
  },
  {
   "cell_type": "code",
   "execution_count": 1,
   "metadata": {
    "collapsed": true
   },
   "outputs": [],
   "source": [
    "import numpy as np # Importando a biblioteca numpy (para trabalhar com arrays)\n",
    "import time #Biblioteca utilizada para contar o tempo\n",
    "import pandas as pd #biblioteca para trabalhar com dataframes\n",
    "\n",
    "gerador = np.random.RandomState() # Cria um gerador de números aleatórios\n",
    "\n",
    "# A função log imprime um log dos dados da execução de algum dos algoritmos\n",
    "# Dados registrados: algoritmo, tipo de array, quantidade de números, trocas e comparações e tempo em milissegundos\n",
    "# Os tipos de array podem ser 'R'andomicos, 'C'rescente ou 'D'ecrescente\n",
    "# lambda é uma keyword que permite gerar funcoes de uma linha, m é o argumento que ela recebe\n",
    "log = lambda m: print('[log: {algoritmo}, {tipo}, {quantidade:d}, {trocas:d}, {comparacoes:d},{tempo:f}]'.format(algoritmo=m['algoritmo'],\n",
    "                                                                                                                tipo=m['tipo'],\n",
    "                                                                                                                quantidade=m['quantidade'],\n",
    "                                                                                                                trocas=m['trocas'],\n",
    "                                                                                                                comparacoes=m['comparacoes'],\n",
    "                                                                                                                tempo=m['tempo']))\n",
    "\n",
    "medicoes=[] # Lista que armazena os resultados das medições em memória"
   ]
  },
  {
   "cell_type": "markdown",
   "metadata": {},
   "source": [
    "## Algoritmo de inserção direta (Insertion Sort)\n",
    "Melhor caso: O(n) - Array ja esta ordenado e só ocorrem n comparações  \n",
    "Pior caso: O(n^2) - Array esta completamente desordenado"
   ]
  },
  {
   "cell_type": "code",
   "execution_count": 2,
   "metadata": {
    "collapsed": true
   },
   "outputs": [],
   "source": [
    "#Função de inserção direta com busca linear:\n",
    "def insertion_sort(array):\n",
    "    trocas = comparacoes = 0\n",
    "    for j in range(1, len(array)): #funcao range gera uma lista de numeros com o valor inicial de j (1) e depois o final (len(array))\n",
    "        chave = array[j] #chave a ser inserida no subarray ordenado\n",
    "        i = j-1 #i recebe o ultimo elemento do subarray ordenado\n",
    "        comparacoes += 1\n",
    "        while (i >= 0) and (array[i] > chave): #busca linear da direita para a esquerda dentro do array subordenado\n",
    "            array[i+1] = array[i]\n",
    "            i -= 1\n",
    "            trocas += 1\n",
    "        array[i+1] = chave\n",
    "    return {'trocas':trocas, 'comparacoes':comparacoes}"
   ]
  },
  {
   "cell_type": "code",
   "execution_count": 4,
   "metadata": {},
   "outputs": [
    {
     "name": "stdout",
     "output_type": "stream",
     "text": [
      "Array gerado ( 100 numeros ):\n",
      " [ 38  47  97  13  40  78  70  62 100  30  42   4   6  29  56   2  26  68\n",
      "  25  94   0  40   6  23  96  36  18  88  45  98  67  72  96  39  94  71\n",
      "  65  93  60  44  65  10   8  40   9  92  40  77  34  74  37  78  45  45\n",
      "  21  42 100   4   6  96  32  56  70  56   3  18  76  89  31  48  64  33\n",
      "  46  55  14  60   2  61  80  98  99  61   7  26  22  70  61  85  43  97\n",
      "  70  94  70  64  35  58  54  74  66  97]\n",
      "Array ordenado:\n",
      " [  0   2   2   3   4   4   6   6   6   7   8   9  10  13  14  18  18  21\n",
      "  22  23  25  26  26  29  30  31  32  33  34  35  36  37  38  39  40  40\n",
      "  40  40  42  42  43  44  45  45  45  46  47  48  54  55  56  56  56  58\n",
      "  60  60  61  61  61  62  64  64  65  65  66  67  68  70  70  70  70  70\n",
      "  71  72  74  74  76  77  78  78  80  85  88  89  92  93  94  94  94  96\n",
      "  96  96  97  97  97  98  98  99 100 100]\n"
     ]
    }
   ],
   "source": [
    "#Teste do algoritmo de inserção direta com 100 elementos\n",
    "max = qtd = 100 #Quantidade de elementos que serão gerados aleatoriamente\n",
    "arrayRandomico = gerador.randint(0, max+1, qtd) #randint retorna inteiros aleatorio, nesse caso 'qtd' inteiros entre 0 e max \n",
    "print('Array gerado (',qtd, 'numeros ):\\n', arrayRandomico)\n",
    "\n",
    "tempo = time.process_time() #Armazena o tempo de inicio do processamento\n",
    "m = insertion_sort(arrayRandomico) #Ordena o Array e retorna a quantidade de trocas e comparacoes\n",
    "t = time.process_time() - tempo #Salva em t o tempo que o processo levou\n",
    "print('Array ordenado:\\n', arrayRandomico)\n",
    "\n",
    "#Armazenando as informacoes sobre a execucao do algoritmo em um dicionario\n",
    "medicao={}\n",
    "medicao['algoritmo']='IDBL'\n",
    "medicao['tipo']='R'\n",
    "medicao['quantidade'] = qtd\n",
    "medicao['trocas']=m['trocas']\n",
    "medicao['comparacoes']=m['comparacoes']\n",
    "medicao['tempo']=t\n",
    "\n",
    "medicoes.append(medicao) #Adiciona medição em uma lista de medições"
   ]
  },
  {
   "cell_type": "code",
   "execution_count": 5,
   "metadata": {},
   "outputs": [
    {
     "name": "stdout",
     "output_type": "stream",
     "text": [
      "  algoritmo tipo  quantidade  trocas  comparacoes     tempo\n",
      "0      IDBL    R         100    2408           99  0.000000\n",
      "1      IDBL    R         100    2203           99  0.015625\n"
     ]
    }
   ],
   "source": [
    "#Exibe os dados relacionados as execuções do algoritmo de ordenação\n",
    "df = pd.DataFrame(medicoes) #Estrutura de tabela da biblioteca pandas\n",
    "cols = ['algoritmo', 'tipo', 'quantidade', 'trocas', 'comparacoes', 'tempo'] #Colocando as colunas na ordem certa\n",
    "df = df[cols]\n",
    "\n",
    "print(df)"
   ]
  },
  {
   "cell_type": "markdown",
   "metadata": {
    "collapsed": true
   },
   "source": [
    "## Algoritmo de inserção direta com busca binária (binary insertion sort)\n",
    "\n",
    "Implementar um algoritmo de busca binária no insertion sort diminuiria o numero de comparações para log_2(n), porém o custo total do algoritmo continuaria O(n^2) por causa do numero de swaps"
   ]
  },
  {
   "cell_type": "markdown",
   "metadata": {},
   "source": [
    "## Shellsort\n",
    "A analise de desempenho do shellsort é complexa porém usarei os seguintes valores de referencia  \n",
    "Pior caso: O(n^2) (com a pior sequencia de gaps [o 'h' do algoritmo abaixo] conhecida) ou  \n",
    "O(n log_2 n) com a melhor sequencia conhecida)  \n",
    "Melhor caso: O(n log n)"
   ]
  },
  {
   "cell_type": "code",
   "execution_count": 18,
   "metadata": {},
   "outputs": [],
   "source": [
    "def shellSort(array):\n",
    "    n = len(array) # n=tamanho do array\n",
    "    h = n//2 # h é a distancia entre cada segmento. O operador // faz a divisao em integer\n",
    "    # Os segmentos sao os \"subarray\" que vao sendo ordenados parcialmente\n",
    "    \n",
    "    while h > 0:\n",
    "        for startPosition in range(h):\n",
    "            insShellSort(array, startPosition, h)\n",
    "            \n",
    "        print('Array parcialmente ordenado com intervalo de', h, ':\\n', array, '\\n')\n",
    "        h = h//2\n",
    "            \n",
    "def insShellSort(array, startPosition, h):\n",
    "    for i in range(startPosition+h, len(array), h): # Vai de startPosition+h ate o tamanho do array pulando de h em h\n",
    "        chave = array[i]\n",
    "        posicao = i\n",
    "        \n",
    "        while (posicao>=h) and (array[posicao-h]>chave): # Se alguma chave do segmento for menor que a mais da direita reordena\n",
    "            array[posicao]=array[posicao-h]\n",
    "            posicao = posicao-h\n",
    "            \n",
    "        array[posicao] = chave"
   ]
  },
  {
   "cell_type": "code",
   "execution_count": 20,
   "metadata": {},
   "outputs": [
    {
     "name": "stdout",
     "output_type": "stream",
     "text": [
      "Aray gerado ( 10 numeros ):\n",
      " [1 9 3 7 0 0 8 0 2 6] \n",
      "\n",
      "Array parcialmente ordenado com intervalo de 5 :\n",
      " [0 8 0 2 0 1 9 3 7 6] \n",
      "\n",
      "Array parcialmente ordenado com intervalo de 2 :\n",
      " [0 1 0 2 0 3 7 6 9 8] \n",
      "\n",
      "Array parcialmente ordenado com intervalo de 1 :\n",
      " [0 0 0 1 2 3 6 7 8 9] \n",
      "\n"
     ]
    }
   ],
   "source": [
    "# Teste do algoritmo shellSort\n",
    "max = qtd = 10 # Quantidade de elementos que serao gerados aleatoriamente\n",
    "arrayRandomico = gerador.randint(0, max+1, qtd) #max+1 pois é um intervalo aberto\n",
    "print('Aray gerado (', qtd, 'numeros ):\\n', arrayRandomico, '\\n')\n",
    "\n",
    "shellSort(arrayRandomico)"
   ]
  },
  {
   "cell_type": "code",
   "execution_count": null,
   "metadata": {
    "collapsed": true
   },
   "outputs": [],
   "source": []
  }
 ],
 "metadata": {
  "kernelspec": {
   "display_name": "Python 3",
   "language": "python",
   "name": "python3"
  },
  "language_info": {
   "codemirror_mode": {
    "name": "ipython",
    "version": 3
   },
   "file_extension": ".py",
   "mimetype": "text/x-python",
   "name": "python",
   "nbconvert_exporter": "python",
   "pygments_lexer": "ipython3",
   "version": "3.6.3"
  }
 },
 "nbformat": 4,
 "nbformat_minor": 2
}
