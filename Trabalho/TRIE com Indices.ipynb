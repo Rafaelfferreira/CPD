{
 "cells": [
  {
   "cell_type": "markdown",
   "metadata": {},
   "source": [
    "## Definição da estutura que vai formar as árvores TRIE para consulta"
   ]
  },
  {
   "cell_type": "code",
   "execution_count": 1,
   "metadata": {},
   "outputs": [],
   "source": [
    "class TrieNode(object):\n",
    "\n",
    "    \n",
    "    def __init__(self, char: str):   # __init__ é um método especial para fazer construtores\n",
    "        self.char = char   # caractere do nodo atual\n",
    "        self.filhos = []   # nodos filhos\n",
    "        self.pFinalizada = False   # se é o último nodo e a palavra terminou\n",
    "        self.indices = []   # lista vazia para nodos que não são término de palavra\n",
    "        ### não é um índice único e sim uma lista, pois podem existir títulos de música repetidos com mais de um artista"
   ]
  },
  {
   "cell_type": "markdown",
   "metadata": {},
   "source": [
    "#### Operação que adiciona uma string na árvore trie"
   ]
  },
  {
   "cell_type": "code",
   "execution_count": 2,
   "metadata": {},
   "outputs": [],
   "source": [
    "def addString(raiz, palavra: str, indice: int):   # função usada para adicionar uma palavra nova à estrutura trie\n",
    "\n",
    "    nodo = raiz\n",
    "    for char in palavra:\n",
    "        encontradoEmFilho = False\n",
    "        # busca pelo caractere nos filhos do nodo atual\n",
    "        for filho in nodo.filhos:\n",
    "            if filho.char == char: \n",
    "                nodo = filho   # apontamos o nodo para o filho que contém esse char\n",
    "                encontradoEmFilho = True\n",
    "                break\n",
    "        \n",
    "        if not encontradoEmFilho:   # se o caractere não foi encontrado, adiciona novo filho\n",
    "            novoNodo = TrieNode(char)\n",
    "            nodo.filhos.append(novoNodo)\n",
    "            nodo = novoNodo   # apontamos, então, o nodo para seu novo filho e continuamos a iteração\n",
    "    \n",
    "    nodo.pFinalizada = True   # indica que até ali pode ser uma palavra (nome de música/artista completo)\n",
    "    nodo.indices.append(indice)   # assinala o indice passado"
   ]
  },
  {
   "cell_type": "markdown",
   "metadata": {},
   "source": [
    "#### Operação que procura uma string na árvore trie"
   ]
  },
  {
   "cell_type": "code",
   "execution_count": 3,
   "metadata": {},
   "outputs": [],
   "source": [
    "def findString(raiz, palavra: str) -> (bool, []):\n",
    "    \"\"\"\n",
    "      1. Se a palavra existe e tem algum índice associado, retorna verdadeiro e a lista de índices dela\n",
    "      2. Se a palavra não existe, retorna falso e uma lista vazia\n",
    "    \"\"\"\n",
    "    nodo = raiz\n",
    "\n",
    "    if not raiz.filhos:   # se o nodo raiz não tiver nenhum filho, trivial, retorna falso\n",
    "        return False, []\n",
    "    for char in palavra:\n",
    "        charNaoEncontrado = True\n",
    "        for filho in nodo.filhos:\n",
    "            if filho.char == char:\n",
    "                charNaoEncontrado = False   # assinala que o char foi encontrado\n",
    "                nodo = filho   # passa iteração para o nodo filho\n",
    "                break\n",
    "        \n",
    "        if charNaoEncontrado:   # retorna falso quando não encontrar algum char da palavra sendo procurada\n",
    "            return False, []\n",
    "    \n",
    "    # Caso passe por todos os caracteres sem retornar [False, []], então significa que a palavra foi encontrada\n",
    "    # Resta saber se aquele nodo é um nodo final com um índice associado\n",
    "    if nodo.pFinalizada:\n",
    "        return True, nodo.indices\n",
    "    else:\n",
    "        return False, []"
   ]
  },
  {
   "cell_type": "markdown",
   "metadata": {},
   "source": [
    "## Início do código em si\n",
    "\n",
    "#### Leitura dos dados filtrados por ano"
   ]
  },
  {
   "cell_type": "code",
   "execution_count": 4,
   "metadata": {},
   "outputs": [],
   "source": [
    "import pickle\n",
    "import os\n",
    "\n",
    "#Faz a leitura do arquivo de registros\n",
    "with (open('teste.bin', 'rb')) as openfile:\n",
    "    leitura = pickle.load(openfile)"
   ]
  },
  {
   "cell_type": "markdown",
   "metadata": {},
   "source": [
    "#### Criação da TRIE para músicas e da TRIE para artistas"
   ]
  },
  {
   "cell_type": "code",
   "execution_count": 5,
   "metadata": {},
   "outputs": [],
   "source": [
    "raizMusicas = TrieNode('@')   # raiz da trie de músicas \n",
    "raizArtistas = TrieNode('@')  # raiz da trie de artistas\n",
    "\n",
    "indice = 0   # endereço da música no arquivo\n",
    "\n",
    "for x in leitura:  \n",
    "    # o str é necessário para os casos em que a música ou artista são apenas números e interpretados com inteiros\n",
    "    addString(raizMusicas, str(x['Titulo']), indice)  \n",
    "    addString(raizArtistas, str(x['Artista']), indice)\n",
    "    indice += 1"
   ]
  },
  {
   "cell_type": "markdown",
   "metadata": {},
   "source": [
    "##### Testes com as TRIE criadas"
   ]
  },
  {
   "cell_type": "code",
   "execution_count": 6,
   "metadata": {},
   "outputs": [
    {
     "name": "stdout",
     "output_type": "stream",
     "text": [
      "(True, [10800]) \n",
      "\n",
      "(True, [7948, 8090, 8201, 8564, 8624, 9977, 10000, 10095, 10318, 10413, 10471]) \n",
      "\n",
      "[7948, 8090, 8201, 8564, 8624, 9977, 10000, 10095, 10318, 10413, 10471] \n",
      "\n"
     ]
    }
   ],
   "source": [
    "print(findString(raizMusicas, \"All Of Me\"), \"\\n\")\n",
    "print(findString(raizArtistas, \"Train\"), \"\\n\")\n",
    "print(findString(raizArtistas, \"Train\")[1], \"\\n\")"
   ]
  },
  {
   "cell_type": "code",
   "execution_count": 8,
   "metadata": {},
   "outputs": [
    {
     "name": "stdout",
     "output_type": "stream",
     "text": [
      "{'Artista': 'John Legend', 'Titulo': 'All Of Me', 'Ano': 2014, 'Pontos': 4069, 'Peak': 100, 'Semanas': 59}\n"
     ]
    }
   ],
   "source": [
    "print(leitura[10800])"
   ]
  },
  {
   "cell_type": "markdown",
   "metadata": {},
   "source": [
    "#### Salvando os dados das TRIE em arquivos binários"
   ]
  },
  {
   "cell_type": "code",
   "execution_count": 9,
   "metadata": {},
   "outputs": [],
   "source": [
    "filename = \"trieMusicas.bin\"\n",
    "with (open(filename, 'wb+')) as openfile: #abre o arquivo de teste no modo de leitura binaria 'wb' como openfile\n",
    "    pickle.dump(raizMusicas, openfile)\n",
    "    \n",
    "filename = \"trieArtistas.bin\"\n",
    "with (open(filename, 'wb+')) as openfile: #abre o arquivo de teste no modo de leitura binaria 'wb' como openfile\n",
    "    pickle.dump(raizArtistas, openfile)"
   ]
  },
  {
   "cell_type": "markdown",
   "metadata": {},
   "source": [
    "#### Testando arquivos salvos:"
   ]
  },
  {
   "cell_type": "code",
   "execution_count": 10,
   "metadata": {},
   "outputs": [
    {
     "name": "stdout",
     "output_type": "stream",
     "text": [
      "(True, [10800]) \n",
      "\n",
      "[7948, 8090, 8201, 8564, 8624, 9977, 10000, 10095, 10318, 10413, 10471] \n",
      "\n"
     ]
    }
   ],
   "source": [
    "filename = \"trieMusicas.bin\"\n",
    "\n",
    "if os.path.exists(filename): #confere se o arquivo existe\n",
    "    with open(filename,'rb') as openfile:  #with automaticamente da um close() no final\n",
    "        trieMusicas = pickle.load(openfile)\n",
    "        \n",
    "filename = \"trieArtistas.bin\"\n",
    "if os.path.exists(filename): #confere se o arquivo existe\n",
    "    with open(filename,'rb') as openfile:  #with automaticamente da um close() no final\n",
    "        trieArtistas = pickle.load(openfile)\n",
    "        \n",
    "print(findString(trieMusicas, \"All Of Me\"), \"\\n\")\n",
    "print(findString(trieArtistas, \"Train\")[1], \"\\n\")"
   ]
  }
 ],
 "metadata": {
  "kernelspec": {
   "display_name": "Python 3",
   "language": "python",
   "name": "python3"
  },
  "language_info": {
   "codemirror_mode": {
    "name": "ipython",
    "version": 3
   },
   "file_extension": ".py",
   "mimetype": "text/x-python",
   "name": "python",
   "nbconvert_exporter": "python",
   "pygments_lexer": "ipython3",
   "version": "3.6.4"
  }
 },
 "nbformat": 4,
 "nbformat_minor": 2
}
