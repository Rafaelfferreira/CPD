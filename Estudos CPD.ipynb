{
 "cells": [
  {
   "cell_type": "markdown",
   "metadata": {},
   "source": [
    "# Estudos de Classificação e Pesquisa de Dados\n",
    "### Setting up the environment"
   ]
  },
  {
   "cell_type": "code",
   "execution_count": 3,
   "metadata": {
    "collapsed": true
   },
   "outputs": [],
   "source": [
    "import numpy as np # Importando a biblioteca numpy (para trabalhar com arrays)\n",
    "import time #Biblioteca utilizada para contar o tempo\n",
    "import pandas as pd #biblioteca para trabalhar com dataframes\n",
    "\n",
    "gerador = np.random.RandomState() # Cria um gerador de números aleatórios\n",
    "\n",
    "# A função log imprime um log dos dados da execução de algum dos algoritmos\n",
    "# Dados registrados: algoritmo, tipo de array, quantidade de números, trocas e comparações e tempo em milissegundos\n",
    "# Os tipos de array podem ser 'R'andomicos, 'C'rescente ou 'D'ecrescente\n",
    "# lambda é uma keyword que permite gerar funcoes de uma linha, m é o argumento que ela recebe\n",
    "log = lambda m: print('[log: {algoritmo}, {tipo}, {quantidade:d}, {trocas:d}, {comparacoes:d},{tempo:f}]'.format(algoritmo=m['algoritmo'],\n",
    "                                                                                                                tipo=m['tipo'],\n",
    "                                                                                                                quantidade=m['quantidade'],\n",
    "                                                                                                                trocas=m['trocas'],\n",
    "                                                                                                                comparacoes=m['comparacoes'],\n",
    "                                                                                                                tempo=m['tempo']))\n",
    "\n",
    "medicoes=[] # Lista que armazena os resultados das medições em memória"
   ]
  },
  {
   "cell_type": "markdown",
   "metadata": {},
   "source": [
    "## Algoritmo de inserção direta (Insertion Sort)\n",
    "Melhor caso: O(n) - Array ja esta ordenado e só ocorrem n comparações  \n",
    "Pior caso: O(n^2) - Array esta completamente desordenado"
   ]
  },
  {
   "cell_type": "code",
   "execution_count": 7,
   "metadata": {
    "collapsed": true
   },
   "outputs": [],
   "source": [
    "#Função de inserção direta com busca linear:\n",
    "def insertion_sort(array):\n",
    "    trocas = comparacoes = 0\n",
    "    for j in range(1, len(array)): #funcao range gera uma lista de numeros com o valor inicial de j (1) e depois o final (len(array))\n",
    "        chave = array[j] #chave a ser inserida no subarray ordenado\n",
    "        i = j-1 #i recebe o ultimo elemento do subarray ordenado\n",
    "        comparacoes += 1\n",
    "        while (i >= 0) and (array[i] > chave): #busca linear da direita para a esquerda dentro do array subordenado\n",
    "            array[i+1] = array[i]\n",
    "            i -= 1\n",
    "            trocas += 1\n",
    "        array[i+1] = chave\n",
    "    return {'trocas':trocas, 'comparacoes':comparacoes}"
   ]
  },
  {
   "cell_type": "code",
   "execution_count": 8,
   "metadata": {},
   "outputs": [
    {
     "name": "stdout",
     "output_type": "stream",
     "text": [
      "Array gerado ( 100 numeros ):\n",
      " [ 92  28  95  18  63  98   7  26   9  96  22  83  73  73  98  43  36  16\n",
      "  18  49  60  90  76  34  20  94  60  89  39  92  61  36  83  77  64  96\n",
      "  32   9  31  28  66  64  37  50  54  77  87 100  54  53  73  58  35  73\n",
      "  67  58  19  12  25  55  71  88  97   9   6  91  42  45  38  42  94  81\n",
      "   0  61  18  94  31  11  67  64  23  15  92  70   7  95  37  88  81  73\n",
      "   9  26  54  14  58  89   9  48  64  45]\n",
      "Array ordenado:\n",
      " [  0   6   7   7   9   9   9   9   9  11  12  14  15  16  18  18  18  19\n",
      "  20  22  23  25  26  26  28  28  31  31  32  34  35  36  36  37  37  38\n",
      "  39  42  42  43  45  45  48  49  50  53  54  54  54  55  58  58  58  60\n",
      "  60  61  61  63  64  64  64  64  66  67  67  70  71  73  73  73  73  73\n",
      "  76  77  77  81  81  83  83  87  88  88  89  89  90  91  92  92  92  94\n",
      "  94  94  95  95  96  96  97  98  98 100]\n"
     ]
    }
   ],
   "source": [
    "#Teste do algoritmo de inserção direta com 100 elementos\n",
    "max = qtd = 100 #Quantidade de elementos que serão gerados aleatoriamente\n",
    "arrayRandomico = gerador.randint(0, max+1, qtd) #randint retorna inteiros aleatorio, nesse caso 'qtd' inteiros entre 0 e max \n",
    "print('Array gerado (',qtd, 'numeros ):\\n', arrayRandomico)\n",
    "\n",
    "tempo = time.process_time() #Armazena o tempo de inicio do processamento\n",
    "m = insertion_sort(arrayRandomico) #Ordena o Array e retorna a quantidade de trocas e comparacoes\n",
    "t = time.process_time() - tempo #Salva em t o tempo que o processo levou\n",
    "print('Array ordenado:\\n', arrayRandomico)\n",
    "\n",
    "#Armazenando as informacoes sobre a execucao do algoritmo em um dicionario\n",
    "medicao={}\n",
    "medicao['algoritmo']='IDBL'\n",
    "medicao['tipo']='R'\n",
    "medicao['quantidade'] = qtd\n",
    "medicao['trocas']=m['trocas']\n",
    "medicao['comparacoes']=m['comparacoes']\n",
    "medicao['tempo']=t\n",
    "\n",
    "medicoes.append(medicao) #Adiciona medição em uma lista de medições"
   ]
  },
  {
   "cell_type": "code",
   "execution_count": 9,
   "metadata": {},
   "outputs": [
    {
     "name": "stdout",
     "output_type": "stream",
     "text": [
      "  algoritmo tipo  quantidade  trocas  comparacoes  tempo\n",
      "0      IDBL    R         100    2604           99    0.0\n"
     ]
    }
   ],
   "source": [
    "#Exibe os dados relacionados as execuções do algoritmo de ordenação\n",
    "df = pd.DataFrame(medicoes) #Estrutura de tabela da biblioteca pandas\n",
    "cols = ['algoritmo', 'tipo', 'quantidade', 'trocas', 'comparacoes', 'tempo'] #Colocando as colunas na ordem certa\n",
    "df = df[cols]\n",
    "\n",
    "print(df)"
   ]
  },
  {
   "cell_type": "markdown",
   "metadata": {
    "collapsed": true
   },
   "source": [
    "## Algoritmo de inserção direta com busca binária (binary insertion sort)\n",
    "\n",
    "Implementar um algoritmo de busca binária no insertion sort diminuiria o numero de comparações para log_2(n), porém o custo total do algoritmo continuaria O(n^2) por causa do numero de swaps"
   ]
  },
  {
   "cell_type": "markdown",
   "metadata": {},
   "source": [
    "## Shellsort\n",
    "A analise de desempenho do shellsort é complexa porém usarei os seguintes valores de referencia  \n",
    "Pior caso: O(n^2) (com a pior sequencia de gaps [o 'h' do algoritmo abaixo] conhecida) ou  \n",
    "O(n log_2 n) com a melhor sequencia conhecida)  \n",
    "Melhor caso: O(n log n)"
   ]
  },
  {
   "cell_type": "code",
   "execution_count": 4,
   "metadata": {
    "collapsed": true
   },
   "outputs": [],
   "source": [
    "def shellSort(array):\n",
    "    n = len(array) # n=tamanho do array\n",
    "    h = n//2 # h é a distancia entre cada segmento. O operador // faz a divisao em integer\n",
    "    # Os segmentos sao os \"subarray\" que vao sendo ordenados parcialmente\n",
    "    \n",
    "    while h > 0:\n",
    "        for startPosition in range(h):\n",
    "            insShellSort(array, startPosition, h)\n",
    "            \n",
    "        print('Array parcialmente ordenado com intervalo de', h, ':\\n', array, '\\n')\n",
    "        h = h//2\n",
    "            \n",
    "def insShellSort(array, startPosition, h):\n",
    "    for i in range(startPosition+h, len(array), h): # Vai de startPosition+h ate o tamanho do array pulando de h em h\n",
    "        chave = array[i]\n",
    "        posicao = i\n",
    "        \n",
    "        while (posicao>=h) and (array[posicao-h]>chave): # Se alguma chave do segmento for menor que a mais da direita reordena\n",
    "            array[posicao]=array[posicao-h]\n",
    "            posicao = posicao-h\n",
    "            \n",
    "        array[posicao] = chave"
   ]
  },
  {
   "cell_type": "code",
   "execution_count": 11,
   "metadata": {},
   "outputs": [
    {
     "name": "stdout",
     "output_type": "stream",
     "text": [
      "Aray gerado ( 10 numeros ):\n",
      " [0 2 7 2 8 4 6 6 9 0] \n",
      "\n",
      "Array parcialmente ordenado com intervalo de 5 :\n",
      " [0 2 6 2 0 4 6 7 9 8] \n",
      "\n",
      "Array parcialmente ordenado com intervalo de 2 :\n",
      " [0 2 0 2 6 4 6 7 9 8] \n",
      "\n",
      "Array parcialmente ordenado com intervalo de 1 :\n",
      " [0 0 2 2 4 6 6 7 8 9] \n",
      "\n"
     ]
    }
   ],
   "source": [
    "# Teste do algoritmo shellSort\n",
    "max = qtd = 10 # Quantidade de elementos que serao gerados aleatoriamente\n",
    "arrayRandomico = gerador.randint(0, max+1, qtd) #max+1 pois é um intervalo aberto\n",
    "print('Aray gerado (', qtd, 'numeros ):\\n', arrayRandomico, '\\n')\n",
    "\n",
    "shellSort(arrayRandomico)"
   ]
  },
  {
   "cell_type": "markdown",
   "metadata": {
    "collapsed": true
   },
   "source": [
    "## Quicksort\n",
    "Um dos algoritmos mais eficientes  \n",
    "Melhor caso: O(n log n)  \n",
    "Pior caso: O(n^2) - Ocorre quando os pivos selecionados sao ou o maior ou o menor elemento do array"
   ]
  },
  {
   "cell_type": "code",
   "execution_count": 8,
   "metadata": {
    "collapsed": true
   },
   "outputs": [],
   "source": [
    "def quicksort(array, begin=0, end=None): #valores defaults\n",
    "    if end is None: #Caso seja a primeira execução da funcao (primeira em relacao a recursao)\n",
    "            end = len(array) - 1\n",
    "    if end > begin:\n",
    "        pivot = particiona(array, begin, end)\n",
    "        quicksort(array, begin, pivot-1)\n",
    "        quicksort(array, pivot+1, end)\n",
    "        \n",
    "\n",
    "def particiona(array, begin, end):\n",
    "    pivot = begin #seleciona o novo pivo da particao\n",
    "    i = begin + 1 #le o array partindo do começo procurando por um elemento maior que o pivo\n",
    "    j = end #le o array partindo do final procurando um elemento menor que o pivo\n",
    "    \n",
    "    while j > i:\n",
    "        while(array[i]<array[pivot] and i<end):\n",
    "            i += 1\n",
    "        while(array[j]>=array[pivot] and j>begin):\n",
    "            j -= 1\n",
    "        if(j>i and array[i]>array[j]):\n",
    "            array[i], array[j] = array[j],array[i] #swap entre os ponteiros\n",
    "    \n",
    "    if(array[j]<array[pivot]):\n",
    "        array[pivot],array[j] = array[j],array[pivot]\n",
    "        \n",
    "    return j"
   ]
  },
  {
   "cell_type": "code",
   "execution_count": 11,
   "metadata": {},
   "outputs": [
    {
     "name": "stdout",
     "output_type": "stream",
     "text": [
      "Aray gerado ( 10 numeros ):\n",
      " [2 3 4 8 2 8 5 4 7 8] \n",
      "\n",
      "Array ordenado com quicksort:  [2 2 3 4 4 5 7 8 8 8]\n",
      "\n",
      "Tempo de processamento num array de 100.000 items: 0.796875 segundos\n",
      "\n",
      "Tempo de processamento num array de 1.000.000 items: 9.34375 segundos\n"
     ]
    }
   ],
   "source": [
    "# Teste do algoritmo quicksort\n",
    "max = qtd = 10 # Quantidade de elementos que serao gerados aleatoriamente\n",
    "arrayRandomico = gerador.randint(0, max+1, qtd) #max+1 pois é um intervalo aberto\n",
    "print('Aray gerado (', qtd, 'numeros ):\\n', arrayRandomico, '\\n')\n",
    "\n",
    "quicksort(arrayRandomico)\n",
    "print('Array ordenado com quicksort: ', arrayRandomico)\n",
    "\n",
    "\n",
    "#teste de tempo do quicksort\n",
    "max = qtd = 100000\n",
    "arrayRandomico = gerador.randint(0,max+1, qtd)\n",
    "\n",
    "tempo = time.process_time() #Armazena o tempo de inicio do processamento\n",
    "quicksort(arrayRandomico)\n",
    "t = time.process_time() - tempo #Salva em t o tempo que o processo levou\n",
    "print('\\nTempo de processamento num array de 100.000 items:', t, 'segundos')\n",
    "\n",
    "#teste de tempo extremo\n",
    "max = qtd = 1000000\n",
    "arrayRandomico = gerador.randint(0,max+1, qtd)\n",
    "\n",
    "tempo = time.process_time() #Armazena o tempo de inicio do processamento\n",
    "arrayRandomico = quicksort(arrayRandomico)\n",
    "t = time.process_time() - tempo #Salva em t o tempo que o processo levou\n",
    "print('\\nTempo de processamento num array de 1.000.000 items:', t, 'segundos')"
   ]
  },
  {
   "cell_type": "markdown",
   "metadata": {},
   "source": [
    "## Selection Sort\n",
    "Um algoritmo bem ineficiente porém para fins didaticos será incluido aqui  \n",
    "Melhor caso: O(n^2)  \n",
    "Pior caso: O(n^2)"
   ]
  },
  {
   "cell_type": "code",
   "execution_count": 17,
   "metadata": {
    "collapsed": true
   },
   "outputs": [],
   "source": [
    "def selectionSort(array): # n é o tamanho do array\n",
    "    for i in range(0, len(array)-1):\n",
    "        menor = i\n",
    "        for j in range((i+1), len(array)):\n",
    "            if(array[j] < array[menor]):\n",
    "                menor = j\n",
    "        if(i != menor):\n",
    "            array[i],array[menor] = array[menor],array[i]"
   ]
  },
  {
   "cell_type": "code",
   "execution_count": 18,
   "metadata": {},
   "outputs": [
    {
     "name": "stdout",
     "output_type": "stream",
     "text": [
      "Array gerado ( 10 numeros ):\n",
      " [7 6 2 0 0 6 7 8 1 7] \n",
      "\n",
      "Array ordenado com selectionSort: \n",
      " [0 0 1 2 6 6 7 7 7 8]\n",
      "\n",
      "Tempo de processamento num array de 5.000 items: 2.484375 segundos\n"
     ]
    }
   ],
   "source": [
    "# Teste do selection sort\n",
    "max = qtd = 10\n",
    "arrayRandomico = gerador.randint(0,max+1, qtd)\n",
    "print('Array gerado (', qtd, 'numeros ):\\n', arrayRandomico, '\\n')\n",
    "\n",
    "selectionSort(arrayRandomico)\n",
    "print('Array ordenado com selectionSort: \\n', arrayRandomico)\n",
    "\n",
    "#teste de tempo\n",
    "max = qtd = 5000\n",
    "arrayRandomico = gerador.randint(0,max+1, qtd)\n",
    "\n",
    "tempo = time.process_time() #Armazena o tempo de inicio do processamento\n",
    "selectionSort(arrayRandomico)\n",
    "t = time.process_time() - tempo #Salva em t o tempo que o processo levou\n",
    "print('\\nTempo de processamento num array de 5.000 items:', t, 'segundos')"
   ]
  },
  {
   "cell_type": "markdown",
   "metadata": {},
   "source": [
    "## Heapsort\n",
    "Melhor caso: O(n log n)  \n",
    "Pior caso: O(n log n)  \n",
    "  \n",
    "Apesar de ter um pior caso melhor que o pior caso quicksort costuma ser mais lento que o quicksort devido ao fato do pior caso do quicksort ser mais raro"
   ]
  },
  {
   "cell_type": "code",
   "execution_count": 68,
   "metadata": {
    "collapsed": true
   },
   "outputs": [],
   "source": [
    "#função heapify, que organiza o heap\n",
    "def heapify(array, i, heap_size): #i é o ponto de entrada da função no array\n",
    "    esquerda = (2*i)+1\n",
    "    direita = (2*i)+2\n",
    "    maior = i #colocando o pai na posicao de maior\n",
    "    if((esquerda < heap_size) and (array[esquerda] > array[maior])): #nodo da esquerda é maior\n",
    "        maior = esquerda\n",
    "    if((direita < heap_size) and (array[direita] > array[maior])): #nodo da direita é maior\n",
    "        maior = direita\n",
    "    if(maior != i):\n",
    "        array[i], array[maior] = array[maior], array[i]\n",
    "        heapify(array, maior, heap_size) #heap_size é quantos elementos tem no heap\n",
    "\n",
    "#função build-heap, organiza um array qualquer para ser um heap\n",
    "def buildHeap(array):\n",
    "    heap_size = len(array)\n",
    "    for i in range(int((heap_size/2)-1), -1, -1): #range de heapsize até -1 de -1 em -1\n",
    "        heapify(array, i, heap_size)\n",
    "    return heap_size\n",
    "        \n",
    "#função que implementa o heapsort\n",
    "def heapSort(array):\n",
    "    heap_size = buildHeap(array)\n",
    "    for i in range(heap_size-1, 0, -1):\n",
    "        array[i],array[0] = array[0], array[i]\n",
    "        heapify(array, 0, i)"
   ]
  },
  {
   "cell_type": "code",
   "execution_count": 69,
   "metadata": {},
   "outputs": [
    {
     "name": "stdout",
     "output_type": "stream",
     "text": [
      "Array gerado ( 20 numeros ):\n",
      " [13  2 11  7  3  7  2  6  3  3  2 11 11 13  2 12 11 14  9  3] \n",
      "\n",
      "Array ordenado com heapsort: \n",
      " [ 2  2  2  2  3  3  3  3  6  7  7  9 11 11 11 11 12 13 13 14]\n",
      "\n",
      "Tempo de processamento num array de 100.000 items: 1.578125 segundos\n"
     ]
    }
   ],
   "source": [
    "# Teste do heapsort\n",
    "max = qtd = 20\n",
    "arrayRandomico = gerador.randint(0,max+1, qtd)\n",
    "print('Array gerado (', qtd, 'numeros ):\\n', arrayRandomico, '\\n')\n",
    "\n",
    "heapSort(arrayRandomico)\n",
    "print('Array ordenado com heapsort: \\n', arrayRandomico)\n",
    "\n",
    "#teste de tempo\n",
    "max = qtd = 100000\n",
    "arrayRandomico = gerador.randint(0,max+1, qtd)\n",
    "\n",
    "tempo = time.process_time() #Armazena o tempo de inicio do processamento\n",
    "heapSort(arrayRandomico)\n",
    "t = time.process_time() - tempo #Salva em t o tempo que o processo levou\n",
    "print('\\nTempo de processamento num array de 100.000 items:', t, 'segundos')"
   ]
  },
  {
   "cell_type": "markdown",
   "metadata": {},
   "source": [
    "## Mergesort\n",
    "Melhor Caso: O(n log n)  \n",
    "Pior Caso: O(n log n)"
   ]
  },
  {
   "cell_type": "code",
   "execution_count": 12,
   "metadata": {
    "collapsed": true
   },
   "outputs": [],
   "source": [
    "#mergesort\n",
    "def mergesort(array):\n",
    "    if len(array)>1 :      \n",
    "        m = len(array)//2 #divisao de inteiros\n",
    "        Left = array[:m]\n",
    "        Right = array[m:]\n",
    "        \n",
    "        mergesort(Left)\n",
    "        mergesort(Right)\n",
    "        \n",
    "        merge(array, Left, Right)\n",
    "    \n",
    "#Intercala as duas sequencias ordenadas\n",
    "def merge(array, Left, Right):\n",
    "    i=0\n",
    "    j=0\n",
    "    k=0\n",
    "    \n",
    "    while((i < len(Left)) and (j < len(Right))): #Se ainda tem elementos nos 2 arrays\n",
    "        #determina qual subarray tem o maior elemento no ponteiro atual\n",
    "        if Left[i] < Right[j]:\n",
    "            array[k] = Left[i]\n",
    "            i += 1\n",
    "        else:\n",
    "            array[k] = Right[j]\n",
    "            j += 1\n",
    "        k += 1 #incrementa o ponteiro do novo array\n",
    "        \n",
    "    #Cai nesses 2 whiles quando um dos subarrays ja esta vazio; Eles transferem os elementos restantes dos subarrays para o array novo\n",
    "    while i < len(Left):\n",
    "        array[k] = Left[i]\n",
    "        i += 1\n",
    "        k += 1\n",
    "        \n",
    "    while j < len(Right):\n",
    "        array[k] = Right[j]\n",
    "        j += 1\n",
    "        k += 1"
   ]
  },
  {
   "cell_type": "code",
   "execution_count": 13,
   "metadata": {
    "scrolled": true
   },
   "outputs": [
    {
     "name": "stdout",
     "output_type": "stream",
     "text": [
      "Array gerado ( 20 numeros ):\n",
      " [731, 213, 326, 976, 81, 419, 428, 154, 488, 536, 932, 809, 590, 354, 84, 320, 743, 445, 209, 102] \n",
      "\n",
      "Array ordenado com mergeSort: \n",
      " [81, 84, 102, 154, 209, 213, 320, 326, 354, 419, 428, 445, 488, 536, 590, 731, 743, 809, 932, 976]\n",
      "\n",
      "Tempo de processamento num array de 100.000 items:  0.859375\n",
      "\n",
      "Tempo de processamento num array de 1.000.000 items: 9.921875 segundos\n"
     ]
    }
   ],
   "source": [
    "# Teste do merge sort\n",
    "qtd = 20\n",
    "max = 999\n",
    "arrayRandomico = gerador.randint(0,max+1, qtd) #por causa da biblioteca usada para gerar os numeros randomico a var nao é uma lista mas um numpy.ndarray\n",
    "arrayRandomico = arrayRandomico.tolist() #transformando ela em lista (pois a funcao buga com np.ndarrays)\n",
    "\n",
    "print('Array gerado (', qtd, 'numeros ):\\n', arrayRandomico, '\\n')\n",
    "\n",
    "mergesort(arrayRandomico)\n",
    "print('Array ordenado com mergeSort: \\n', arrayRandomico)\n",
    "\n",
    "#teste de tempo\n",
    "max = qtd = 100000\n",
    "arrayRandomico = gerador.randint(0,max+1, qtd)\n",
    "\n",
    "tempo = time.process_time() #Armazena o tempo de inicio do processamento\n",
    "mergesort(arrayRandomico)\n",
    "t = time.process_time() - tempo #Salva em t o tempo que o processo levou\n",
    "print('\\nTempo de processamento num array de 100.000 items: ', t)\n",
    "\n",
    "#teste de tempo extremo\n",
    "max = qtd = 1000000\n",
    "arrayRandomico = gerador.randint(0,max+1, qtd)\n",
    "\n",
    "tempo = time.process_time() #Armazena o tempo de inicio do processamento\n",
    "arrayRandomico = mergesort(arrayRandomico)\n",
    "t = time.process_time() - tempo #Salva em t o tempo que o processo levou\n",
    "print('\\nTempo de processamento num array de 1.000.000 items:', t, 'segundos')"
   ]
  },
  {
   "cell_type": "markdown",
   "metadata": {},
   "source": [
    "### Todo algoritmo de comparação está limitado por O(n log n), portando, Heapsort e Mergesort são assintoticamente ótimos, por isso veremos agora algoritmos de classificação com tempo LINEAR"
   ]
  },
  {
   "cell_type": "markdown",
   "metadata": {},
   "source": [
    " ## Bucketsort\n",
    " Melhor Caso: O(n) - O numero de buckets deve ser igual ao tamanho do array a ser ordenado (o que faz ter mais chance de haver 1 elemento por bucket)  \n",
    " Pior Caso: O(n^2)"
   ]
  },
  {
   "cell_type": "code",
   "execution_count": 15,
   "metadata": {
    "collapsed": true
   },
   "outputs": [],
   "source": [
    "def bucketsort(array, n):\n",
    "    buckets = [[] for x in range(n)] #subdivide em n buckets\n",
    "    for i, x in enumerate(array): #retorna sempre o indice e o conteudo do array\n",
    "        #divide o valor de cada elemento por 10, fazendo com que cada bucket contenha elementos de um valor decimal diferente\n",
    "        buckets[int(x/len(buckets))].append(x) \n",
    "    saida = [] #cria o array de saida\n",
    "    for buck in buckets:\n",
    "        saida += insertion_sort_novo(buck)\n",
    "    return saida\n",
    "\n",
    "#Função de inserção direta com busca linear:\n",
    "def insertion_sort_novo(array):\n",
    "    for j in range(1, len(array)): #funcao range gera uma lista de numeros com o valor inicial de j (1) e depois o final (len(array))\n",
    "        chave = array[j] #chave a ser inserida no subarray ordenado\n",
    "        i = j-1 #i recebe o ultimo elemento do subarray ordenado\n",
    "        while (i >= 0) and (array[i] > chave): #busca linear da direita para a esquerda dentro do array subordenado\n",
    "            array[i+1] = array[i]\n",
    "            i -= 1\n",
    "        array[i+1] = chave\n",
    "    return array"
   ]
  },
  {
   "cell_type": "code",
   "execution_count": 20,
   "metadata": {},
   "outputs": [
    {
     "name": "stdout",
     "output_type": "stream",
     "text": [
      "Array gerado ( 20 numeros ):\n",
      " [63 19 73 53 92 19 87 94 76 10 89 32 88 42 15 52 67 16 10 25] \n",
      "\n",
      "Array ordenado com bucket sort: \n",
      " [10, 10, 15, 16, 19, 19, 25, 32, 42, 52, 53, 63, 67, 73, 76, 87, 88, 89, 92, 94]\n",
      "\n",
      "Tempo de processamento num array de 10.000 items: 3.75 segundos\n"
     ]
    }
   ],
   "source": [
    "# Teste do bucket sort\n",
    "qtd = 20\n",
    "max = 99\n",
    "arrayRandomico = gerador.randint(0,max+1, qtd)\n",
    "print('Array gerado (', qtd, 'numeros ):\\n', arrayRandomico, '\\n')\n",
    "\n",
    "array = bucketsort(arrayRandomico, len(arrayRandomico))\n",
    "print('Array ordenado com bucket sort: \\n', array)\n",
    "\n",
    "#teste de tempo\n",
    "max = qtd = 10000\n",
    "arrayRandomico = gerador.randint(0,max+1, qtd)\n",
    "\n",
    "tempo = time.process_time() #Armazena o tempo de inicio do processamento\n",
    "bucketsort(arrayRandomico, len(arrayRandomico))\n",
    "t = time.process_time() - tempo #Salva em t o tempo que o processo levou\n",
    "print('\\nTempo de processamento num array de 10.000 items:', t, 'segundos')"
   ]
  },
  {
   "cell_type": "markdown",
   "metadata": {},
   "source": [
    "## Radix sort"
   ]
  },
  {
   "cell_type": "code",
   "execution_count": 54,
   "metadata": {
    "collapsed": true
   },
   "outputs": [],
   "source": [
    "#definicao do radix LSD (do menos significante ao mais)\n",
    "def radix_sort(array):\n",
    "    modulo = 10\n",
    "    div = 1\n",
    "    while True: #Loop infinito (so vai parar quando retornar o resultado da funcao)\n",
    "        temp_list = [[] for x in range(0,10)] #buckets, 1 para cada digito\n",
    "        for value in array:\n",
    "            menor_dig = value % modulo #Seleciona o resto da divisao por modulo\n",
    "            menor_dig /= div #Seleciona apenas o digito mais significativo\n",
    "            temp_list[int(menor_dig)].append(value)        \n",
    "\n",
    "        modulo *= 10\n",
    "        div *= 10\n",
    "        \n",
    "        if len(temp_list[0]) == len(array): #Se todos os elementos cairem no indice 0 da lista temporaria quer dizer que nao ha mais digitos a serem percorridos\n",
    "            return array\n",
    "        \n",
    "        array = [] #sobreescreve o array\n",
    "        for x in temp_list: #percorre cada bucket de temp_list\n",
    "            for y in x: #percorre cada elemento de cada bucket\n",
    "                array.append(y)"
   ]
  },
  {
   "cell_type": "code",
   "execution_count": 62,
   "metadata": {
    "scrolled": false
   },
   "outputs": [
    {
     "name": "stdout",
     "output_type": "stream",
     "text": [
      "Array gerado ( 20 numeros ):\n",
      " [ 8 17 18  4 13  1 11 11  8 20  5  7  2  7  7 10 18 13  3 11] \n",
      "\n",
      "Array ordenado com mergeSort: \n",
      " [1, 2, 3, 4, 5, 7, 7, 7, 8, 8, 10, 11, 11, 11, 13, 13, 17, 18, 18, 20]\n",
      "\n",
      "Tempo de processamento num array de 100.000 items:  0.46875\n",
      "\n",
      "Tempo de processamento num array de 1.000.000 items:  7.1875\n"
     ]
    }
   ],
   "source": [
    "# Teste do radix sort\n",
    "max = qtd = 20\n",
    "arrayRandomico = gerador.randint(0,max+1, qtd)\n",
    "print('Array gerado (', qtd, 'numeros ):\\n', arrayRandomico, '\\n')\n",
    "\n",
    "arrayRandomico = radix_sort(arrayRandomico)\n",
    "print('Array ordenado com mergeSort: \\n', arrayRandomico)\n",
    "\n",
    "#teste de tempo normal\n",
    "max = qtd = 100000\n",
    "arrayRandomico = gerador.randint(0,max+1, qtd)\n",
    "\n",
    "tempo = time.process_time() #Armazena o tempo de inicio do processamento\n",
    "arrayRandomico = radix_sort(arrayRandomico)\n",
    "t = time.process_time() - tempo #Salva em t o tempo que o processo levou\n",
    "print('\\nTempo de processamento num array de 100.000 items: ', t)\n",
    "\n",
    "#teste de tempo extremo\n",
    "max = qtd = 1000000\n",
    "arrayRandomico = gerador.randint(0,max+1, qtd)\n",
    "\n",
    "tempo = time.process_time() #Armazena o tempo de inicio do processamento\n",
    "arrayRandomico = radix_sort(arrayRandomico)\n",
    "t = time.process_time() - tempo #Salva em t o tempo que o processo levou\n",
    "print('\\nTempo de processamento num array de 1.000.000 items: ', t)"
   ]
  },
  {
   "cell_type": "markdown",
   "metadata": {},
   "source": [
    "## Counting Sort\n",
    "Caso Medio: O(n + k), onde n é tamanho do array e k o valor mais alto do array  \n",
    "Tende a ser um algoritmo muito rapido porem, exige uma prealocação de memória muito grande para ser eficiente em casos reais"
   ]
  },
  {
   "cell_type": "code",
   "execution_count": 33,
   "metadata": {
    "collapsed": true
   },
   "outputs": [],
   "source": [
    "#algoritmo counting sort\n",
    "def counting_sort(array, valMax):\n",
    "    saida = [0] * len(array)\n",
    "    counter = [0] * (valMax + 1) #cria um array do tamanho do valor max com todos os elementos zerados\n",
    "    for i in array:\n",
    "        counter[i] += 1 #conta quantos elementos tem com o valor de cada index\n",
    "        \n",
    "    for i in range(1, len(counter)):\n",
    "        counter[i] = counter[i] + counter[i-1] #conta quantos elementos menores ou iguais ao elemento do index existem no array original\n",
    "\n",
    "    for i in range(len(array)-1, -1, -1):\n",
    "        saida[counter[array[i]]-1] = array[i] #O -1 do counter serve para corrigir o fato que o index começa em 0 e nao em 1\n",
    "        counter[array[i]] -= 1\n",
    "        \n",
    "    return saida       "
   ]
  },
  {
   "cell_type": "code",
   "execution_count": 38,
   "metadata": {},
   "outputs": [
    {
     "name": "stdout",
     "output_type": "stream",
     "text": [
      "Array gerado ( 20 numeros ):\n",
      " [ 8 13 15 15 10  6 11  1 11 13 20  9 15 20 10 12 16  6 15 19] \n",
      "\n",
      "Array ordenado com counting sort: \n",
      " [1, 6, 6, 8, 9, 10, 10, 11, 11, 12, 13, 13, 15, 15, 15, 15, 16, 19, 20, 20]\n",
      "\n",
      "Tempo de processamento num array de 100.000 items:  0.078125\n",
      "\n",
      "Tempo de processamento num array de 1.000.000 items:  1.40625\n"
     ]
    }
   ],
   "source": [
    "# Teste do counting sort\n",
    "max = qtd = 20\n",
    "arrayRandomico = gerador.randint(0,max+1, qtd)\n",
    "print('Array gerado (', qtd, 'numeros ):\\n', arrayRandomico, '\\n')\n",
    "\n",
    "arrayRandomico = counting_sort(arrayRandomico, max)\n",
    "print('Array ordenado com counting sort: \\n', arrayRandomico)\n",
    "\n",
    "#teste de tempo normal\n",
    "qtd = 100000\n",
    "max = 100000\n",
    "arrayRandomico = gerador.randint(0,max+1, qtd)\n",
    "\n",
    "tempo = time.process_time() #Armazena o tempo de inicio do processamento\n",
    "arrayRandomico = counting_sort(arrayRandomico, max)\n",
    "t = time.process_time() - tempo #Salva em t o tempo que o processo levou\n",
    "print('\\nTempo de processamento num array de 100.000 items: ', t)\n",
    "\n",
    "#teste de tempo extremo\n",
    "qtd = 1000000\n",
    "max = 1000000\n",
    "arrayRandomico = gerador.randint(0,max+1, qtd)\n",
    "\n",
    "tempo = time.process_time() #Armazena o tempo de inicio do processamento\n",
    "arrayRandomico = counting_sort(arrayRandomico, max)\n",
    "t = time.process_time() - tempo #Salva em t o tempo que o processo levou\n",
    "print('\\nTempo de processamento num array de 1.000.000 items: ', t)"
   ]
  }
 ],
 "metadata": {
  "kernelspec": {
   "display_name": "Python 3",
   "language": "python",
   "name": "python3"
  },
  "language_info": {
   "codemirror_mode": {
    "name": "ipython",
    "version": 3
   },
   "file_extension": ".py",
   "mimetype": "text/x-python",
   "name": "python",
   "nbconvert_exporter": "python",
   "pygments_lexer": "ipython3",
   "version": "3.6.4"
  }
 },
 "nbformat": 4,
 "nbformat_minor": 2
}
