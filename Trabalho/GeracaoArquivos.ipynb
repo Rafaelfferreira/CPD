{
 "cells": [
  {
   "cell_type": "code",
   "execution_count": 6,
   "metadata": {},
   "outputs": [],
   "source": [
    "import pandas as pd\n",
    "import xlrd\n",
    "import pickle #modulo usado para serializar dados para o arquivo binario\n",
    "import os\n",
    "\n",
    "df = pd.read_excel('Hot Stuff.xlsx')"
   ]
  },
  {
   "cell_type": "code",
   "execution_count": 30,
   "metadata": {},
   "outputs": [],
   "source": [
    "#esta celula calcula o quao popular foi uma musica no mes especificado (Maio de 1990) atribuindo um sistema de pontos baseado em que posicao ela ficou no top 100 em cada semana do mês\n",
    "#vai contar o quao popular foi a musica no ano atribuindo pontos a quantas semanas ela ficou entre as mais tocadas\n",
    "#testando se o char especificado esta na entrada atual\n",
    "#pode ser usado para identificar anos diferentes\n",
    "for ano in range(2010,2015):\n",
    "    contador = {}\n",
    "    #Salva os registros do ano atual\n",
    "    for i in range(len(df)):\n",
    "        if (str(ano) + '-') in df['WeekID'][i]: #filtra todas as entradas por ano E mes nesse caso (Maio de 1990)\n",
    "            if(df['SongID'][i] in contador): #testa se a musica ja esta no dicionario (ja foi computada)\n",
    "                contador[df['SongID'][i]]['Pontos'] += (101 - df['Week Position'][i])\n",
    "            else: #cai aqui se ainda nao foi computada\n",
    "                contador[df['SongID'][i]] = {}\n",
    "                contador[df['SongID'][i]]['Artista'] = df['Performer'][i]\n",
    "                contador[df['SongID'][i]]['Titulo'] = df['Song'][i]\n",
    "                contador[df['SongID'][i]]['Ano'] = ano\n",
    "                contador[df['SongID'][i]]['Pontos'] = (101 - df['Week Position'][i])\n",
    "                #A medida 'Peak' nao eh a posicao exata que ela atingiu mas os \"pontos maximos\" ganhos em uma semana (de 1 a 100)\n",
    "                contador[df['SongID'][i]]['Peak'] = (101 - df['Peak Position'][i]) #salva qual foi a maior posicao alcançada pela musica (usada para criterios de desempate)\n",
    "                contador[df['SongID'][i]]['Semanas'] = df['Weeks on Chart'][i] #Terceiro criterio de desempate\n",
    "    \n",
    "    #Faz o sort do ano atual\n",
    "    items = sorted(contador.items(), key = lambda tup: (tup[1][\"Pontos\"], tup[1][\"Peak\"], tup[1][\"Semanas\"]), reverse=True)\n",
    "    \n",
    "    #armazena as primeiras 100 entradas em um dicionário mais organizado\n",
    "    top = [dict() for x in range(100)] #cria uma lista de 100 dicionarios\n",
    "    for i in range(len(top)):\n",
    "        for y in items[i][1]:\n",
    "            top[i][y] = items[i][1][y]\n",
    "            \n",
    "    #Concatena o dicionario no arquivo teste.bin\n",
    "    filename = 'teste.bin'\n",
    "    topBytes = []\n",
    "\n",
    "    if os.path.exists(filename): #confere se o arquivo existe\n",
    "        with open(filename,'rb') as openfile:  #with automaticamente da um close() no final\n",
    "            topBytes = pickle.load(openfile)\n",
    "\n",
    "\n",
    "    newData = top #Aqui vem a nova data que deve ser concatenada\n",
    "        \n",
    "    topBytes = topBytes + newData #concatena o que ja tinha no arquivo binario com a nova data\n",
    "    with (open(filename, 'wb+')) as openfile: #abre o arquivo de teste no modo de leitura binaria 'wb' como openfile\n",
    "        pickle.dump(topBytes, openfile) \n",
    "        \n",
    "        \n",
    "    #Cria o arquivo de indice para consultas    \n",
    "    filename = 'indices.bin'\n",
    "    fileBytes = []\n",
    "\n",
    "    if os.path.exists(filename): #confere se o arquivo existe\n",
    "        with open(filename,'rb') as openfile:  #with automaticamente da um close() no final\n",
    "            fileBytes = pickle.load(openfile)\n",
    "\n",
    "\n",
    "    newData = {'Ano': ano, 'Min': len(topBytes) - 100, 'Max': len(topBytes) - 1} #Aqui vem a nova data que deve ser concatenada\n",
    "        \n",
    "    fileBytes.append(newData)#concatena o que ja tinha no arquivo binario com a nova data\n",
    "    with (open(filename, 'wb+')) as openfile: #abre o arquivo de teste no modo de leitura binaria 'wb' como openfile\n",
    "        pickle.dump(fileBytes, openfile) "
   ]
  },
  {
   "cell_type": "code",
   "execution_count": 31,
   "metadata": {},
   "outputs": [],
   "source": [
    "#Faz a leitura do arquivo de registros\n",
    "with (open('teste.bin', 'rb')) as openfile:\n",
    "    leitura = pickle.load(openfile)\n",
    "    \n",
    "with (open('indices.bin', 'rb')) as openfile:\n",
    "    indices = pickle.load(openfile)"
   ]
  },
  {
   "cell_type": "code",
   "execution_count": 33,
   "metadata": {},
   "outputs": [
    {
     "name": "stdout",
     "output_type": "stream",
     "text": [
      "{'Ano': 2010, 'Min': 0, 'Max': 99}\n",
      "{'Ano': 2011, 'Min': 100, 'Max': 199}\n",
      "{'Ano': 2012, 'Min': 200, 'Max': 299}\n",
      "{'Ano': 2013, 'Min': 300, 'Max': 399}\n",
      "{'Ano': 2014, 'Min': 400, 'Max': 499}\n"
     ]
    }
   ],
   "source": [
    "for x in range(len(indices)):\n",
    "    print(indices[x])"
   ]
  }
 ],
 "metadata": {
  "kernelspec": {
   "display_name": "Python 3",
   "language": "python",
   "name": "python3"
  },
  "language_info": {
   "codemirror_mode": {
    "name": "ipython",
    "version": 3
   },
   "file_extension": ".py",
   "mimetype": "text/x-python",
   "name": "python",
   "nbconvert_exporter": "python",
   "pygments_lexer": "ipython3",
   "version": "3.6.4"
  }
 },
 "nbformat": 4,
 "nbformat_minor": 2
}
