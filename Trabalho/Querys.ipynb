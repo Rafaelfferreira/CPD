{
 "cells": [
  {
   "cell_type": "markdown",
   "metadata": {},
   "source": [
    "#### Importando as bibliotecas"
   ]
  },
  {
   "cell_type": "code",
   "execution_count": 2,
   "metadata": {
    "collapsed": true
   },
   "outputs": [],
   "source": [
    "import pandas as pd\n",
    "import xlrd\n",
    "import pickle #modulo usado para serializar dados para o arquivo binario\n",
    "import os\n",
    "import time\n",
    "import copy\n",
    "from unicodedata import normalize"
   ]
  },
  {
   "cell_type": "markdown",
   "metadata": {},
   "source": [
    "#### Criando as funções necessárias para acessar as árvores TRIE"
   ]
  },
  {
   "cell_type": "code",
   "execution_count": 20,
   "metadata": {
    "collapsed": true
   },
   "outputs": [],
   "source": [
    "class TrieNode(object):\n",
    "\n",
    "    \n",
    "    def __init__(self, char: str):   # __init__ é um método especial para fazer construtores\n",
    "        self.char = char   # caractere do nodo atual\n",
    "        self.filhos = []   # nodos filhos\n",
    "        self.pFinalizada = False   # se é o último nodo e a palavra terminou\n",
    "        self.indices = []   # lista vazia para nodos que não são término de palavra\n",
    "        ### não é um índice único e sim uma lista, pois podem existir títulos de música repetidos com mais de um artista\n",
    "\n",
    "\n",
    "#Definindo função que localiza uma string na arvore\n",
    "def findString(select, dados, raiz, palavra: str) -> (bool, []):\n",
    "    \"\"\"\n",
    "      1. Se a palavra existe e tem algum índice associado, retorna verdadeiro e a lista de índices dela\n",
    "      2. Se a palavra não existe, retorna falso e uma lista com sugestões de palavras\n",
    "      \n",
    "      Sendo o parâmetro select utilizada para indicar se a busca é por artista ou música (0 música, 1 artista)\n",
    "    \"\"\"\n",
    "    palavra = formataString(palavra)   # formata string de entrada para o padrão (todas as letras maiúsculas sem acento)\n",
    "    nodo = raiz\n",
    "    stringSugerida = \"\"  # guarda os caracteres já encontrados para sugerir os próximos\n",
    "    \n",
    "    if not raiz.filhos:   # se o nodo raiz não tiver nenhum filho, trivial, retorna falso\n",
    "        return False, []\n",
    "    for char in palavra:\n",
    "        charNaoEncontrado = True\n",
    "        for filho in nodo.filhos:\n",
    "            if filho.char == char:\n",
    "                charNaoEncontrado = False   # assinala que o char foi encontrado\n",
    "                stringSugerida = stringSugerida+char\n",
    "                nodo = filho   # passa iteração para o nodo filho\n",
    "                break\n",
    "        \n",
    "        if charNaoEncontrado:   # chama a função que procura sugestões e retorna a tupla (False, lista de sugestões)\n",
    "            return False, sugereStrings(select, dados, nodo, stringSugerida, 15)\n",
    "    \n",
    "    # Caso passe por todos os caracteres sem retornar false, então significa que a palavra foi encontrada\n",
    "    # Resta saber se aquele nodo é um nodo final com um índice associado\n",
    "    if nodo.pFinalizada:\n",
    "        return True, nodo.indices\n",
    "    else:\n",
    "        return False, sugereStrings(select, dados, nodo, stringSugerida, 15)\n",
    "    \n",
    "# Função que formata string desconsiderando maiúsculas e minúsculas e que remove acentos\n",
    "def formataString(string):\n",
    "    string = normalize('NFKD', string).encode('ASCII', 'ignore').decode('ASCII')\n",
    "    return string.upper()\n",
    "\n",
    "def sugereStrings(select, dados, nodo, string, maxSugestoes):   # onde select igual a 1 significa que se procura um artista e False, música\n",
    "        listaDeSugestoes = []   # cria lista vazia para adicionarmos as sugestões\n",
    "        procuraSugestoes(nodo, string, listaDeSugestoes)   # chama a função que percorre a trie procurando sugestões\n",
    "        \n",
    "        itera = copy.deepcopy(listaDeSugestoes)   # utilizado para iteração na lista que está sendo modificada enquanto o loop itera\n",
    "        \n",
    "        # substitui os indices pelos títulos\n",
    "        for indice in itera:\n",
    "            listaDeSugestoes.remove(indice)   # remove o índice \n",
    "            if select:\n",
    "                listaDeSugestoes.append(dados[indice]['Artista']) \n",
    "            else:\n",
    "                listaDeSugestoes.append(dados[indice]['Titulo']) \n",
    "            \n",
    "        \n",
    "        listaDeSugestoes = sorted(listaDeSugestoes)   # ordena a lista alfabeticamente\n",
    "        return listaDeSugestoes[:maxSugestoes]   # retorna apenas os n elementos da lista definidos por maxSugestoes\n",
    "\n",
    "    \n",
    "# função que dado um nodo, uma parte correta de uma string (que existe na TRIE), uma lista de sugestoes, retorna uma lista de sugestões\n",
    "def procuraSugestoes(nodo, string, listaDeSugestoes):\n",
    "        \n",
    "        if nodo.pFinalizada:   \n",
    "            listaDeSugestoes.append(nodo.indices[0])   # adiciona nova sugestão na lista\n",
    "        \n",
    "        for filho in nodo.filhos:            \n",
    "            procuraSugestoes(filho, string+filho.char, listaDeSugestoes)   # recursão para cada filho \n",
    "\n",
    "        return        "
   ]
  },
  {
   "cell_type": "markdown",
   "metadata": {},
   "source": [
    "#### Fazendo a leitura dos arquivos"
   ]
  },
  {
   "cell_type": "code",
   "execution_count": 4,
   "metadata": {
    "collapsed": true
   },
   "outputs": [],
   "source": [
    "#Faz a leitura do arquivo de registros\n",
    "with (open('teste.bin', 'rb')) as openfile:\n",
    "    dados = pickle.load(openfile)\n",
    "    \n",
    "#Leitura do arquivo de indices de anos\n",
    "with (open('indices.bin', 'rb')) as openfile:\n",
    "    indices = pickle.load(openfile)\n",
    "\n",
    "#Leitura do arquivo com a arvore TRIE de titulos de musicas\n",
    "with open('trieMusicas.bin','rb') as openfile:\n",
    "    trieMusicas = pickle.load(openfile)\n",
    "        \n",
    "#Leitura do arquivo com a arvore TRIE de nomes de artistas\n",
    "with open('trieArtistas.bin','rb') as openfile:\n",
    "    trieArtistas = pickle.load(openfile)\n",
    "    \n",
    "#Leitura do arquivo com o top 200 geral\n",
    "with open('topGeral.bin','rb') as openfile:\n",
    "    topGeral = pickle.load(openfile)"
   ]
  },
  {
   "cell_type": "markdown",
   "metadata": {},
   "source": [
    "## Definição das Querys"
   ]
  },
  {
   "cell_type": "markdown",
   "metadata": {},
   "source": [
    "#### Query que retorna um numero N de pesquisas em ordem de relevancia, filtrando por artista/ano opcionalmente\n",
    "###### Opcional: Depois criar um algoritmo que tente achar se tem mais de uma musica do mesmo artista em um ano"
   ]
  },
  {
   "cell_type": "code",
   "execution_count": 5,
   "metadata": {
    "collapsed": true
   },
   "outputs": [],
   "source": [
    "def relevancia(dados, top, ano=None, artista=None):    \n",
    "    #Retornando de um determinado ano\n",
    "    if(ano != None and artista == None):\n",
    "        #Consultando do arquivo de indices qual o index inicial do ano que o usuario entrou\n",
    "        for x in indices:\n",
    "            if x['Ano'] == ano:\n",
    "                comeco = x['Min']\n",
    "        for i in range(comeco, comeco+top):\n",
    "            print(dados[i])\n",
    "            \n",
    "    #Retornando de um determinado artista\n",
    "    if(artista != None and ano == None):\n",
    "        indicesArtista = findString(1, dados, trieArtistas, artista)[1] #retorna os indices do arquivo principal com registros do artista\n",
    "        listaMusicas2 = []\n",
    "        for i in indicesArtista:\n",
    "            listaMusicas2.append(dados[i])\n",
    "\n",
    "        listaMusicas = copy.deepcopy(listaMusicas2) #Faz uma copia de lista2 para lista, pq lista2 so referencia os registros de dados ao inves de criar eles novamente\n",
    "        \n",
    "        for i in range(len(listaMusicas)-1):\n",
    "            for j in range(i+1, len(listaMusicas)-1):\n",
    "                #print(j)\n",
    "                if(listaMusicas[i]['Titulo'] == listaMusicas[j]['Titulo']):\n",
    "                    listaMusicas[i]['Pontos'] = listaMusicas[i]['Pontos'] + listaMusicas[j]['Pontos']\n",
    "                    listaMusicas.pop(j)\n",
    "        \n",
    "        listaMusicas = sorted(listaMusicas, key = lambda tup: (tup[\"Pontos\"]), reverse=True)\n",
    "        \n",
    "        if(len(listaMusicas) < top): #Faz com que a query retorne apenas o numero de entradas pedido na variavel top\n",
    "            top = len(listaMusicas) - 1\n",
    "            \n",
    "        for i in range(top):\n",
    "            print(listaMusicas[i])    \n",
    "            \n",
    "    #Retorna o top geral\n",
    "    if(ano == None and artista == None):\n",
    "        for i in range(top):\n",
    "            print(dados[topGeral[i]['Indice']])\n",
    "        \n",
    "    #Retorna o top dos artistas em determinado ano\n",
    "    if(artista != None and ano != None):\n",
    "        #Faz o mesmo procedimento que a busca por artista\n",
    "        indicesArtista = findString(1, dados, trieArtistas, artista)[1] #retorna os indices do arquivo principal com registros do artista\n",
    "        listaMusicas2 = []\n",
    "        for i in indicesArtista:\n",
    "            listaMusicas2.append(dados[i])\n",
    "\n",
    "        listaMusicas = copy.deepcopy(listaMusicas2) #Faz uma copia de lista2 para lista, pq lista2 so referencia os registros de dados ao inves de criar eles novamente\n",
    "        \n",
    "        for i in range(len(listaMusicas)-1):\n",
    "            for j in range(i+1, len(listaMusicas)-1):\n",
    "                #print(j)\n",
    "                if(listaMusicas[i]['Titulo'] == listaMusicas[j]['Titulo']):\n",
    "                    listaMusicas[i]['Pontos'] = listaMusicas[i]['Pontos'] + listaMusicas[j]['Pontos']\n",
    "                    listaMusicas.pop(j)\n",
    "        \n",
    "        listaMusicas = sorted(listaMusicas, key = lambda tup: (tup[\"Pontos\"]), reverse=True)\n",
    "        \n",
    "        listaMusicasAno = [] #Lista com as musicas do artista no ano pedido\n",
    "        \n",
    "        for i in range(len(listaMusicas)):\n",
    "            if(listaMusicas[i]['Ano'] == ano):\n",
    "                listaMusicasAno.append(listaMusicas[i])\n",
    "            \n",
    "        if(len(listaMusicasAno) < top):\n",
    "            top = len(listaMusicasAno)\n",
    "            \n",
    "        for i in range(top):\n",
    "            print(listaMusicasAno[i])   "
   ]
  },
  {
   "cell_type": "code",
   "execution_count": 99,
   "metadata": {},
   "outputs": [
    {
     "name": "stdout",
     "output_type": "stream",
     "text": [
      "{'Artista': 'Katy Perry Featuring Kanye West', 'Titulo': 'E.T.', 'Ano': 2011, 'Pontos': 2601, 'Peak': 100, 'Semanas': 30}\n",
      "{'Artista': 'Katy Perry', 'Titulo': 'Last Friday Night (T.G.I.F.)', 'Ano': 2011, 'Pontos': 1960, 'Peak': 100, 'Semanas': 24}\n",
      "{'Artista': 'Katy Perry', 'Titulo': 'The One That Got Away', 'Ano': 2011, 'Pontos': 1897, 'Peak': 98, 'Semanas': 24}\n"
     ]
    }
   ],
   "source": [
    "relevancia(dados, 10, 2011, 'Katy Perry')"
   ]
  },
  {
   "cell_type": "markdown",
   "metadata": {},
   "source": [
    "#### Query que retorna uma lista de sugestões para artista/música dada um pedaço de string"
   ]
  },
  {
   "cell_type": "code",
   "execution_count": 27,
   "metadata": {},
   "outputs": [
    {
     "data": {
      "text/plain": [
       "(False, ['Katy Perry'])"
      ]
     },
     "execution_count": 27,
     "metadata": {},
     "output_type": "execute_result"
    }
   ],
   "source": [
    "findString(1, dados, trieArtistas, \"Katy Per\")"
   ]
  },
  {
   "cell_type": "code",
   "execution_count": 86,
   "metadata": {},
   "outputs": [],
   "source": [
    "def retiraFeaturing(artistaString):\n",
    "    \n",
    "    if \" Featuring\" in artistaString:   # Se a música tiver um featuring, deve-se retirá-lo\n",
    "            indexFeat = artistaString.find(\" Featuring\")   # pega índice do char space antes de Featuring\n",
    "            artistaString = artistaString[:indexFeat]   # retorna apenas o primeiro artista\n",
    "        \n",
    "    return artistaString   # caso não caia no if, simplesmente retorna o artista assim como veio"
   ]
  },
  {
   "cell_type": "markdown",
   "metadata": {
    "collapsed": true
   },
   "source": [
    "#### Query que retorna os N artistas mais relevantes de determinado ano"
   ]
  },
  {
   "cell_type": "code",
   "execution_count": 95,
   "metadata": {},
   "outputs": [],
   "source": [
    "def relevanciaArtistaAno(dados, indiceFile, ano, maxArtistas):\n",
    "    \n",
    "    # Loop que pega o ano passado para procurar no arquivo principal o artista mais relevante\n",
    "    for entrada in range(len(indiceFile)):\n",
    "        if indiceFile[entrada]['Ano'] == ano:\n",
    "            index = entrada\n",
    "            indexMin = indiceFile[index]['Min']\n",
    "            indexMax = indiceFile[index]['Max']\n",
    "    \n",
    "    artistasDict = {}\n",
    "    \n",
    "    # Itera pelos indices daquele determinado ano construindo um dicionário de artistas e pontos acumulados\n",
    "    while indexMin <= indexMax:\n",
    "        \n",
    "        artistaIterado = retiraFeaturing(dados[indexMin]['Artista'])\n",
    "        if artistaIterado in artistasDict:\n",
    "            artistasDict[artistaIterado] += dados[indexMin]['Pontos']\n",
    "        else:\n",
    "            artistasDict[artistaIterado] = dados[indexMin]['Pontos']\n",
    "        \n",
    "        indexMin += 1\n",
    "        \n",
    "    #artistasDict = sorted(artistasDict.items(), key = lambda tup: (tup[1][\"Pontos\"]), reverse=True)\n",
    "    dictSorted = sorted(artistasDict.items(), key=lambda kv: kv[1], reverse=True)\n",
    "    \n",
    "    return dictSorted[:maxArtistas]\n"
   ]
  },
  {
   "cell_type": "code",
   "execution_count": 96,
   "metadata": {},
   "outputs": [
    {
     "data": {
      "text/plain": [
       "[(\"Destiny's Child\", 6306),\n",
       " ('Faith Hill', 5970),\n",
       " ('Santana', 5273),\n",
       " (\"'N Sync\", 5182),\n",
       " ('Creed', 5100)]"
      ]
     },
     "execution_count": 96,
     "metadata": {},
     "output_type": "execute_result"
    }
   ],
   "source": [
    "relevanciaArtistaAno(dados, indices, 2000, 5)\n"
   ]
  },
  {
   "cell_type": "markdown",
   "metadata": {},
   "source": [
    "#### Query que retorna os N artistas mais relevantes no geral"
   ]
  },
  {
   "cell_type": "code",
   "execution_count": 100,
   "metadata": {},
   "outputs": [
    {
     "data": {
      "text/plain": [
       "[{'Indice': 7400, 'Pontos': 4676},\n",
       " {'Indice': 10600, 'Pontos': 4360},\n",
       " {'Indice': 7600, 'Pontos': 4208},\n",
       " {'Indice': 10400, 'Pontos': 4163},\n",
       " {'Indice': 7601, 'Pontos': 4082},\n",
       " {'Indice': 10800, 'Pontos': 4069},\n",
       " {'Indice': 10200, 'Pontos': 3911},\n",
       " {'Indice': 8200, 'Pontos': 3909},\n",
       " {'Indice': 10801, 'Pontos': 3898},\n",
       " {'Indice': 8800, 'Pontos': 3817},\n",
       " {'Indice': 10802, 'Pontos': 3816},\n",
       " {'Indice': 10401, 'Pontos': 3725},\n",
       " {'Indice': 8000, 'Pontos': 3722},\n",
       " {'Indice': 7602, 'Pontos': 3714},\n",
       " {'Indice': 7200, 'Pontos': 3662},\n",
       " {'Indice': 10000, 'Pontos': 3623},\n",
       " {'Indice': 9000, 'Pontos': 3622},\n",
       " {'Indice': 7401, 'Pontos': 3614},\n",
       " {'Indice': 9400, 'Pontos': 3566},\n",
       " {'Indice': 8001, 'Pontos': 3511},\n",
       " {'Indice': 10001, 'Pontos': 3485},\n",
       " {'Indice': 8801, 'Pontos': 3442},\n",
       " {'Indice': 7201, 'Pontos': 3436},\n",
       " {'Indice': 8802, 'Pontos': 3424},\n",
       " {'Indice': 7603, 'Pontos': 3408},\n",
       " {'Indice': 10803, 'Pontos': 3373},\n",
       " {'Indice': 6800, 'Pontos': 3372},\n",
       " {'Indice': 10201, 'Pontos': 3350},\n",
       " {'Indice': 8600, 'Pontos': 3348},\n",
       " {'Indice': 10402, 'Pontos': 3338},\n",
       " {'Indice': 10202, 'Pontos': 3329},\n",
       " {'Indice': 10601, 'Pontos': 3323},\n",
       " {'Indice': 10602, 'Pontos': 3318},\n",
       " {'Indice': 7604, 'Pontos': 3313},\n",
       " {'Indice': 7605, 'Pontos': 3285},\n",
       " {'Indice': 8400, 'Pontos': 3282},\n",
       " {'Indice': 8201, 'Pontos': 3280},\n",
       " {'Indice': 8002, 'Pontos': 3262},\n",
       " {'Indice': 7402, 'Pontos': 3259},\n",
       " {'Indice': 9001, 'Pontos': 3254},\n",
       " {'Indice': 10403, 'Pontos': 3243},\n",
       " {'Indice': 9600, 'Pontos': 3207},\n",
       " {'Indice': 7202, 'Pontos': 3201},\n",
       " {'Indice': 7203, 'Pontos': 3194},\n",
       " {'Indice': 9002, 'Pontos': 3143},\n",
       " {'Indice': 9800, 'Pontos': 3122},\n",
       " {'Indice': 7606, 'Pontos': 3119},\n",
       " {'Indice': 8803, 'Pontos': 3114},\n",
       " {'Indice': 9801, 'Pontos': 3108},\n",
       " {'Indice': 8601, 'Pontos': 3106},\n",
       " {'Indice': 7000, 'Pontos': 3099},\n",
       " {'Indice': 9401, 'Pontos': 3090},\n",
       " {'Indice': 9402, 'Pontos': 3065},\n",
       " {'Indice': 10603, 'Pontos': 3060},\n",
       " {'Indice': 9200, 'Pontos': 3059},\n",
       " {'Indice': 9201, 'Pontos': 3055},\n",
       " {'Indice': 8003, 'Pontos': 3033},\n",
       " {'Indice': 9802, 'Pontos': 3028},\n",
       " {'Indice': 7800, 'Pontos': 3024},\n",
       " {'Indice': 8004, 'Pontos': 3023},\n",
       " {'Indice': 10604, 'Pontos': 3003},\n",
       " {'Indice': 8401, 'Pontos': 3002},\n",
       " {'Indice': 7607, 'Pontos': 2998},\n",
       " {'Indice': 10804, 'Pontos': 2993},\n",
       " {'Indice': 10605, 'Pontos': 2988},\n",
       " {'Indice': 9003, 'Pontos': 2980},\n",
       " {'Indice': 7608, 'Pontos': 2979},\n",
       " {'Indice': 8005, 'Pontos': 2960},\n",
       " {'Indice': 7204, 'Pontos': 2959},\n",
       " {'Indice': 10404, 'Pontos': 2950},\n",
       " {'Indice': 10405, 'Pontos': 2938},\n",
       " {'Indice': 7001, 'Pontos': 2932},\n",
       " {'Indice': 10805, 'Pontos': 2931},\n",
       " {'Indice': 7403, 'Pontos': 2921},\n",
       " {'Indice': 10806, 'Pontos': 2921},\n",
       " {'Indice': 8006, 'Pontos': 2920},\n",
       " {'Indice': 10606, 'Pontos': 2910},\n",
       " {'Indice': 8202, 'Pontos': 2908},\n",
       " {'Indice': 10807, 'Pontos': 2895},\n",
       " {'Indice': 8203, 'Pontos': 2893},\n",
       " {'Indice': 10406, 'Pontos': 2890},\n",
       " {'Indice': 8007, 'Pontos': 2886},\n",
       " {'Indice': 10203, 'Pontos': 2881},\n",
       " {'Indice': 9601, 'Pontos': 2871},\n",
       " {'Indice': 8602, 'Pontos': 2868},\n",
       " {'Indice': 10607, 'Pontos': 2868},\n",
       " {'Indice': 7205, 'Pontos': 2866},\n",
       " {'Indice': 9004, 'Pontos': 2857},\n",
       " {'Indice': 9403, 'Pontos': 2841},\n",
       " {'Indice': 8402, 'Pontos': 2832},\n",
       " {'Indice': 6600, 'Pontos': 2831},\n",
       " {'Indice': 9803, 'Pontos': 2812},\n",
       " {'Indice': 10808, 'Pontos': 2812},\n",
       " {'Indice': 9804, 'Pontos': 2810},\n",
       " {'Indice': 9602, 'Pontos': 2805},\n",
       " {'Indice': 7206, 'Pontos': 2788},\n",
       " {'Indice': 10407, 'Pontos': 2783},\n",
       " {'Indice': 9805, 'Pontos': 2773},\n",
       " {'Indice': 9806, 'Pontos': 2764},\n",
       " {'Indice': 9603, 'Pontos': 2763},\n",
       " {'Indice': 8008, 'Pontos': 2760},\n",
       " {'Indice': 9604, 'Pontos': 2760},\n",
       " {'Indice': 10408, 'Pontos': 2752},\n",
       " {'Indice': 7404, 'Pontos': 2747},\n",
       " {'Indice': 9605, 'Pontos': 2747},\n",
       " {'Indice': 10409, 'Pontos': 2744},\n",
       " {'Indice': 9404, 'Pontos': 2743},\n",
       " {'Indice': 9005, 'Pontos': 2742},\n",
       " {'Indice': 6400, 'Pontos': 2738},\n",
       " {'Indice': 9202, 'Pontos': 2737},\n",
       " {'Indice': 10809, 'Pontos': 2734},\n",
       " {'Indice': 8204, 'Pontos': 2733},\n",
       " {'Indice': 9807, 'Pontos': 2719},\n",
       " {'Indice': 10410, 'Pontos': 2716},\n",
       " {'Indice': 9006, 'Pontos': 2708},\n",
       " {'Indice': 10411, 'Pontos': 2708},\n",
       " {'Indice': 7207, 'Pontos': 2705},\n",
       " {'Indice': 7208, 'Pontos': 2703},\n",
       " {'Indice': 8009, 'Pontos': 2699},\n",
       " {'Indice': 8403, 'Pontos': 2688},\n",
       " {'Indice': 10412, 'Pontos': 2686},\n",
       " {'Indice': 7405, 'Pontos': 2685},\n",
       " {'Indice': 7209, 'Pontos': 2683},\n",
       " {'Indice': 10002, 'Pontos': 2679},\n",
       " {'Indice': 10003, 'Pontos': 2662},\n",
       " {'Indice': 9007, 'Pontos': 2661},\n",
       " {'Indice': 7210, 'Pontos': 2654},\n",
       " {'Indice': 9203, 'Pontos': 2653},\n",
       " {'Indice': 8404, 'Pontos': 2650},\n",
       " {'Indice': 10204, 'Pontos': 2649},\n",
       " {'Indice': 7406, 'Pontos': 2648},\n",
       " {'Indice': 10608, 'Pontos': 2638},\n",
       " {'Indice': 8010, 'Pontos': 2636},\n",
       " {'Indice': 7211, 'Pontos': 2633},\n",
       " {'Indice': 9405, 'Pontos': 2630},\n",
       " {'Indice': 8603, 'Pontos': 2629},\n",
       " {'Indice': 7801, 'Pontos': 2628},\n",
       " {'Indice': 7802, 'Pontos': 2628},\n",
       " {'Indice': 8405, 'Pontos': 2626},\n",
       " {'Indice': 10609, 'Pontos': 2626},\n",
       " {'Indice': 10413, 'Pontos': 2624},\n",
       " {'Indice': 8604, 'Pontos': 2622},\n",
       " {'Indice': 7002, 'Pontos': 2620},\n",
       " {'Indice': 10004, 'Pontos': 2620},\n",
       " {'Indice': 10610, 'Pontos': 2619},\n",
       " {'Indice': 6601, 'Pontos': 2611},\n",
       " {'Indice': 8804, 'Pontos': 2608},\n",
       " {'Indice': 9204, 'Pontos': 2607},\n",
       " {'Indice': 8605, 'Pontos': 2606},\n",
       " {'Indice': 9008, 'Pontos': 2603},\n",
       " {'Indice': 10205, 'Pontos': 2601},\n",
       " {'Indice': 8606, 'Pontos': 2593},\n",
       " {'Indice': 10005, 'Pontos': 2592},\n",
       " {'Indice': 6801, 'Pontos': 2591},\n",
       " {'Indice': 8805, 'Pontos': 2588},\n",
       " {'Indice': 6802, 'Pontos': 2585},\n",
       " {'Indice': 6602, 'Pontos': 2581},\n",
       " {'Indice': 7407, 'Pontos': 2581},\n",
       " {'Indice': 9808, 'Pontos': 2581},\n",
       " {'Indice': 6803, 'Pontos': 2578},\n",
       " {'Indice': 9205, 'Pontos': 2578},\n",
       " {'Indice': 8607, 'Pontos': 2577},\n",
       " {'Indice': 9606, 'Pontos': 2577},\n",
       " {'Indice': 9809, 'Pontos': 2576},\n",
       " {'Indice': 7408, 'Pontos': 2575},\n",
       " {'Indice': 8011, 'Pontos': 2573},\n",
       " {'Indice': 6804, 'Pontos': 2567},\n",
       " {'Indice': 10810, 'Pontos': 2564},\n",
       " {'Indice': 9810, 'Pontos': 2563},\n",
       " {'Indice': 9811, 'Pontos': 2563},\n",
       " {'Indice': 8608, 'Pontos': 2557},\n",
       " {'Indice': 7212, 'Pontos': 2553},\n",
       " {'Indice': 7409, 'Pontos': 2553},\n",
       " {'Indice': 7803, 'Pontos': 2551},\n",
       " {'Indice': 9206, 'Pontos': 2547},\n",
       " {'Indice': 9406, 'Pontos': 2545},\n",
       " {'Indice': 10006, 'Pontos': 2545},\n",
       " {'Indice': 8205, 'Pontos': 2542},\n",
       " {'Indice': 10611, 'Pontos': 2541},\n",
       " {'Indice': 10206, 'Pontos': 2540},\n",
       " {'Indice': 9009, 'Pontos': 2538},\n",
       " {'Indice': 9407, 'Pontos': 2531},\n",
       " {'Indice': 9812, 'Pontos': 2530},\n",
       " {'Indice': 7804, 'Pontos': 2520},\n",
       " {'Indice': 8406, 'Pontos': 2519},\n",
       " {'Indice': 9207, 'Pontos': 2519},\n",
       " {'Indice': 10007, 'Pontos': 2507},\n",
       " {'Indice': 8407, 'Pontos': 2501},\n",
       " {'Indice': 7213, 'Pontos': 2500},\n",
       " {'Indice': 8012, 'Pontos': 2498},\n",
       " {'Indice': 7410, 'Pontos': 2496},\n",
       " {'Indice': 7003, 'Pontos': 2495},\n",
       " {'Indice': 7004, 'Pontos': 2494},\n",
       " {'Indice': 10811, 'Pontos': 2494},\n",
       " {'Indice': 7411, 'Pontos': 2491},\n",
       " {'Indice': 10207, 'Pontos': 2490},\n",
       " {'Indice': 6805, 'Pontos': 2487},\n",
       " {'Indice': 7609, 'Pontos': 2485},\n",
       " {'Indice': 8013, 'Pontos': 2481},\n",
       " {'Indice': 8206, 'Pontos': 2480}]"
      ]
     },
     "execution_count": 100,
     "metadata": {},
     "output_type": "execute_result"
    }
   ],
   "source": [
    "topGeral"
   ]
  },
  {
   "cell_type": "code",
   "execution_count": null,
   "metadata": {
    "collapsed": true
   },
   "outputs": [],
   "source": []
  }
 ],
 "metadata": {
  "kernelspec": {
   "display_name": "Python 3",
   "language": "python",
   "name": "python3"
  },
  "language_info": {
   "codemirror_mode": {
    "name": "ipython",
    "version": 3
   },
   "file_extension": ".py",
   "mimetype": "text/x-python",
   "name": "python",
   "nbconvert_exporter": "python",
   "pygments_lexer": "ipython3",
   "version": "3.6.1"
  }
 },
 "nbformat": 4,
 "nbformat_minor": 2
}
