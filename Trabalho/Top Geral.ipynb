{
 "cells": [
  {
   "cell_type": "code",
   "execution_count": 46,
   "metadata": {
    "collapsed": true
   },
   "outputs": [],
   "source": [
    "class ABPNode:\n",
    "\n",
    "    #metodo init eh chamado automaticamente sempre que um Nodo for criado\n",
    "    def __init__(self, pontos, index):\n",
    "        self.left = None\n",
    "        self.right = None\n",
    "        self.pontos = pontos #variavel que armazena quantos pontos tem a musica\n",
    "        self.index = index #indice da musica no arquivo main\n",
    "\n",
    "    #metodo de insercao de nodods\n",
    "    def insert(self, pontos, index):\n",
    "    #Compare the new value with the parent node\n",
    "        if self.pontos:\n",
    "            if pontos < self.pontos:\n",
    "                if self.left is None:\n",
    "                    self.left = ABPNode(pontos, index)\n",
    "                else:\n",
    "                    self.left.insert(pontos, index)\n",
    "            elif pontos > self.pontos:\n",
    "                if self.right is None:\n",
    "                    self.right = ABPNode(pontos, index)\n",
    "                else:\n",
    "                    self.right.insert(pontos, index)\n",
    "        else:\n",
    "            self.data = pontos\n",
    "            self.index = index\n",
    "\n",
    "    # Print the tree - metodo para ser usado apenas no teste\n",
    "    def printTree(self):\n",
    "        if self.left:\n",
    "            self.left.printTree()\n",
    "        print(self.pontos, ':', self.index)\n",
    "        if self.right:\n",
    "            self.right.printTree()"
   ]
  },
  {
   "cell_type": "code",
   "execution_count": 43,
   "metadata": {},
   "outputs": [
    {
     "name": "stdout",
     "output_type": "stream",
     "text": [
      "12 : 2\n"
     ]
    }
   ],
   "source": [
    "root = ABPNode(12, 2)\n",
    "root.printTree()"
   ]
  },
  {
   "cell_type": "code",
   "execution_count": 45,
   "metadata": {},
   "outputs": [
    {
     "name": "stdout",
     "output_type": "stream",
     "text": [
      "9 : 2232\n",
      "12 : 2\n",
      "14 : 2\n"
     ]
    }
   ],
   "source": [
    "root.insert(9,2232)\n",
    "root.printTree()"
   ]
  }
 ],
 "metadata": {
  "kernelspec": {
   "display_name": "Python 3",
   "language": "python",
   "name": "python3"
  },
  "language_info": {
   "codemirror_mode": {
    "name": "ipython",
    "version": 3
   },
   "file_extension": ".py",
   "mimetype": "text/x-python",
   "name": "python",
   "nbconvert_exporter": "python",
   "pygments_lexer": "ipython3",
   "version": "3.6.3"
  }
 },
 "nbformat": 4,
 "nbformat_minor": 2
}
