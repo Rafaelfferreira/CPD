{
 "cells": [
  {
   "cell_type": "code",
   "execution_count": 1,
   "metadata": {
    "collapsed": true
   },
   "outputs": [],
   "source": [
    "import pandas as pd\n",
    "import xlrd\n",
    "import pickle #modulo usado para serializar dados para o arquivo binario\n",
    "import os\n",
    "import time\n",
    "\n",
    "df = pd.read_excel('Hot Stuff.xlsx')"
   ]
  },
  {
   "cell_type": "code",
   "execution_count": 11,
   "metadata": {},
   "outputs": [
    {
     "name": "stdout",
     "output_type": "stream",
     "text": [
      "Tempo levado para gerar os arquivos:  42.311931848526 segundos\n"
     ]
    }
   ],
   "source": [
    "#esta celula calcula o quao popular foi uma musica no mes especificado (Maio de 1990) atribuindo um sistema de pontos baseado em que posicao ela ficou no top 100 em cada semana do mês\n",
    "#vai contar o quao popular foi a musica no ano atribuindo pontos a quantas semanas ela ficou entre as mais tocadas\n",
    "#testando se o char especificado esta na entrada atual\n",
    "#pode ser usado para identificar anos diferentes\n",
    "\n",
    "tempo = time.time() #Armazena o tempo de inicio do processamento\n",
    "for ano in range(1960,2015):\n",
    "    contador = {}\n",
    "    #Salva os registros do ano atual\n",
    "    for i in range(len(df)):\n",
    "        if (str(ano) + '-') in df['WeekID'][i]: #filtra todas as entradas por ano E mes nesse caso (Maio de 1990)\n",
    "            if(df['SongID'][i] in contador): #testa se a musica ja esta no dicionario (ja foi computada)\n",
    "                contador[df['SongID'][i]]['Pontos'] += (101 - df['Week Position'][i])\n",
    "            else: #cai aqui se ainda nao foi computada\n",
    "                contador[df['SongID'][i]] = {}\n",
    "                contador[df['SongID'][i]]['Artista'] = df['Performer'][i]\n",
    "                contador[df['SongID'][i]]['Titulo'] = df['Song'][i]\n",
    "                contador[df['SongID'][i]]['Ano'] = ano\n",
    "                contador[df['SongID'][i]]['Pontos'] = (101 - df['Week Position'][i])\n",
    "                #A medida 'Peak' nao eh a posicao exata que ela atingiu mas os \"pontos maximos\" ganhos em uma semana (de 1 a 100)\n",
    "                contador[df['SongID'][i]]['Peak'] = (101 - df['Peak Position'][i]) #salva qual foi a maior posicao alcançada pela musica (usada para criterios de desempate)\n",
    "                contador[df['SongID'][i]]['Semanas'] = df['Weeks on Chart'][i] #Terceiro criterio de desempate\n",
    "    \n",
    "    #Faz o sort do ano atual\n",
    "    items = sorted(contador.items(), key = lambda tup: (tup[1][\"Pontos\"], tup[1][\"Peak\"], tup[1][\"Semanas\"]), reverse=True)\n",
    "    \n",
    "    #armazena as primeiras 100 entradas em um dicionário mais organizado\n",
    "    top = [dict() for x in range(200)] #cria uma lista de 100 dicionarios\n",
    "    for i in range(len(top)):\n",
    "        for y in items[i][1]:\n",
    "            top[i][y] = items[i][1][y]\n",
    "            \n",
    "    #Concatena o dicionario no arquivo teste.bin\n",
    "    filename = 'teste.bin'\n",
    "    topBytes = []\n",
    "\n",
    "    if os.path.exists(filename): #confere se o arquivo existe\n",
    "        with open(filename,'rb') as openfile:  #with automaticamente da um close() no final\n",
    "            topBytes = pickle.load(openfile)\n",
    "\n",
    "\n",
    "    newData = top #Aqui vem a nova data que deve ser concatenada\n",
    "        \n",
    "    topBytes = topBytes + newData #concatena o que ja tinha no arquivo binario com a nova data\n",
    "    with (open(filename, 'wb+')) as openfile: #abre o arquivo de teste no modo de leitura binaria 'wb' como openfile\n",
    "        pickle.dump(topBytes, openfile) \n",
    "        \n",
    "        \n",
    "    #Cria o arquivo de indice para consultas    \n",
    "    filename = 'indices.bin'\n",
    "    fileBytes = []\n",
    "\n",
    "    if os.path.exists(filename): #confere se o arquivo existe\n",
    "        with open(filename,'rb') as openfile:  #with automaticamente da um close() no final\n",
    "            fileBytes = pickle.load(openfile)\n",
    "\n",
    "\n",
    "    newData = {'Ano': ano, 'Min': len(topBytes) - 200, 'Max': len(topBytes) - 1} #Aqui vem a nova data que deve ser concatenada\n",
    "        \n",
    "    fileBytes.append(newData)#concatena o que ja tinha no arquivo binario com a nova data\n",
    "    with (open(filename, 'wb+')) as openfile: #abre o arquivo de teste no modo de leitura binaria 'wb' como openfile\n",
    "        pickle.dump(fileBytes, openfile)\n",
    "        \n",
    "t = time.time() - tempo #Salva em t o tempo que o processo levou\n",
    "print('Tempo levado para gerar os arquivos: ', t, 'segundos')"
   ]
  },
  {
   "cell_type": "code",
   "execution_count": 12,
   "metadata": {
    "collapsed": true
   },
   "outputs": [],
   "source": [
    "#Faz a leitura do arquivo de registros\n",
    "with (open('teste.bin', 'rb')) as openfile:\n",
    "    leitura = pickle.load(openfile)\n",
    "    \n",
    "with (open('indices.bin', 'rb')) as openfile:\n",
    "    indices = pickle.load(openfile)"
   ]
  },
  {
   "cell_type": "code",
   "execution_count": 13,
   "metadata": {},
   "outputs": [
    {
     "name": "stdout",
     "output_type": "stream",
     "text": [
      "{'Ano': 2010, 'Min': 0, 'Max': 199}\n",
      "{'Ano': 2011, 'Min': 200, 'Max': 399}\n",
      "{'Ano': 2012, 'Min': 400, 'Max': 599}\n",
      "{'Ano': 2013, 'Min': 600, 'Max': 799}\n",
      "{'Ano': 2014, 'Min': 800, 'Max': 999}\n"
     ]
    }
   ],
   "source": [
    "for i in indices:\n",
    "    print(i)"
   ]
  },
  {
   "cell_type": "code",
   "execution_count": 14,
   "metadata": {},
   "outputs": [
    {
     "name": "stdout",
     "output_type": "stream",
     "text": [
      "1000\n"
     ]
    }
   ],
   "source": [
    "print(len(leitura))"
   ]
  },
  {
   "cell_type": "markdown",
   "metadata": {},
   "source": [
    "### Teste da relação\n",
    "consultando o indice inicial de um dado ano no arquivo indice e imprimindo os 5 mais populares daquele ano"
   ]
  },
  {
   "cell_type": "code",
   "execution_count": 15,
   "metadata": {},
   "outputs": [
    {
     "name": "stdout",
     "output_type": "stream",
     "text": [
      "{'Artista': 'John Legend', 'Titulo': 'All Of Me', 'Ano': 2014, 'Pontos': 4069, 'Peak': 100, 'Semanas': 59}\n",
      "{'Artista': 'Pharrell Williams', 'Titulo': 'Happy', 'Ano': 2014, 'Pontos': 3898, 'Peak': 100, 'Semanas': 47}\n",
      "{'Artista': 'Katy Perry Featuring Juicy J', 'Titulo': 'Dark Horse', 'Ano': 2014, 'Pontos': 3816, 'Peak': 100, 'Semanas': 57}\n",
      "{'Artista': 'OneRepublic', 'Titulo': 'Counting Stars', 'Ano': 2014, 'Pontos': 3373, 'Peak': 99, 'Semanas': 68}\n",
      "{'Artista': 'Iggy Azalea Featuring Charli XCX', 'Titulo': 'Fancy', 'Ano': 2014, 'Pontos': 2993, 'Peak': 100, 'Semanas': 39}\n"
     ]
    }
   ],
   "source": [
    "start = 0\n",
    "\n",
    "for x in indices:\n",
    "    if x['Ano'] == 2014:\n",
    "        start = x['Min']\n",
    " \n",
    "for i in range(5):\n",
    "    print(leitura[start + i])"
   ]
  },
  {
   "cell_type": "code",
   "execution_count": 16,
   "metadata": {},
   "outputs": [
    {
     "name": "stdout",
     "output_type": "stream",
     "text": [
      "{'Artista': 'Ty Dolla $ign Featuring B.o.B', 'Titulo': 'Paranoid', 'Ano': 2014, 'Pontos': 933, 'Peak': 72, 'Semanas': 20}\n",
      "{'Artista': 'Fall Out Boy', 'Titulo': 'Centuries', 'Ano': 2014, 'Pontos': 924, 'Peak': 91, 'Semanas': 34}\n",
      "{'Artista': 'Miley Cyrus', 'Titulo': 'Adore You', 'Ano': 2014, 'Pontos': 920, 'Peak': 80, 'Semanas': 18}\n",
      "{'Artista': 'Nicki Minaj', 'Titulo': 'Pills N Potions', 'Ano': 2014, 'Pontos': 916, 'Peak': 77, 'Semanas': 18}\n",
      "{'Artista': 'Miranda Lambert Duet With Carrie Underwood', 'Titulo': \"Somethin' Bad\", 'Ano': 2014, 'Pontos': 898, 'Peak': 82, 'Semanas': 20}\n"
     ]
    }
   ],
   "source": [
    "start = 0\n",
    "\n",
    "for x in indices:\n",
    "    if x['Ano'] == 2014:\n",
    "        start = x['Min']\n",
    "        \n",
    "#Retorna as posicoes de 100 a 104 \n",
    "desvio = 100\n",
    "\n",
    "for i in range(5):\n",
    "    print(leitura[start + i + desvio])"
   ]
  }
 ],
 "metadata": {
  "kernelspec": {
   "display_name": "Python 3",
   "language": "python",
   "name": "python3"
  },
  "language_info": {
   "codemirror_mode": {
    "name": "ipython",
    "version": 3
   },
   "file_extension": ".py",
   "mimetype": "text/x-python",
   "name": "python",
   "nbconvert_exporter": "python",
   "pygments_lexer": "ipython3",
   "version": "3.6.3"
  }
 },
 "nbformat": 4,
 "nbformat_minor": 2
}
