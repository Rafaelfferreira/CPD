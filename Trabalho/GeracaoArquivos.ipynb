{
 "cells": [
  {
   "cell_type": "code",
   "execution_count": null,
   "metadata": {},
   "outputs": [],
   "source": [
    "import pandas as pd\n",
    "import xlrd\n",
    "import pickle #modulo usado para serializar dados para o arquivo binario\n",
    "import os\n",
    "import time\n",
    "\n",
    "df = pd.read_excel('Hot Stuff.xlsx')"
   ]
  },
  {
   "cell_type": "code",
   "execution_count": null,
   "metadata": {},
   "outputs": [],
   "source": [
    "#esta celula calcula o quao popular foi uma musica no mes especificado (Maio de 1990) atribuindo um sistema de pontos baseado em que posicao ela ficou no top 100 em cada semana do mês\n",
    "#vai contar o quao popular foi a musica no ano atribuindo pontos a quantas semanas ela ficou entre as mais tocadas\n",
    "#testando se o char especificado esta na entrada atual\n",
    "#pode ser usado para identificar anos diferentes\n",
    "\n",
    "tempo = time.time() #Armazena o tempo de inicio do processamento\n",
    "for ano in range(1960,2015):\n",
    "    contador = {}\n",
    "    #Salva os registros do ano atual\n",
    "    for i in range(len(df)):\n",
    "        if (str(ano) + '-') in df['WeekID'][i]: #filtra todas as entradas por ano E mes nesse caso (Maio de 1990)\n",
    "            if(df['SongID'][i] in contador): #testa se a musica ja esta no dicionario (ja foi computada)\n",
    "                contador[df['SongID'][i]]['Pontos'] += (101 - df['Week Position'][i])\n",
    "            else: #cai aqui se ainda nao foi computada\n",
    "                contador[df['SongID'][i]] = {}\n",
    "                contador[df['SongID'][i]]['Artista'] = df['Performer'][i]\n",
    "                contador[df['SongID'][i]]['Titulo'] = df['Song'][i]\n",
    "                contador[df['SongID'][i]]['Ano'] = ano\n",
    "                contador[df['SongID'][i]]['Pontos'] = (101 - df['Week Position'][i])\n",
    "                #A medida 'Peak' nao eh a posicao exata que ela atingiu mas os \"pontos maximos\" ganhos em uma semana (de 1 a 100)\n",
    "                contador[df['SongID'][i]]['Peak'] = (101 - df['Peak Position'][i]) #salva qual foi a maior posicao alcançada pela musica (usada para criterios de desempate)\n",
    "                contador[df['SongID'][i]]['Semanas'] = df['Weeks on Chart'][i] #Terceiro criterio de desempate\n",
    "    \n",
    "    #Faz o sort do ano atual\n",
    "    items = sorted(contador.items(), key = lambda tup: (tup[1][\"Pontos\"], tup[1][\"Peak\"], tup[1][\"Semanas\"]), reverse=True)\n",
    "    \n",
    "    #armazena as primeiras 100 entradas em um dicionário mais organizado\n",
    "    top = [dict() for x in range(200)] #cria uma lista de 100 dicionarios\n",
    "    for i in range(len(top)):\n",
    "        for y in items[i][1]:\n",
    "            top[i][y] = items[i][1][y]\n",
    "            \n",
    "    #Concatena o dicionario no arquivo teste.bin\n",
    "    filename = 'teste.bin'\n",
    "    topBytes = []\n",
    "\n",
    "    if os.path.exists(filename): #confere se o arquivo existe\n",
    "        with open(filename,'rb') as openfile:  #with automaticamente da um close() no final\n",
    "            topBytes = pickle.load(openfile)\n",
    "\n",
    "\n",
    "    newData = top #Aqui vem a nova data que deve ser concatenada\n",
    "        \n",
    "    topBytes = topBytes + newData #concatena o que ja tinha no arquivo binario com a nova data\n",
    "    with (open(filename, 'wb+')) as openfile: #abre o arquivo de teste no modo de leitura binaria 'wb' como openfile\n",
    "        pickle.dump(topBytes, openfile) \n",
    "        \n",
    "        \n",
    "    #Cria o arquivo de indice para consultas    \n",
    "    filename = 'indices.bin'\n",
    "    fileBytes = []\n",
    "\n",
    "    if os.path.exists(filename): #confere se o arquivo existe\n",
    "        with open(filename,'rb') as openfile:  #with automaticamente da um close() no final\n",
    "            fileBytes = pickle.load(openfile)\n",
    "\n",
    "\n",
    "    newData = {'Ano': ano, 'Min': len(topBytes) - 200, 'Max': len(topBytes) - 1} #Aqui vem a nova data que deve ser concatenada\n",
    "        \n",
    "    fileBytes.append(newData)#concatena o que ja tinha no arquivo binario com a nova data\n",
    "    with (open(filename, 'wb+')) as openfile: #abre o arquivo de teste no modo de leitura binaria 'wb' como openfile\n",
    "        pickle.dump(fileBytes, openfile)\n",
    "        \n",
    "t = time.time() - tempo #Salva em t o tempo que o processo levou\n",
    "print('Tempo levado para gerar os arquivos: ', t, 'segundos')"
   ]
  },
  {
   "cell_type": "code",
   "execution_count": null,
   "metadata": {},
   "outputs": [],
   "source": [
    "#Faz a leitura do arquivo de registros\n",
    "with (open('teste.bin', 'rb')) as openfile:\n",
    "    leitura = pickle.load(openfile)\n",
    "    \n",
    "with (open('indices.bin', 'rb')) as openfile:\n",
    "    indices = pickle.load(openfile)"
   ]
  },
  {
   "cell_type": "code",
   "execution_count": 13,
   "metadata": {},
   "outputs": [
    {
     "name": "stdout",
     "output_type": "stream",
     "text": [
      "{'Ano': 2010, 'Min': 0, 'Max': 199}\n",
      "{'Ano': 2011, 'Min': 200, 'Max': 399}\n",
      "{'Ano': 2012, 'Min': 400, 'Max': 599}\n",
      "{'Ano': 2013, 'Min': 600, 'Max': 799}\n",
      "{'Ano': 2014, 'Min': 800, 'Max': 999}\n",
      "{'Ano': 1960, 'Min': 1000, 'Max': 1199}\n",
      "{'Ano': 1961, 'Min': 1200, 'Max': 1399}\n",
      "{'Ano': 1962, 'Min': 1400, 'Max': 1599}\n",
      "{'Ano': 1963, 'Min': 1600, 'Max': 1799}\n",
      "{'Ano': 1964, 'Min': 1800, 'Max': 1999}\n",
      "{'Ano': 1965, 'Min': 2000, 'Max': 2199}\n",
      "{'Ano': 1966, 'Min': 2200, 'Max': 2399}\n",
      "{'Ano': 1967, 'Min': 2400, 'Max': 2599}\n",
      "{'Ano': 1968, 'Min': 2600, 'Max': 2799}\n",
      "{'Ano': 1969, 'Min': 2800, 'Max': 2999}\n",
      "{'Ano': 1970, 'Min': 3000, 'Max': 3199}\n",
      "{'Ano': 1971, 'Min': 3200, 'Max': 3399}\n",
      "{'Ano': 1972, 'Min': 3400, 'Max': 3599}\n",
      "{'Ano': 1973, 'Min': 3600, 'Max': 3799}\n",
      "{'Ano': 1974, 'Min': 3800, 'Max': 3999}\n",
      "{'Ano': 1975, 'Min': 4000, 'Max': 4199}\n",
      "{'Ano': 1976, 'Min': 4200, 'Max': 4399}\n",
      "{'Ano': 1977, 'Min': 4400, 'Max': 4599}\n",
      "{'Ano': 1978, 'Min': 4600, 'Max': 4799}\n",
      "{'Ano': 1979, 'Min': 4800, 'Max': 4999}\n",
      "{'Ano': 1980, 'Min': 5000, 'Max': 5199}\n",
      "{'Ano': 1981, 'Min': 5200, 'Max': 5399}\n",
      "{'Ano': 1982, 'Min': 5400, 'Max': 5599}\n",
      "{'Ano': 1983, 'Min': 5600, 'Max': 5799}\n",
      "{'Ano': 1984, 'Min': 5800, 'Max': 5999}\n",
      "{'Ano': 1985, 'Min': 6000, 'Max': 6199}\n",
      "{'Ano': 1986, 'Min': 6200, 'Max': 6399}\n",
      "{'Ano': 1987, 'Min': 6400, 'Max': 6599}\n",
      "{'Ano': 1988, 'Min': 6600, 'Max': 6799}\n",
      "{'Ano': 1989, 'Min': 6800, 'Max': 6999}\n",
      "{'Ano': 1990, 'Min': 7000, 'Max': 7199}\n",
      "{'Ano': 1991, 'Min': 7200, 'Max': 7399}\n",
      "{'Ano': 1992, 'Min': 7400, 'Max': 7599}\n",
      "{'Ano': 1993, 'Min': 7600, 'Max': 7799}\n",
      "{'Ano': 1994, 'Min': 7800, 'Max': 7999}\n",
      "{'Ano': 1995, 'Min': 8000, 'Max': 8199}\n",
      "{'Ano': 1996, 'Min': 8200, 'Max': 8399}\n",
      "{'Ano': 1997, 'Min': 8400, 'Max': 8599}\n",
      "{'Ano': 1998, 'Min': 8600, 'Max': 8799}\n",
      "{'Ano': 1999, 'Min': 8800, 'Max': 8999}\n",
      "{'Ano': 2000, 'Min': 9000, 'Max': 9199}\n",
      "{'Ano': 2001, 'Min': 9200, 'Max': 9399}\n",
      "{'Ano': 2002, 'Min': 9400, 'Max': 9599}\n",
      "{'Ano': 2003, 'Min': 9600, 'Max': 9799}\n",
      "{'Ano': 2004, 'Min': 9800, 'Max': 9999}\n",
      "{'Ano': 2005, 'Min': 10000, 'Max': 10199}\n",
      "{'Ano': 2006, 'Min': 10200, 'Max': 10399}\n",
      "{'Ano': 2007, 'Min': 10400, 'Max': 10599}\n",
      "{'Ano': 2008, 'Min': 10600, 'Max': 10799}\n",
      "{'Ano': 2009, 'Min': 10800, 'Max': 10999}\n",
      "{'Ano': 2010, 'Min': 11000, 'Max': 11199}\n",
      "{'Ano': 2011, 'Min': 11200, 'Max': 11399}\n",
      "{'Ano': 2012, 'Min': 11400, 'Max': 11599}\n",
      "{'Ano': 2013, 'Min': 11600, 'Max': 11799}\n",
      "{'Ano': 2014, 'Min': 11800, 'Max': 11999}\n"
     ]
    }
   ],
   "source": [
    "for i in indices:\n",
    "    print(i)"
   ]
  },
  {
   "cell_type": "code",
   "execution_count": 14,
   "metadata": {},
   "outputs": [
    {
     "name": "stdout",
     "output_type": "stream",
     "text": [
      "12000\n"
     ]
    }
   ],
   "source": [
    "print(len(leitura))"
   ]
  },
  {
   "cell_type": "markdown",
   "metadata": {},
   "source": [
    "### Teste da relação\n",
    "consultando o indice inicial de um dado ano no arquivo indice e imprimindo os 5 mais populares daquele ano"
   ]
  },
  {
   "cell_type": "code",
   "execution_count": 12,
   "metadata": {},
   "outputs": [
    {
     "name": "stdout",
     "output_type": "stream",
     "text": [
      "{'Artista': 'John Legend', 'Titulo': 'All Of Me', 'Ano': 2014, 'Pontos': 4069, 'Peak': 100, 'Semanas': 59}\n",
      "{'Artista': 'Pharrell Williams', 'Titulo': 'Happy', 'Ano': 2014, 'Pontos': 3898, 'Peak': 100, 'Semanas': 47}\n",
      "{'Artista': 'Katy Perry Featuring Juicy J', 'Titulo': 'Dark Horse', 'Ano': 2014, 'Pontos': 3816, 'Peak': 100, 'Semanas': 57}\n",
      "{'Artista': 'OneRepublic', 'Titulo': 'Counting Stars', 'Ano': 2014, 'Pontos': 3373, 'Peak': 99, 'Semanas': 68}\n",
      "{'Artista': 'Iggy Azalea Featuring Charli XCX', 'Titulo': 'Fancy', 'Ano': 2014, 'Pontos': 2993, 'Peak': 100, 'Semanas': 39}\n"
     ]
    }
   ],
   "source": [
    "start = 0\n",
    "\n",
    "for x in indices:\n",
    "    if x['Ano'] == 2014:\n",
    "        start = x['Min']\n",
    " \n",
    "for i in range(5):\n",
    "    print(leitura[start + i])"
   ]
  },
  {
   "cell_type": "code",
   "execution_count": null,
   "metadata": {},
   "outputs": [],
   "source": [
    "start = 0\n",
    "\n",
    "for x in indices:\n",
    "    if x['Ano'] == 2014:\n",
    "        start = x['Min']\n",
    "        \n",
    "#Retorna as posicoes de 100 a 104 \n",
    "desvio = 100\n",
    "\n",
    "for i in range(5):\n",
    "    print(leitura[start + i + desvio])"
   ]
  }
 ],
 "metadata": {
  "kernelspec": {
   "display_name": "Python 3",
   "language": "python",
   "name": "python3"
  },
  "language_info": {
   "codemirror_mode": {
    "name": "ipython",
    "version": 3
   },
   "file_extension": ".py",
   "mimetype": "text/x-python",
   "name": "python",
   "nbconvert_exporter": "python",
   "pygments_lexer": "ipython3",
   "version": "3.7.0"
  }
 },
 "nbformat": 4,
 "nbformat_minor": 2
}
