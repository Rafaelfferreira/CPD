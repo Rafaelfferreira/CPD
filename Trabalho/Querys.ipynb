{
 "cells": [
  {
   "cell_type": "markdown",
   "metadata": {},
   "source": [
    "#### Importando as bibliotecas"
   ]
  },
  {
   "cell_type": "code",
   "execution_count": 1,
   "metadata": {
    "collapsed": true
   },
   "outputs": [],
   "source": [
    "import pandas as pd\n",
    "import xlrd\n",
    "import pickle #modulo usado para serializar dados para o arquivo binario\n",
    "import os\n",
    "import time\n",
    "import copy"
   ]
  },
  {
   "cell_type": "markdown",
   "metadata": {},
   "source": [
    "#### Criando as funções necessárias para acessar as árvores TRIE"
   ]
  },
  {
   "cell_type": "code",
   "execution_count": 2,
   "metadata": {
    "collapsed": true
   },
   "outputs": [],
   "source": [
    "#Definindo classe de nodos TRIE\n",
    "class TrieNode(object):\n",
    "    def __init__(self, char: str):   # __init__ é um método especial para fazer construtores\n",
    "        self.char = char   # caractere do nodo atual\n",
    "        self.filhos = []   # nodos filhos\n",
    "        self.pFinalizada = False   # se é o último nodo e a palavra terminou\n",
    "        self.indices = []   # lista vazia para nodos que não são término de palavra\n",
    "        ### não é um índice único e sim uma lista, pois podem existir títulos de música repetidos com mais de um artista\n",
    "        \n",
    "#Definindo função que adiciona uma string nova a arvore\n",
    "def addString(raiz, palavra: str, indice: int):   # função usada para adicionar uma palavra nova à estrutura trie\n",
    "\n",
    "    nodo = raiz\n",
    "    for char in palavra:\n",
    "        encontradoEmFilho = False\n",
    "        # busca pelo caractere nos filhos do nodo atual\n",
    "        for filho in nodo.filhos:\n",
    "            if filho.char == char: \n",
    "                nodo = filho   # apontamos o nodo para o filho que contém esse char\n",
    "                encontradoEmFilho = True\n",
    "                break\n",
    "        \n",
    "        if not encontradoEmFilho:   # se o caractere não foi encontrado, adiciona novo filho\n",
    "            novoNodo = TrieNode(char)\n",
    "            nodo.filhos.append(novoNodo)\n",
    "            nodo = novoNodo   # apontamos, então, o nodo para seu novo filho e continuamos a iteração\n",
    "    \n",
    "    nodo.pFinalizada = True   # indica que até ali pode ser uma palavra (nome de música/artista completo)\n",
    "    nodo.indices.append(indice)   # assinala o indice passado\n",
    "    \n",
    "#Defiindo função que localiza uma string na arvore\n",
    "def findString(raiz, palavra: str) -> (bool, []):\n",
    "    \"\"\"\n",
    "      1. Se a palavra existe e tem algum índice associado, retorna verdadeiro e a lista de índices dela\n",
    "      2. Se a palavra não existe, retorna falso e uma lista vazia\n",
    "    \"\"\"\n",
    "    nodo = raiz\n",
    "\n",
    "    if not raiz.filhos:   # se o nodo raiz não tiver nenhum filho, trivial, retorna falso\n",
    "        return False, []\n",
    "    for char in palavra:\n",
    "        charNaoEncontrado = True\n",
    "        for filho in nodo.filhos:\n",
    "            if filho.char == char:\n",
    "                charNaoEncontrado = False   # assinala que o char foi encontrado\n",
    "                nodo = filho   # passa iteração para o nodo filho\n",
    "                break\n",
    "        \n",
    "        if charNaoEncontrado:   # retorna falso quando não encontrar algum char da palavra sendo procurada\n",
    "            return False, []\n",
    "    \n",
    "    # Caso passe por todos os caracteres sem retornar [False, []], então significa que a palavra foi encontrada\n",
    "    # Resta saber se aquele nodo é um nodo final com um índice associado\n",
    "    if nodo.pFinalizada:\n",
    "        return True, nodo.indices\n",
    "    else:\n",
    "        return False, []"
   ]
  },
  {
   "cell_type": "markdown",
   "metadata": {},
   "source": [
    "#### Fazendo a leitura dos arquivos"
   ]
  },
  {
   "cell_type": "code",
   "execution_count": 3,
   "metadata": {
    "collapsed": true
   },
   "outputs": [],
   "source": [
    "#Faz a leitura do arquivo de registros\n",
    "with (open('teste.bin', 'rb')) as openfile:\n",
    "    dados = pickle.load(openfile)\n",
    "    \n",
    "#Leitura do arquivo de indices de anos\n",
    "with (open('indices.bin', 'rb')) as openfile:\n",
    "    indices = pickle.load(openfile)\n",
    "\n",
    "#Leitura do arquivo com a arvore TRIE de titulos de musicas\n",
    "with open('trieMusicas.bin','rb') as openfile:\n",
    "    trieMusicas = pickle.load(openfile)\n",
    "        \n",
    "#Leitura do arquivo com a arvore TRIE de nomes de artistas\n",
    "with open('trieArtistas.bin','rb') as openfile:\n",
    "    trieArtistas = pickle.load(openfile)"
   ]
  },
  {
   "cell_type": "markdown",
   "metadata": {},
   "source": [
    "## Definição das Querys"
   ]
  },
  {
   "cell_type": "markdown",
   "metadata": {},
   "source": [
    "#### Query que retorna um numero N de pesquisas em ordem de relevancia, filtrando por artista/ano opcionalmente\n",
    "###### Opcional: Depois criar um algoritmo que tente achar se tem mais de uma musica do mesmo artista em um ano"
   ]
  },
  {
   "cell_type": "code",
   "execution_count": 4,
   "metadata": {
    "collapsed": true
   },
   "outputs": [],
   "source": [
    "def relevancia(top, ano=None, artista=None):\n",
    "    \n",
    "    #Se nao especifica nenhum ano então retorna os mais populares no geral\n",
    "    \n",
    "    #Retornando de um determinado ano\n",
    "    if(ano != None):\n",
    "        #Consultando do arquivo de indices qual o index inicial do ano que o usuario entrou\n",
    "        for x in indices:\n",
    "            if x['Ano'] == ano:\n",
    "                comeco = x['Min']\n",
    "        for i in range(comeco, comeco+top):\n",
    "            print(dados[i])\n",
    "            \n",
    "    #Retornando de um determinado artista\n",
    "    if(artista != None):\n",
    "        indicesArtista = findString(trieArtistas, artista)[1] #retorna os indices do arquivo principal com registros do artista\n",
    "        listaMusicas2 = []\n",
    "        for i in indicesArtista:\n",
    "            listaMusicas2.append(dados[i])\n",
    "\n",
    "        listaMusicas = copy.deepcopy(listaMusicas2) #Faz uma copia de lista2 para lista, pq lista2 so referencia os registros de dados ao inves de criar eles novamente\n",
    "        \n",
    "        for i in range(len(listaMusicas)-1):\n",
    "            for j in range(i+1, len(listaMusicas)-1):\n",
    "                #print(j)\n",
    "                if(listaMusicas[i]['Titulo'] == listaMusicas[j]['Titulo']):\n",
    "                    listaMusicas[i]['Pontos'] = listaMusicas[i]['Pontos'] + listaMusicas[j]['Pontos']\n",
    "                    listaMusicas.pop(j)\n",
    "        \n",
    "        listaMusicas = sorted(listaMusicas, key = lambda tup: (tup[\"Pontos\"]), reverse=True)\n",
    "        \n",
    "        if(len(listaMusicas) < top):\n",
    "            top = len(listaMusicas) - 1\n",
    "            \n",
    "        for i in range(top):\n",
    "            print(listaMusicas[i])\n",
    "        \n",
    "        "
   ]
  },
  {
   "cell_type": "code",
   "execution_count": 6,
   "metadata": {},
   "outputs": [
    {
     "name": "stdout",
     "output_type": "stream",
     "text": [
      "{'Artista': 'Train', 'Titulo': 'Hey, Soul Sister', 'Ano': 2010, 'Pontos': 3623, 'Peak': 98, 'Semanas': 54}\n",
      "{'Artista': 'Lady Antebellum', 'Titulo': 'Need You Now', 'Ano': 2010, 'Pontos': 3485, 'Peak': 99, 'Semanas': 60}\n",
      "{'Artista': 'The Script', 'Titulo': 'Breakeven', 'Ano': 2010, 'Pontos': 2679, 'Peak': 89, 'Semanas': 43}\n",
      "{'Artista': 'B.o.B Featuring Hayley Williams', 'Titulo': 'Airplanes', 'Ano': 2010, 'Pontos': 2662, 'Peak': 99, 'Semanas': 30}\n",
      "{'Artista': 'Usher Featuring will.i.am', 'Titulo': 'OMG', 'Ano': 2010, 'Pontos': 2620, 'Peak': 100, 'Semanas': 30}\n",
      "{'Artista': 'Jason Derulo', 'Titulo': 'In My Head', 'Ano': 2010, 'Pontos': 2592, 'Peak': 96, 'Semanas': 34}\n",
      "{'Artista': 'Taio Cruz', 'Titulo': 'Dynamite', 'Ano': 2010, 'Pontos': 2545, 'Peak': 99, 'Semanas': 47}\n",
      "{'Artista': 'Taio Cruz Featuring Ludacris', 'Titulo': 'Break Your Heart', 'Ano': 2010, 'Pontos': 2507, 'Peak': 100, 'Semanas': 29}\n",
      "{'Artista': 'Enrique Iglesias Featuring Pitbull', 'Titulo': 'I Like It', 'Ano': 2010, 'Pontos': 2469, 'Peak': 97, 'Semanas': 38}\n",
      "{'Artista': 'Ke$ha', 'Titulo': 'TiK ToK', 'Ano': 2010, 'Pontos': 2441, 'Peak': 100, 'Semanas': 38}\n",
      "{'Artista': 'Lady Gaga Featuring Beyonce', 'Titulo': 'Telephone', 'Ano': 2010, 'Pontos': 2405, 'Peak': 98, 'Semanas': 33}\n",
      "{'Artista': 'Katy Perry Featuring Snoop Dogg', 'Titulo': 'California Gurls', 'Ano': 2010, 'Pontos': 2403, 'Peak': 100, 'Semanas': 27}\n",
      "{'Artista': 'B.o.B Featuring Bruno Mars', 'Titulo': \"Nothin' On You\", 'Ano': 2010, 'Pontos': 2319, 'Peak': 100, 'Semanas': 28}\n",
      "{'Artista': 'Mike Posner', 'Titulo': 'Cooler Than Me', 'Ano': 2010, 'Pontos': 2279, 'Peak': 95, 'Semanas': 29}\n",
      "{'Artista': 'Lady Gaga', 'Titulo': 'Bad Romance', 'Ano': 2010, 'Pontos': 2261, 'Peak': 99, 'Semanas': 35}\n",
      "{'Artista': 'Eminem Featuring Rihanna', 'Titulo': 'Love The Way You Lie', 'Ano': 2010, 'Pontos': 2259, 'Peak': 100, 'Semanas': 29}\n",
      "{'Artista': 'Michael Buble', 'Titulo': \"Haven't Met You Yet\", 'Ano': 2010, 'Pontos': 2168, 'Peak': 77, 'Semanas': 44}\n",
      "{'Artista': 'Eminem', 'Titulo': 'Not Afraid', 'Ano': 2010, 'Pontos': 2160, 'Peak': 100, 'Semanas': 25}\n",
      "{'Artista': 'Travie McCoy Featuring Bruno Mars', 'Titulo': 'Billionaire', 'Ano': 2010, 'Pontos': 2121, 'Peak': 97, 'Semanas': 27}\n",
      "{'Artista': 'The Black Eyed Peas', 'Titulo': 'I Gotta Feeling', 'Ano': 2010, 'Pontos': 2070, 'Peak': 100, 'Semanas': 56}\n",
      "{'Artista': 'Usher Featuring Pitbull', 'Titulo': \"DJ Got Us Fallin' In Love\", 'Ano': 2010, 'Pontos': 2041, 'Peak': 97, 'Semanas': 34}\n",
      "{'Artista': 'The Black Eyed Peas', 'Titulo': 'Imma Be', 'Ano': 2010, 'Pontos': 2006, 'Peak': 100, 'Semanas': 27}\n",
      "{'Artista': 'Ke$ha', 'Titulo': 'Your Love Is My Drug', 'Ano': 2010, 'Pontos': 2002, 'Peak': 97, 'Semanas': 28}\n",
      "{'Artista': 'Adam Lambert', 'Titulo': 'Whataya Want From Me', 'Ano': 2010, 'Pontos': 1955, 'Peak': 91, 'Semanas': 30}\n",
      "{'Artista': 'Katy Perry', 'Titulo': 'Teenage Dream', 'Ano': 2010, 'Pontos': 1949, 'Peak': 100, 'Semanas': 33}\n",
      "{'Artista': 'Bruno Mars', 'Titulo': 'Just The Way You Are', 'Ano': 2010, 'Pontos': 1942, 'Peak': 100, 'Semanas': 48}\n",
      "{'Artista': 'Young Money Featuring Lloyd', 'Titulo': 'BedRock', 'Ano': 2010, 'Pontos': 1938, 'Peak': 99, 'Semanas': 25}\n",
      "{'Artista': 'Trey Songz Featuring Fabolous', 'Titulo': 'Say Aah', 'Ano': 2010, 'Pontos': 1917, 'Peak': 92, 'Semanas': 29}\n",
      "{'Artista': 'Rihanna', 'Titulo': 'Rude Boy', 'Ano': 2010, 'Pontos': 1913, 'Peak': 100, 'Semanas': 22}\n",
      "{'Artista': 'La Roux', 'Titulo': 'Bulletproof', 'Ano': 2010, 'Pontos': 1859, 'Peak': 93, 'Semanas': 27}\n",
      "{'Artista': 'Jason Derulo', 'Titulo': \"Ridin' Solo\", 'Ano': 2010, 'Pontos': 1825, 'Peak': 92, 'Semanas': 28}\n",
      "{'Artista': 'Lady Gaga', 'Titulo': 'Alejandro', 'Ano': 2010, 'Pontos': 1822, 'Peak': 96, 'Semanas': 23}\n",
      "{'Artista': 'Flo Rida Featuring David Guetta', 'Titulo': \"Club Can't Handle Me\", 'Ano': 2010, 'Pontos': 1812, 'Peak': 92, 'Semanas': 29}\n",
      "{'Artista': 'Timbaland Featuring Justin Timberlake', 'Titulo': 'Carry Out', 'Ano': 2010, 'Pontos': 1802, 'Peak': 90, 'Semanas': 26}\n",
      "{'Artista': 'Drake', 'Titulo': 'Find Your Love', 'Ano': 2010, 'Pontos': 1758, 'Peak': 96, 'Semanas': 21}\n",
      "{'Artista': 'David Guetta Featuring Akon', 'Titulo': 'Sexy Chick', 'Ano': 2010, 'Pontos': 1711, 'Peak': 96, 'Semanas': 40}\n",
      "{'Artista': 'Neon Trees', 'Titulo': 'Animal', 'Ano': 2010, 'Pontos': 1678, 'Peak': 88, 'Semanas': 36}\n",
      "{'Artista': 'Ludacris', 'Titulo': 'How Low', 'Ano': 2010, 'Pontos': 1674, 'Peak': 95, 'Semanas': 21}\n",
      "{'Artista': 'OneRepublic', 'Titulo': 'Secrets', 'Ano': 2010, 'Pontos': 1603, 'Peak': 80, 'Semanas': 33}\n",
      "{'Artista': 'Nelly', 'Titulo': 'Just A Dream', 'Ano': 2010, 'Pontos': 1600, 'Peak': 98, 'Semanas': 28}\n",
      "{'Artista': 'Kris Allen', 'Titulo': \"Live Like We're Dying\", 'Ano': 2010, 'Pontos': 1596, 'Peak': 83, 'Semanas': 29}\n",
      "{'Artista': 'Justin Bieber Featuring Ludacris', 'Titulo': 'Baby', 'Ano': 2010, 'Pontos': 1580, 'Peak': 96, 'Semanas': 20}\n",
      "{'Artista': 'Trey Songz Featuring Nicki Minaj', 'Titulo': 'Bottoms Up', 'Ano': 2010, 'Pontos': 1573, 'Peak': 95, 'Semanas': 26}\n",
      "{'Artista': 'Taylor Swift', 'Titulo': 'Mine', 'Ano': 2010, 'Pontos': 1565, 'Peak': 98, 'Semanas': 23}\n",
      "{'Artista': 'Chris Brown Featuring Tyga & Kevin McCall', 'Titulo': 'Deuces', 'Ano': 2010, 'Pontos': 1534, 'Peak': 87, 'Semanas': 27}\n",
      "{'Artista': 'OneRepublic', 'Titulo': 'All The Right Moves', 'Ano': 2010, 'Pontos': 1528, 'Peak': 83, 'Semanas': 34}\n",
      "{'Artista': 'Far*East Movement Featuring Cataracs & Dev', 'Titulo': 'Like A G6', 'Ano': 2010, 'Pontos': 1519, 'Peak': 100, 'Semanas': 26}\n",
      "{'Artista': 'Sugarland', 'Titulo': 'Stuck Like Glue', 'Ano': 2010, 'Pontos': 1483, 'Peak': 84, 'Semanas': 24}\n",
      "{'Artista': 'Maroon 5', 'Titulo': 'Misery', 'Ano': 2010, 'Pontos': 1460, 'Peak': 87, 'Semanas': 20}\n",
      "{'Artista': 'Drake', 'Titulo': 'Over', 'Ano': 2010, 'Pontos': 1447, 'Peak': 87, 'Semanas': 20}\n",
      "{'Artista': 'Jay-Z + Mr. Hudson', 'Titulo': 'Young Forever', 'Ano': 2010, 'Pontos': 1442, 'Peak': 91, 'Semanas': 25}\n",
      "{'Artista': 'Ludacris Featuring Nicki Minaj', 'Titulo': 'My Chick Bad', 'Ano': 2010, 'Pontos': 1436, 'Peak': 90, 'Semanas': 20}\n",
      "{'Artista': 'Iyaz', 'Titulo': 'Replay', 'Ano': 2010, 'Pontos': 1427, 'Peak': 99, 'Semanas': 34}\n",
      "{'Artista': 'Orianthi', 'Titulo': 'According To You', 'Ano': 2010, 'Pontos': 1417, 'Peak': 84, 'Semanas': 21}\n",
      "{'Artista': 'The Band Perry', 'Titulo': 'If I Die Young', 'Ano': 2010, 'Pontos': 1375, 'Peak': 87, 'Semanas': 53}\n",
      "{'Artista': 'Ke$ha', 'Titulo': 'Take It Off', 'Ano': 2010, 'Pontos': 1371, 'Peak': 93, 'Semanas': 20}\n",
      "{'Artista': 'Nicki Minaj', 'Titulo': 'Your Love', 'Ano': 2010, 'Pontos': 1367, 'Peak': 87, 'Semanas': 20}\n",
      "{'Artista': 'Ke$ha Featuring 3OH!3', 'Titulo': 'Blah Blah Blah', 'Ano': 2010, 'Pontos': 1335, 'Peak': 94, 'Semanas': 20}\n",
      "{'Artista': 'Jay-Z + Alicia Keys', 'Titulo': 'Empire State Of Mind', 'Ano': 2010, 'Pontos': 1328, 'Peak': 100, 'Semanas': 30}\n",
      "{'Artista': 'Shontelle', 'Titulo': 'Impossible', 'Ano': 2010, 'Pontos': 1321, 'Peak': 88, 'Semanas': 20}\n",
      "{'Artista': 'Lil Wayne Featuring Drake', 'Titulo': 'Right Above It', 'Ano': 2010, 'Pontos': 1282, 'Peak': 95, 'Semanas': 24}\n",
      "{'Artista': 'Rihanna', 'Titulo': 'Only Girl (In The World)', 'Ano': 2010, 'Pontos': 1281, 'Peak': 100, 'Semanas': 27}\n",
      "{'Artista': 'B.o.B Featuring Rivers Cuomo', 'Titulo': 'Magic', 'Ano': 2010, 'Pontos': 1258, 'Peak': 91, 'Semanas': 20}\n",
      "{'Artista': 'Alicia Keys', 'Titulo': \"Un-Thinkable (I'm Ready)\", 'Ano': 2010, 'Pontos': 1258, 'Peak': 80, 'Semanas': 20}\n",
      "{'Artista': 'Selena Gomez & The Scene', 'Titulo': 'Naturally', 'Ano': 2010, 'Pontos': 1258, 'Peak': 72, 'Semanas': 21}\n",
      "{'Artista': 'DJ Khaled Featuring T-Pain, Ludacris, Snoop Dogg & Rick Ross', 'Titulo': 'All I Do Is Win', 'Ano': 2010, 'Pontos': 1234, 'Peak': 77, 'Semanas': 24}\n",
      "{'Artista': 'Kevin Rudolf Featuring Birdman, Jay Sean, & Lil Wayne', 'Titulo': 'I Made It (Cash Money Heroes)', 'Ano': 2010, 'Pontos': 1226, 'Peak': 80, 'Semanas': 20}\n",
      "{'Artista': 'Jay Sean Featuring Lil Wayne', 'Titulo': 'Down', 'Ano': 2010, 'Pontos': 1216, 'Peak': 100, 'Semanas': 40}\n",
      "{'Artista': 'New Boyz Featuring Ray J', 'Titulo': 'Tie Me Down', 'Ano': 2010, 'Pontos': 1212, 'Peak': 79, 'Semanas': 26}\n",
      "{'Artista': 'Usher', 'Titulo': 'There Goes My Baby', 'Ano': 2010, 'Pontos': 1190, 'Peak': 76, 'Semanas': 25}\n",
      "{'Artista': '3OH!3 Featuring Ke$ha', 'Titulo': 'My First Kiss', 'Ano': 2010, 'Pontos': 1183, 'Peak': 92, 'Semanas': 18}\n",
      "{'Artista': 'Cee Lo Green', 'Titulo': 'F**k You! (Forget You)', 'Ano': 2010, 'Pontos': 1175, 'Peak': 99, 'Semanas': 48}\n",
      "{'Artista': 'Usher Featuring Plies', 'Titulo': \"Hey Daddy (Daddy's Home)\", 'Ano': 2010, 'Pontos': 1170, 'Peak': 77, 'Semanas': 21}\n",
      "{'Artista': 'Sara Bareilles', 'Titulo': 'King Of Anything', 'Ano': 2010, 'Pontos': 1149, 'Peak': 69, 'Semanas': 22}\n",
      "{'Artista': 'Rihanna Featuring Jeezy', 'Titulo': 'Hard', 'Ano': 2010, 'Pontos': 1133, 'Peak': 93, 'Semanas': 20}\n",
      "{'Artista': 'Owl City', 'Titulo': 'Fireflies', 'Ano': 2010, 'Pontos': 1131, 'Peak': 100, 'Semanas': 31}\n",
      "{'Artista': 'Taylor Swift', 'Titulo': 'You Belong With Me', 'Ano': 2010, 'Pontos': 1128, 'Peak': 99, 'Semanas': 50}\n",
      "{'Artista': 'Timbaland Featuring Drake', 'Titulo': 'Say Something', 'Ano': 2010, 'Pontos': 1128, 'Peak': 78, 'Semanas': 20}\n",
      "{'Artista': 'Carrie Underwood', 'Titulo': 'Undo It', 'Ano': 2010, 'Pontos': 1114, 'Peak': 78, 'Semanas': 20}\n",
      "{'Artista': 'Jay Sean Featuring Sean Paul & Lil Jon', 'Titulo': 'Do You Remember', 'Ano': 2010, 'Pontos': 1096, 'Peak': 91, 'Semanas': 20}\n",
      "{'Artista': 'Miranda Lambert', 'Titulo': 'The House That Built Me', 'Ano': 2010, 'Pontos': 1082, 'Peak': 73, 'Semanas': 20}\n",
      "{'Artista': 'Paramore', 'Titulo': 'The Only Exception', 'Ano': 2010, 'Pontos': 1059, 'Peak': 77, 'Semanas': 20}\n",
      "{'Artista': 'The Black Eyed Peas', 'Titulo': 'Rock That Body', 'Ano': 2010, 'Pontos': 1052, 'Peak': 92, 'Semanas': 18}\n",
      "{'Artista': 'Jason Derulo', 'Titulo': 'Whatcha Say', 'Ano': 2010, 'Pontos': 1044, 'Peak': 100, 'Semanas': 32}\n",
      "{'Artista': 'Waka Flocka Flame Featuring Roscoe Dash & Wale', 'Titulo': 'No Hands', 'Ano': 2010, 'Pontos': 1021, 'Peak': 88, 'Semanas': 32}\n",
      "{'Artista': 'Cali Swag District', 'Titulo': 'Teach Me How To Dougie', 'Ano': 2010, 'Pontos': 1018, 'Peak': 73, 'Semanas': 20}\n",
      "{'Artista': 'Sean Kingston Featuring Nicki Minaj', 'Titulo': 'Letting Go (Dutty Love)', 'Ano': 2010, 'Pontos': 992, 'Peak': 65, 'Semanas': 20}\n",
      "{'Artista': 'Sean Kingston & Justin Bieber', 'Titulo': 'Eenie Meenie', 'Ano': 2010, 'Pontos': 985, 'Peak': 86, 'Semanas': 18}\n",
      "{'Artista': 'Taylor Swift', 'Titulo': 'Today Was A Fairytale', 'Ano': 2010, 'Pontos': 980, 'Peak': 99, 'Semanas': 18}\n",
      "{'Artista': 'Boys Like Girls Featuring Taylor Swift', 'Titulo': 'Two Is Better Than One', 'Ano': 2010, 'Pontos': 978, 'Peak': 83, 'Semanas': 21}\n",
      "{'Artista': 'Lady Antebellum', 'Titulo': 'American Honey', 'Ano': 2010, 'Pontos': 965, 'Peak': 76, 'Semanas': 20}\n",
      "{'Artista': 'Jerrod Niemann', 'Titulo': 'Lover, Lover', 'Ano': 2010, 'Pontos': 954, 'Peak': 72, 'Semanas': 20}\n",
      "{'Artista': 'Adam Lambert', 'Titulo': 'If I Had You', 'Ano': 2010, 'Pontos': 949, 'Peak': 71, 'Semanas': 20}\n",
      "{'Artista': 'Usher Featuring Jay-Z', 'Titulo': 'Hot Tottie', 'Ano': 2010, 'Pontos': 945, 'Peak': 80, 'Semanas': 16}\n",
      "{'Artista': 'Daughtry', 'Titulo': 'Life After You', 'Ano': 2010, 'Pontos': 940, 'Peak': 65, 'Semanas': 20}\n",
      "{'Artista': 'Train', 'Titulo': \"If It's Love\", 'Ano': 2010, 'Pontos': 935, 'Peak': 67, 'Semanas': 20}\n",
      "{'Artista': 'Drake Featuring Lil Wayne', 'Titulo': 'Miss Me', 'Ano': 2010, 'Pontos': 925, 'Peak': 86, 'Semanas': 20}\n",
      "{'Artista': 'Kenny Chesney', 'Titulo': 'The Boys of Fall', 'Ano': 2010, 'Pontos': 923, 'Peak': 83, 'Semanas': 18}\n",
      "{'Artista': 'Jaron And The Long Road To Love', 'Titulo': 'Pray For You', 'Ano': 2010, 'Pontos': 921, 'Peak': 67, 'Semanas': 20}\n",
      "{'Artista': 'P!nk', 'Titulo': 'Raise Your Glass', 'Ano': 2010, 'Pontos': 908, 'Peak': 100, 'Semanas': 30}\n"
     ]
    }
   ],
   "source": [
    "relevancia(100, 2010)"
   ]
  }
 ],
 "metadata": {
  "kernelspec": {
   "display_name": "Python 3",
   "language": "python",
   "name": "python3"
  },
  "language_info": {
   "codemirror_mode": {
    "name": "ipython",
    "version": 3
   },
   "file_extension": ".py",
   "mimetype": "text/x-python",
   "name": "python",
   "nbconvert_exporter": "python",
   "pygments_lexer": "ipython3",
   "version": "3.6.3"
  }
 },
 "nbformat": 4,
 "nbformat_minor": 2
}
