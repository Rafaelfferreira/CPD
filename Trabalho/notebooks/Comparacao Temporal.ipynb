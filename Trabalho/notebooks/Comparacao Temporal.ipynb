{
 "cells": [
  {
   "cell_type": "code",
   "execution_count": 1,
   "metadata": {
    "collapsed": true
   },
   "outputs": [],
   "source": [
    "import pandas as pd\n",
    "import xlrd\n",
    "import pickle #modulo usado para serializar dados para o arquivo binario\n",
    "import os\n",
    "import time\n",
    "import copy\n",
    "from unicodedata import normalize"
   ]
  },
  {
   "cell_type": "code",
   "execution_count": 2,
   "metadata": {
    "collapsed": true
   },
   "outputs": [],
   "source": [
    "class TrieNode(object):\n",
    "\n",
    "    \n",
    "    def __init__(self, char: str):   # __init__ é um método especial para fazer construtores\n",
    "        self.char = char   # caractere do nodo atual\n",
    "        self.filhos = []   # nodos filhos\n",
    "        self.pFinalizada = False   # se é o último nodo e a palavra terminou\n",
    "        self.indices = []   # lista vazia para nodos que não são término de palavra\n",
    "        ### não é um índice único e sim uma lista, pois podem existir títulos de música repetidos com mais de um artista\n",
    "\n",
    "\n",
    "#Definindo função que localiza uma string na arvore\n",
    "def findString(select, dados, raiz, palavra: str) -> (bool, []):\n",
    "    \"\"\"\n",
    "      1. Se a palavra existe e tem algum índice associado, retorna verdadeiro e a lista de índices dela\n",
    "      2. Se a palavra não existe, retorna falso e uma lista com sugestões de palavras\n",
    "      \n",
    "      Sendo o parâmetro select utilizada para indicar se a busca é por artista ou música (0 música, 1 artista)\n",
    "    \"\"\"\n",
    "    palavra = formataString(palavra)   # formata string de entrada para o padrão (todas as letras maiúsculas sem acento)\n",
    "    nodo = raiz\n",
    "    stringSugerida = \"\"  # guarda os caracteres já encontrados para sugerir os próximos\n",
    "    \n",
    "    if not raiz.filhos:   # se o nodo raiz não tiver nenhum filho, trivial, retorna falso\n",
    "        return False, []\n",
    "    for char in palavra:\n",
    "        charNaoEncontrado = True\n",
    "        for filho in nodo.filhos:\n",
    "            if filho.char == char:\n",
    "                charNaoEncontrado = False   # assinala que o char foi encontrado\n",
    "                stringSugerida = stringSugerida+char\n",
    "                nodo = filho   # passa iteração para o nodo filho\n",
    "                break\n",
    "        \n",
    "        if charNaoEncontrado:   # chama a função que procura sugestões e retorna a tupla (False, lista de sugestões)\n",
    "            return False, sugereStrings(select, dados, nodo, stringSugerida, 15)\n",
    "    \n",
    "    # Caso passe por todos os caracteres sem retornar false, então significa que a palavra foi encontrada\n",
    "    # Resta saber se aquele nodo é um nodo final com um índice associado\n",
    "    if nodo.pFinalizada:\n",
    "        return True, nodo.indices\n",
    "    else:\n",
    "        return False, sugereStrings(select, dados, nodo, stringSugerida, 15)\n",
    "    \n",
    "# Função que formata string desconsiderando maiúsculas e minúsculas e que remove acentos\n",
    "def formataString(string):\n",
    "    string = normalize('NFKD', string).encode('ASCII', 'ignore').decode('ASCII')\n",
    "    return string.upper()\n",
    "\n",
    "def sugereStrings(select, dados, nodo, string, maxSugestoes):   # onde select igual a 1 significa que se procura um artista e False, música\n",
    "        listaDeSugestoes = []   # cria lista vazia para adicionarmos as sugestões\n",
    "        procuraSugestoes(nodo, string, listaDeSugestoes)   # chama a função que percorre a trie procurando sugestões\n",
    "        \n",
    "        itera = copy.deepcopy(listaDeSugestoes)   # utilizado para iteração na lista que está sendo modificada enquanto o loop itera\n",
    "        \n",
    "        # substitui os indices pelos títulos\n",
    "        for indice in itera:\n",
    "            listaDeSugestoes.remove(indice)   # remove o índice \n",
    "            if select:\n",
    "                listaDeSugestoes.append(dados[indice]['Artista']) \n",
    "            else:\n",
    "                listaDeSugestoes.append(dados[indice]['Titulo']) \n",
    "            \n",
    "        \n",
    "        listaDeSugestoes = sorted(listaDeSugestoes)   # ordena a lista alfabeticamente\n",
    "        return listaDeSugestoes[:maxSugestoes]   # retorna apenas os n elementos da lista definidos por maxSugestoes\n",
    "\n",
    "    \n",
    "# função que dado um nodo, uma parte correta de uma string (que existe na TRIE), uma lista de sugestoes, retorna uma lista de sugestões\n",
    "def procuraSugestoes(nodo, string, listaDeSugestoes):\n",
    "        \n",
    "        if nodo.pFinalizada:   \n",
    "            listaDeSugestoes.append(nodo.indices[0])   # adiciona nova sugestão na lista\n",
    "        \n",
    "        for filho in nodo.filhos:            \n",
    "            procuraSugestoes(filho, string+filho.char, listaDeSugestoes)   # recursão para cada filho \n",
    "\n",
    "        return        "
   ]
  },
  {
   "cell_type": "code",
   "execution_count": 3,
   "metadata": {
    "collapsed": true
   },
   "outputs": [],
   "source": [
    "with (open('database.bin', 'rb')) as openfile:\n",
    "    database = pickle.load(openfile)\n",
    "        \n",
    "with (open('indices.bin', 'rb')) as openfile:\n",
    "    indices = pickle.load(openfile)\n",
    "\n",
    "#Abrindo os arquivos com os tops de artistas\n",
    "with (open('topArtistas.bin', 'rb')) as openfile:\n",
    "    topArtistas = pickle.load(openfile)\n",
    "        \n",
    "with (open('topMusicas.bin', 'rb')) as openfile:\n",
    "    topMusicas = pickle.load(openfile)\n",
    "        \n",
    "#Abrindo os arquivos com as arvores Trie      \n",
    "with (open('trieMusicas.bin', 'rb')) as openfile:\n",
    "    trieMusicas = pickle.load(openfile)\n",
    "        \n",
    "with (open('trieArtistas.bin', 'rb')) as openfile:\n",
    "    trieArtistas = pickle.load(openfile)"
   ]
  },
  {
   "cell_type": "code",
   "execution_count": 4,
   "metadata": {
    "collapsed": true
   },
   "outputs": [],
   "source": [
    "#Retorna o artista mais popular e quantas semanas ele ficou na billboard\n",
    "def comparaRelevArtista(artista1, artista2):\n",
    "    indicesArtista1 = findString(1, database, trieArtistas, artista1) #retorna os indices do arquivo principal com registros do artista\n",
    "    indicesArtista2 = findString(1, database, trieArtistas, artista2) #retorna os indices do arquivo principal com registros do artista\n",
    "    \n",
    "    #variaveis com o numero de semanas que cada artista ficou na hot 100\n",
    "    semanas1 = 0\n",
    "    semanas2 = 0\n",
    "    \n",
    "    if (indicesArtista1[0] == False and indicesArtista2[0] == False): #testa se as duas entradas sao invalidas\n",
    "        return None\n",
    "    \n",
    "    elif (indicesArtista1[0] == False or indicesArtista2[0] == False): #testa se achou os 2 artistas\n",
    "        if indicesArtista1[0] == False: #se nao achou o primeiro devolve o segundo\n",
    "            for i in indicesArtista2[1]:\n",
    "                semanas2 += database[i]['Semanas'] #Adiciona o numero de semanas     \n",
    "            return(artista2, semanas2)\n",
    "        else: #se nao achou o segundo devolve o primeiro\n",
    "            for i in indicesArtista1[1]:\n",
    "                semanas1 += database[i]['Semanas'] #Adiciona o numero de semanas     \n",
    "            return(artista1, semanas1)\n",
    "    \n",
    "    #compara os 2\n",
    "    else:\n",
    "        for i in indicesArtista1[1]:\n",
    "            semanas1 += database[i]['Semanas'] #Adiciona o numero de semanas \n",
    "        for i in indicesArtista2[1]:\n",
    "            semanas2 += database[i]['Semanas'] #Adiciona o numero de semanas \n",
    "            \n",
    "        if(semanas1 > semanas2): #artista1 é mais relevante que o segundo\n",
    "            return(artista1, semanas1)\n",
    "        elif(semanas2 > semanas1): #artista2 é mais relevante que o primeiro\n",
    "            return(artista2, semanas2)\n",
    "        else: #trata o empate\n",
    "            pontos1 = 0\n",
    "            pontos2 = 0\n",
    "            \n",
    "            for i in indicesArtista1[1]:\n",
    "                pontos1 += database[i]['Pontos'] #Adiciona o numero de semanas \n",
    "            for i in indicesArtista2[1]:\n",
    "                pontos2 += database[i]['Pontos'] #Adiciona o numero de semanas \n",
    "            if (pontos1 > pontos2):\n",
    "                return(artista1, semanas1)\n",
    "            else:\n",
    "                return(artista1, semanas1)"
   ]
  },
  {
   "cell_type": "code",
   "execution_count": 5,
   "metadata": {},
   "outputs": [
    {
     "name": "stdout",
     "output_type": "stream",
     "text": [
      "('Elton John', 875)\n",
      "None\n"
     ]
    }
   ],
   "source": [
    "print(comparaRelevArtista('Foo Fighters', 'Elton John'))\n",
    "print(comparaRelevArtista('Daives', 'Colombelli'))"
   ]
  },
  {
   "cell_type": "code",
   "execution_count": 6,
   "metadata": {
    "collapsed": true
   },
   "outputs": [],
   "source": [
    "#Retorna a musica mais popular e quantas semanas ele ficou na billboard\n",
    "def comparaRelevMusica(musica1, artista1, musica2, artista2):\n",
    "    musica1Inds = findString(1, database, trieMusicas, musica1) #retorna os indices do arquivo principal com registros da musica\n",
    "    musica2Inds = findString(1, database, trieMusicas, musica2) #retorna os indices do arquivo principal com registros da musica\n",
    "        \n",
    "    achou = 0 #se for 0 retorna que nao encontrou\n",
    "    \n",
    "    #------------------------------------------------------------------------------\n",
    "    #Testa se alguma das musicas nao é valida\n",
    "    #------------------------------------------------------------------------------\n",
    "    if (musica1Inds[0] == False and musica2Inds[0] == False): #testa se as 2 entradas sao invalidas\n",
    "        return None\n",
    "    \n",
    "    elif (musica1Inds[0] == False or musica2Inds[0] == False): #testa se achou os 2 artistas\n",
    "        if musica1Inds[0] == False: #se nao achou o primeiro devolve o segundo\n",
    "            for x in musica2Inds[1]:\n",
    "                if (database[x]['Artista'] == artista2):\n",
    "                    achou = 1\n",
    "                    return(musica2, database[x]['Semanas'])\n",
    "        else: #se nao achou o segundo devolve o primeiro\n",
    "            for x in musica1Inds[1]:\n",
    "                if (database[x]['Artista'] == artista1):\n",
    "                    achou = 1\n",
    "                    return(musica1, database[x]['Semanas'])\n",
    "    \n",
    "    #as 2 musicas sao validas\n",
    "    else:\n",
    "        for x in musica1Inds[1]:\n",
    "                if (database[x]['Artista'] == artista1):\n",
    "                    achou = 1\n",
    "                    semanas1 = database[x]['Semanas']\n",
    "                    indice1 = x\n",
    "        for x in musica2Inds[1]:\n",
    "                if (database[x]['Artista'] == artista2):\n",
    "                    achou = 1\n",
    "                    semanas2 = database[x]['Semanas']\n",
    "                    indice2 = x\n",
    "                    \n",
    "        if(semanas1 > semanas2):\n",
    "            return(musica1, semanas1)\n",
    "        elif(semanas2 > semanas1):\n",
    "            return(musica2, semanas2)\n",
    "        else: #mesmo numero de semanas\n",
    "            if(database[indice1]['Pontos'] > database[indice2]['Pontos']):\n",
    "                return(musica1, semanas1)\n",
    "            else:\n",
    "                return(musica2, semanas2)"
   ]
  },
  {
   "cell_type": "code",
   "execution_count": 10,
   "metadata": {},
   "outputs": [
    {
     "ename": "TypeError",
     "evalue": "comparaRelevMusica() missing 3 required positional arguments: 'artista1', 'musica2', and 'artista2'",
     "output_type": "error",
     "traceback": [
      "\u001b[1;31m---------------------------------------------------------------------------\u001b[0m",
      "\u001b[1;31mTypeError\u001b[0m                                 Traceback (most recent call last)",
      "\u001b[1;32m<ipython-input-10-637afacdb3fb>\u001b[0m in \u001b[0;36m<module>\u001b[1;34m()\u001b[0m\n\u001b[1;32m----> 1\u001b[1;33m \u001b[0mprint\u001b[0m\u001b[1;33m(\u001b[0m\u001b[0mcomparaRelevMusica\u001b[0m\u001b[1;33m(\u001b[0m\u001b[1;34m'Borderline'\u001b[0m\u001b[1;33m,\u001b[0m \u001b[1;34m'Madonna'\u001b[0m\u001b[1;33m,\u001b[0m\u001b[1;34m'Crazy For You'\u001b[0m\u001b[1;33m,\u001b[0m\u001b[1;34m'Madonna'\u001b[0m\u001b[1;33m)\u001b[0m\u001b[1;33m)\u001b[0m\u001b[1;33m\u001b[0m\u001b[0m\n\u001b[0m\u001b[0;32m      2\u001b[0m \u001b[0mprint\u001b[0m\u001b[1;33m(\u001b[0m\u001b[0mcomparaRelevMusica\u001b[0m\u001b[1;33m(\u001b[0m\u001b[1;34m'Lucky Star'\u001b[0m\u001b[1;33m,\u001b[0m \u001b[1;34m'Madonna'\u001b[0m\u001b[1;33m,\u001b[0m\u001b[1;34m'Crazy For You'\u001b[0m\u001b[1;33m,\u001b[0m\u001b[1;34m'Madonna'\u001b[0m\u001b[1;33m)\u001b[0m\u001b[1;33m)\u001b[0m\u001b[1;33m\u001b[0m\u001b[0m\n\u001b[0;32m      3\u001b[0m \u001b[0mprint\u001b[0m\u001b[1;33m(\u001b[0m\u001b[0mcomparaRelevMusica\u001b[0m\u001b[1;33m(\u001b[0m\u001b[1;34m'I Guess That\\'s Why They Call It The Blues'\u001b[0m\u001b[1;33m,\u001b[0m \u001b[1;34m'Elton John'\u001b[0m\u001b[1;33m,\u001b[0m\u001b[1;34m'Crazy For You'\u001b[0m\u001b[1;33m,\u001b[0m\u001b[1;34m'Madonna'\u001b[0m\u001b[1;33m)\u001b[0m\u001b[1;33m)\u001b[0m\u001b[1;33m\u001b[0m\u001b[0m\n\u001b[0;32m      4\u001b[0m \u001b[0mprint\u001b[0m\u001b[1;33m(\u001b[0m\u001b[0mcomparaRelevMusica\u001b[0m\u001b[1;33m(\u001b[0m\u001b[1;34m'Olar'\u001b[0m\u001b[1;33m,\u001b[0m \u001b[1;34m'Madonna'\u001b[0m\u001b[1;33m,\u001b[0m\u001b[1;34m'Crazy For'\u001b[0m\u001b[1;33m,\u001b[0m\u001b[1;34m'Madonna'\u001b[0m\u001b[1;33m)\u001b[0m\u001b[1;33m)\u001b[0m\u001b[1;33m\u001b[0m\u001b[0m\n",
      "\u001b[1;31mTypeError\u001b[0m: comparaRelevMusica() missing 3 required positional arguments: 'artista1', 'musica2', and 'artista2'"
     ]
    }
   ],
   "source": [
    "print(comparaRelevMusica('Borderline', 'Madonna','Crazy For You','Madonna'))\n",
    "print(comparaRelevMusica('Lucky Star', 'Madonna','Crazy For You','Madonna'))\n",
    "print(comparaRelevMusica('I Guess That\\'s Why They Call It The Blues', 'Elton John','Crazy For You','Madonna'))\n",
    "print(comparaRelevMusica('Olar', 'Madonna','Crazy For','Madonna'))"
   ]
  },
  {
   "cell_type": "markdown",
   "metadata": {},
   "source": [
    "## A versão abaixo é a versão final utilizada no arquivo .py"
   ]
  },
  {
   "cell_type": "code",
   "execution_count": 30,
   "metadata": {
    "collapsed": true
   },
   "outputs": [],
   "source": [
    "def comparaRelevMusica(trieMusicas, trieArtistas, database, musica1, artista1, musica2, artista2):\n",
    "    musica1Inds = findString(0, database, trieMusicas, musica1) #retorna os indices do arquivo principal com registros da musica\n",
    "    musica2Inds = findString(0, database, trieMusicas, musica2) #retorna os indices do arquivo principal com registros da musica\n",
    "\n",
    "    artista1 = findString(1, database, trieArtistas, artista1)\n",
    "    artista2 = findString(1, database, trieArtistas, artista2)\n",
    "    \n",
    "    achouArtista1 = 0 #flags que servem para garantir que os 2 artistas inseridos pelo usuario estejam no banco de dados\n",
    "    achouArtista2 = 0\n",
    "    \n",
    "    if artista1[0]:   # se o artista passado se encontra na trie\n",
    "        achouArtista1 = 1\n",
    "        artista1 = database[artista1[1][0]]['Artista']   # pega o nome do jeito que tá na base de dados\n",
    "\n",
    "    # repete o mesmo processo para o artista 2\n",
    "    if artista2[0]:\n",
    "        achouArtista2 = 1\n",
    "        artista2 = database[artista2[1][0]]['Artista']\n",
    "        \n",
    "        \n",
    "    if(achouArtista1 == 0 and achouArtista2 == 0):\n",
    "        return None\n",
    "    elif(achouArtista1 == 0):\n",
    "        musica1Inds = (False,False) #como python nao permite alterar o valor de uma tupla temos que criar uma tupla nova e substituir na variavel\n",
    "    else:\n",
    "        musica2Inds = (False,False)\n",
    "\n",
    "    achou = 0 #se for 0 retorna que nao encontrou\n",
    "\n",
    "    #------------------------------------------------------------------------------\n",
    "    #Testa se alguma das musicas nao é valida\n",
    "    #------------------------------------------------------------------------------\n",
    "    if (musica1Inds[0] == False and musica2Inds[0] == False): #testa se as 2 entradas sao invalidas\n",
    "        return None\n",
    "\n",
    "    elif (musica1Inds[0] == False or musica2Inds[0] == False): #testa se achou os 2 artistas\n",
    "        if musica1Inds[0] == False: #se nao achou o primeiro devolve o segundo\n",
    "            for x in musica2Inds[1]:\n",
    "                if (database[x]['Artista'] == artista2):\n",
    "                    achou = 1\n",
    "                    return(database[x]['Titulo'], database[x]['Semanas'])\n",
    "        else: #se nao achou o segundo devolve o primeiro\n",
    "            for x in musica1Inds[1]:\n",
    "                if (database[x]['Artista'] == artista1):\n",
    "                    achou = 1\n",
    "                    return(database[x]['Titulo'], database[x]['Semanas'])\n",
    "\n",
    "    #as 2 musicas sao validas\n",
    "    else:\n",
    "        for x in musica1Inds[1]:\n",
    "                if (database[x]['Artista'] == artista1):\n",
    "                    achou = 1\n",
    "                    semanas1 = database[x]['Semanas']\n",
    "                    indice1 = x\n",
    "        for x in musica2Inds[1]:\n",
    "                if (database[x]['Artista'] == artista2):\n",
    "                    achou = 1\n",
    "                    semanas2 = database[x]['Semanas']\n",
    "                    indice2 = x\n",
    "\n",
    "        if(semanas1 > semanas2):\n",
    "            return(database[musica1Inds[1][0]]['Titulo'], semanas1)\n",
    "        elif(semanas2 > semanas1):\n",
    "            return(database[musica2Inds[1][0]]['Titulo'], semanas2)\n",
    "        else: #mesmo numero de semanas\n",
    "            if(database[indice1]['Pontos'] > database[indice2]['Pontos']):\n",
    "                return(database[musica1Inds[1][0]]['Titulo'], semanas1)\n",
    "            else:\n",
    "                return(database[musica2Inds[1][0]]['Titulo'], semanas2)"
   ]
  },
  {
   "cell_type": "code",
   "execution_count": 34,
   "metadata": {},
   "outputs": [
    {
     "name": "stdout",
     "output_type": "stream",
     "text": [
      "None\n"
     ]
    }
   ],
   "source": [
    "print(comparaRelevMusica(trieMusicas, trieArtistas, database,'mine', 'taylor swifot','mean','taylor swlift'))"
   ]
  },
  {
   "cell_type": "code",
   "execution_count": 8,
   "metadata": {},
   "outputs": [
    {
     "name": "stdout",
     "output_type": "stream",
     "text": [
      "567\n"
     ]
    }
   ],
   "source": [
    "musica1Inds = findString(1, database, trieMusicas, 'I Love You') #retorna os indices do arquivo principal com registros da musica\n",
    "print(musica1Inds[1][0])"
   ]
  },
  {
   "cell_type": "code",
   "execution_count": 9,
   "metadata": {},
   "outputs": [
    {
     "name": "stdout",
     "output_type": "stream",
     "text": [
      "{'Artista': 'Madonna', 'Titulo': 'Borderline', 'Ano': 1984, 'Pontos': 1641, 'Peak': 91, 'Semanas': 30}\n",
      "{'Artista': 'Madonna', 'Titulo': 'Crazy For You', 'Ano': 1985, 'Pontos': 1519, 'Peak': 100, 'Semanas': 21}\n",
      "{'Artista': 'Madonna', 'Titulo': 'Lucky Star', 'Ano': 1984, 'Pontos': 1134, 'Peak': 97, 'Semanas': 16}\n",
      "{'Artista': 'Elton John', 'Titulo': 'Your Song', 'Ano': 1971, 'Pontos': 785, 'Peak': 93, 'Semanas': 14}\n",
      "{'Artista': 'Elton John', 'Titulo': 'Rocket Man', 'Ano': 1972, 'Pontos': 1095, 'Peak': 95, 'Semanas': 15}\n",
      "{'Artista': 'Elton John', 'Titulo': 'Honky Cat', 'Ano': 1972, 'Pontos': 723, 'Peak': 93, 'Semanas': 10}\n",
      "{'Artista': 'Elton John', 'Titulo': 'Levon', 'Ano': 1972, 'Pontos': 546, 'Peak': 77, 'Semanas': 10}\n",
      "{'Artista': 'Elton John', 'Titulo': 'Daniel', 'Ano': 1973, 'Pontos': 1184, 'Peak': 99, 'Semanas': 15}\n",
      "{'Artista': 'Elton John', 'Titulo': 'Crocodile Rock', 'Ano': 1973, 'Pontos': 1181, 'Peak': 100, 'Semanas': 17}\n",
      "{'Artista': 'Elton John', 'Titulo': \"Saturday Night's Alright For Fighting\", 'Ano': 1973, 'Pontos': 872, 'Peak': 89, 'Semanas': 12}\n",
      "{'Artista': 'Elton John', 'Titulo': 'Goodbye Yellow Brick Road', 'Ano': 1973, 'Pontos': 843, 'Peak': 99, 'Semanas': 17}\n",
      "{'Artista': 'Elton John', 'Titulo': 'Bennie And The Jets', 'Ano': 1974, 'Pontos': 1497, 'Peak': 100, 'Semanas': 18}\n",
      "{'Artista': 'Elton John', 'Titulo': \"Don't Let The Sun Go Down On Me\", 'Ano': 1974, 'Pontos': 1019, 'Peak': 99, 'Semanas': 15}\n",
      "{'Artista': 'Elton John', 'Titulo': 'The Bitch Is Back', 'Ano': 1974, 'Pontos': 989, 'Peak': 97, 'Semanas': 14}\n",
      "{'Artista': 'Elton John', 'Titulo': 'Island Girl', 'Ano': 1975, 'Pontos': 1039, 'Peak': 100, 'Semanas': 15}\n",
      "{'Artista': 'Elton John', 'Titulo': 'Someone Saved My Life Tonight', 'Ano': 1975, 'Pontos': 979, 'Peak': 97, 'Semanas': 13}\n",
      "{'Artista': 'Elton John', 'Titulo': 'Lucy In The Sky With Diamonds', 'Ano': 1975, 'Pontos': 675, 'Peak': 100, 'Semanas': 14}\n",
      "{'Artista': 'Elton John', 'Titulo': 'Grow Some Funk Of Your Own/I Feel Like A Bullet (In The Gun Of Robert Ford)', 'Ano': 1976, 'Pontos': 654, 'Peak': 87, 'Semanas': 11}\n",
      "{'Artista': 'Elton John', 'Titulo': 'Sorry Seems To Be The Hardest Word', 'Ano': 1976, 'Pontos': 567, 'Peak': 95, 'Semanas': 14}\n",
      "{'Artista': 'Elton John', 'Titulo': 'Sorry Seems To Be The Hardest Word', 'Ano': 1977, 'Pontos': 503, 'Peak': 95, 'Semanas': 14}\n",
      "{'Artista': 'Elton John', 'Titulo': 'Part-Time Love', 'Ano': 1978, 'Pontos': 537, 'Peak': 79, 'Semanas': 10}\n",
      "{'Artista': 'Elton John', 'Titulo': \"Mama Can't Buy You Love\", 'Ano': 1979, 'Pontos': 1288, 'Peak': 92, 'Semanas': 18}\n",
      "{'Artista': 'Elton John', 'Titulo': 'Little Jeannie', 'Ano': 1980, 'Pontos': 1626, 'Peak': 98, 'Semanas': 21}\n",
      "{'Artista': 'Elton John', 'Titulo': 'Nobody Wins', 'Ano': 1981, 'Pontos': 717, 'Peak': 80, 'Semanas': 13}\n",
      "{'Artista': 'Elton John', 'Titulo': 'Chloe', 'Ano': 1981, 'Pontos': 535, 'Peak': 67, 'Semanas': 13}\n",
      "{'Artista': 'Elton John', 'Titulo': 'Blue Eyes', 'Ano': 1982, 'Pontos': 1091, 'Peak': 89, 'Semanas': 18}\n",
      "{'Artista': 'Elton John', 'Titulo': 'Empty Garden (Hey Hey Johnny)', 'Ano': 1982, 'Pontos': 1023, 'Peak': 88, 'Semanas': 17}\n",
      "{'Artista': 'Elton John', 'Titulo': \"I'm Still Standing\", 'Ano': 1983, 'Pontos': 1114, 'Peak': 89, 'Semanas': 16}\n",
      "{'Artista': 'Elton John', 'Titulo': 'Kiss The Bride', 'Ano': 1983, 'Pontos': 709, 'Peak': 76, 'Semanas': 12}\n",
      "{'Artista': 'Elton John', 'Titulo': \"I Guess That's Why They Call It The Blues\", 'Ano': 1983, 'Pontos': 686, 'Peak': 97, 'Semanas': 23}\n",
      "{'Artista': 'Elton John', 'Titulo': 'Sad Songs (say So Much)', 'Ano': 1984, 'Pontos': 1300, 'Peak': 96, 'Semanas': 19}\n",
      "{'Artista': 'Elton John', 'Titulo': \"I Guess That's Why They Call It The Blues\", 'Ano': 1984, 'Pontos': 857, 'Peak': 97, 'Semanas': 23}\n",
      "{'Artista': 'Elton John', 'Titulo': 'Who Wears These Shoes?', 'Ano': 1984, 'Pontos': 854, 'Peak': 85, 'Semanas': 14}\n",
      "{'Artista': 'Elton John', 'Titulo': 'Wrap Her Up', 'Ano': 1985, 'Pontos': 696, 'Peak': 81, 'Semanas': 14}\n",
      "{'Artista': 'Elton John', 'Titulo': 'Nikita', 'Ano': 1986, 'Pontos': 1184, 'Peak': 94, 'Semanas': 18}\n",
      "{'Artista': 'Elton John', 'Titulo': \"I Don't Wanna Go On With You Like That\", 'Ano': 1988, 'Pontos': 1312, 'Peak': 99, 'Semanas': 18}\n",
      "{'Artista': 'Elton John', 'Titulo': 'Candle In The Wind', 'Ano': 1988, 'Pontos': 819, 'Peak': 95, 'Semanas': 21}\n",
      "{'Artista': 'Elton John', 'Titulo': 'A Word In Spanish', 'Ano': 1988, 'Pontos': 700, 'Peak': 82, 'Semanas': 13}\n",
      "{'Artista': 'Elton John', 'Titulo': 'Healing Hands', 'Ano': 1989, 'Pontos': 884, 'Peak': 88, 'Semanas': 15}\n",
      "{'Artista': 'Elton John', 'Titulo': 'Sacrifice', 'Ano': 1990, 'Pontos': 961, 'Peak': 83, 'Semanas': 17}\n",
      "{'Artista': 'Elton John', 'Titulo': 'Club At The End Of The Street', 'Ano': 1990, 'Pontos': 727, 'Peak': 73, 'Semanas': 16}\n",
      "{'Artista': 'Elton John', 'Titulo': 'The One', 'Ano': 1992, 'Pontos': 1635, 'Peak': 92, 'Semanas': 22}\n",
      "{'Artista': 'Elton John', 'Titulo': 'The Last Song', 'Ano': 1992, 'Pontos': 522, 'Peak': 78, 'Semanas': 20}\n",
      "{'Artista': 'Elton John', 'Titulo': 'Simple Life', 'Ano': 1993, 'Pontos': 784, 'Peak': 71, 'Semanas': 16}\n",
      "{'Artista': 'Elton John', 'Titulo': 'The Last Song', 'Ano': 1993, 'Pontos': 556, 'Peak': 78, 'Semanas': 20}\n",
      "{'Artista': 'Elton John', 'Titulo': 'Can You Feel The Love Tonight (From \"The Lion King\")', 'Ano': 1994, 'Pontos': 2109, 'Peak': 97, 'Semanas': 26}\n",
      "{'Artista': 'Elton John', 'Titulo': 'Circle Of Life (From \"The Lion King\")', 'Ano': 1994, 'Pontos': 1188, 'Peak': 83, 'Semanas': 20}\n",
      "{'Artista': 'Elton John', 'Titulo': 'Believe', 'Ano': 1995, 'Pontos': 1468, 'Peak': 88, 'Semanas': 20}\n",
      "{'Artista': 'Elton John', 'Titulo': 'Blessed', 'Ano': 1995, 'Pontos': 465, 'Peak': 67, 'Semanas': 20}\n",
      "{'Artista': 'Elton John', 'Titulo': 'Blessed', 'Ano': 1996, 'Pontos': 598, 'Peak': 67, 'Semanas': 20}\n",
      "{'Artista': 'Elton John', 'Titulo': 'Candle In The Wind 1997/Something About The Way You Look Tonight', 'Ano': 1997, 'Pontos': 1200, 'Peak': 100, 'Semanas': 42}\n",
      "{'Artista': 'Elton John', 'Titulo': 'Candle In The Wind 1997/Something About The Way You Look Tonight', 'Ano': 1998, 'Pontos': 2057, 'Peak': 100, 'Semanas': 42}\n",
      "{'Artista': 'Elton John', 'Titulo': 'Recover Your Soul', 'Ano': 1998, 'Pontos': 630, 'Peak': 46, 'Semanas': 20}\n"
     ]
    }
   ],
   "source": [
    "print(database[4806])\n",
    "print(database[5005])\n",
    "print(database[4859])\n",
    "teste = findString(1, database, trieArtistas, 'Elton John')[1]\n",
    "for x in teste:\n",
    "    print(database[x])"
   ]
  }
 ],
 "metadata": {
  "kernelspec": {
   "display_name": "Python 3",
   "language": "python",
   "name": "python3"
  },
  "language_info": {
   "codemirror_mode": {
    "name": "ipython",
    "version": 3
   },
   "file_extension": ".py",
   "mimetype": "text/x-python",
   "name": "python",
   "nbconvert_exporter": "python",
   "pygments_lexer": "ipython3",
   "version": "3.6.3"
  }
 },
 "nbformat": 4,
 "nbformat_minor": 2
}
