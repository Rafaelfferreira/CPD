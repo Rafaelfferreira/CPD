{
 "cells": [
  {
   "cell_type": "markdown",
   "metadata": {},
   "source": [
    "#### Importando as bibliotecas"
   ]
  },
  {
   "cell_type": "code",
   "execution_count": 98,
   "metadata": {},
   "outputs": [],
   "source": [
    "import pandas as pd\n",
    "import xlrd\n",
    "import pickle #modulo usado para serializar dados para o arquivo binario\n",
    "import os\n",
    "import time\n",
    "import copy"
   ]
  },
  {
   "cell_type": "markdown",
   "metadata": {},
   "source": [
    "#### Criando as funções necessárias para acessar as árvores TRIE"
   ]
  },
  {
   "cell_type": "code",
   "execution_count": 4,
   "metadata": {},
   "outputs": [],
   "source": [
    "#Definindo classe de nodos TRIE\n",
    "class TrieNode(object):\n",
    "    def __init__(self, char: str):   # __init__ é um método especial para fazer construtores\n",
    "        self.char = char   # caractere do nodo atual\n",
    "        self.filhos = []   # nodos filhos\n",
    "        self.pFinalizada = False   # se é o último nodo e a palavra terminou\n",
    "        self.indices = []   # lista vazia para nodos que não são término de palavra\n",
    "        ### não é um índice único e sim uma lista, pois podem existir títulos de música repetidos com mais de um artista\n",
    "        \n",
    "#Definindo função que adiciona uma string nova a arvore\n",
    "def addString(raiz, palavra: str, indice: int):   # função usada para adicionar uma palavra nova à estrutura trie\n",
    "\n",
    "    nodo = raiz\n",
    "    for char in palavra:\n",
    "        encontradoEmFilho = False\n",
    "        # busca pelo caractere nos filhos do nodo atual\n",
    "        for filho in nodo.filhos:\n",
    "            if filho.char == char: \n",
    "                nodo = filho   # apontamos o nodo para o filho que contém esse char\n",
    "                encontradoEmFilho = True\n",
    "                break\n",
    "        \n",
    "        if not encontradoEmFilho:   # se o caractere não foi encontrado, adiciona novo filho\n",
    "            novoNodo = TrieNode(char)\n",
    "            nodo.filhos.append(novoNodo)\n",
    "            nodo = novoNodo   # apontamos, então, o nodo para seu novo filho e continuamos a iteração\n",
    "    \n",
    "    nodo.pFinalizada = True   # indica que até ali pode ser uma palavra (nome de música/artista completo)\n",
    "    nodo.indices.append(indice)   # assinala o indice passado\n",
    "    \n",
    "#Defiindo função que localiza uma string na arvore\n",
    "def findString(raiz, palavra: str) -> (bool, []):\n",
    "    \"\"\"\n",
    "      1. Se a palavra existe e tem algum índice associado, retorna verdadeiro e a lista de índices dela\n",
    "      2. Se a palavra não existe, retorna falso e uma lista vazia\n",
    "    \"\"\"\n",
    "    nodo = raiz\n",
    "\n",
    "    if not raiz.filhos:   # se o nodo raiz não tiver nenhum filho, trivial, retorna falso\n",
    "        return False, []\n",
    "    for char in palavra:\n",
    "        charNaoEncontrado = True\n",
    "        for filho in nodo.filhos:\n",
    "            if filho.char == char:\n",
    "                charNaoEncontrado = False   # assinala que o char foi encontrado\n",
    "                nodo = filho   # passa iteração para o nodo filho\n",
    "                break\n",
    "        \n",
    "        if charNaoEncontrado:   # retorna falso quando não encontrar algum char da palavra sendo procurada\n",
    "            return False, []\n",
    "    \n",
    "    # Caso passe por todos os caracteres sem retornar [False, []], então significa que a palavra foi encontrada\n",
    "    # Resta saber se aquele nodo é um nodo final com um índice associado\n",
    "    if nodo.pFinalizada:\n",
    "        return True, nodo.indices\n",
    "    else:\n",
    "        return False, []"
   ]
  },
  {
   "cell_type": "markdown",
   "metadata": {},
   "source": [
    "#### Fazendo a leitura dos arquivos"
   ]
  },
  {
   "cell_type": "code",
   "execution_count": 118,
   "metadata": {},
   "outputs": [],
   "source": [
    "#Faz a leitura do arquivo de registros\n",
    "with (open('teste.bin', 'rb')) as openfile:\n",
    "    dados = pickle.load(openfile)\n",
    "    \n",
    "#Leitura do arquivo de indices de anos\n",
    "with (open('indices.bin', 'rb')) as openfile:\n",
    "    indices = pickle.load(openfile)\n",
    "\n",
    "#Leitura do arquivo com a arvore TRIE de titulos de musicas\n",
    "with open('trieMusicas.bin','rb') as openfile:\n",
    "    trieMusicas = pickle.load(openfile)\n",
    "        \n",
    "#Leitura do arquivo com a arvore TRIE de nomes de artistas\n",
    "with open('trieArtistas.bin','rb') as openfile:\n",
    "    trieArtistas = pickle.load(openfile)"
   ]
  },
  {
   "cell_type": "markdown",
   "metadata": {},
   "source": [
    "## Definição das Querys"
   ]
  },
  {
   "cell_type": "markdown",
   "metadata": {},
   "source": [
    "#### Query que retorna um numero N de pesquisas em ordem de relevancia, filtrando por artista/ano opcionalmente\n",
    "###### Opcional: Depois criar um algoritmo que tente achar se tem mais de uma musica do mesmo artista em um ano"
   ]
  },
  {
   "cell_type": "code",
   "execution_count": 141,
   "metadata": {},
   "outputs": [],
   "source": [
    "def relevancia(top, ano=None, artista=None):\n",
    "    \n",
    "    #Se nao especifica nenhum ano então retorna os mais populares no geral\n",
    "    \n",
    "    #Retornando de um determinado ano\n",
    "    if(ano != None):\n",
    "        #Consultando do arquivo de indices qual o index inicial do ano que o usuario entrou\n",
    "        for x in indices:\n",
    "            if x['Ano'] == ano:\n",
    "                comeco = x['Min']\n",
    "        for i in range(comeco, comeco+top):\n",
    "            print(dados[i])\n",
    "            \n",
    "    #Retornando de um determinado artista\n",
    "    if(artista != None):\n",
    "        indicesArtista = findString(trieArtistas, artista)[1] #retorna os indices do arquivo principal com registros do artista\n",
    "        listaMusicas2 = []\n",
    "        for i in indicesArtista:\n",
    "            listaMusicas2.append(dados[i])\n",
    "\n",
    "        listaMusicas = copy.deepcopy(listaMusicas2) #Faz uma copia de lista2 para lista, pq lista2 so referencia os registros de dados ao inves de criar eles novamente\n",
    "        \n",
    "        for i in range(len(listaMusicas)-1):\n",
    "            for j in range(i+1, len(listaMusicas)-1):\n",
    "                #print(j)\n",
    "                if(listaMusicas[i]['Titulo'] == listaMusicas[j]['Titulo']):\n",
    "                    listaMusicas[i]['Pontos'] = listaMusicas[i]['Pontos'] + listaMusicas[j]['Pontos']\n",
    "                    listaMusicas.pop(j)\n",
    "        \n",
    "        listaMusicas = sorted(listaMusicas, key = lambda tup: (tup[\"Pontos\"]), reverse=True)\n",
    "        \n",
    "        if(len(listaMusicas) < top):\n",
    "            top = len(listaMusicas) - 1\n",
    "            \n",
    "        for i in range(top):\n",
    "            print(listaMusicas[i])\n",
    "        \n",
    "        "
   ]
  },
  {
   "cell_type": "code",
   "execution_count": 147,
   "metadata": {},
   "outputs": [
    {
     "name": "stdout",
     "output_type": "stream",
     "text": [
      "{'Artista': 'Katy Perry', 'Titulo': 'Firework', 'Ano': 2010, 'Pontos': 3233, 'Peak': 100, 'Semanas': 39}\n",
      "{'Artista': 'Katy Perry', 'Titulo': 'Hot N Cold', 'Ano': 2008, 'Pontos': 3087, 'Peak': 98, 'Semanas': 39}\n",
      "{'Artista': 'Katy Perry', 'Titulo': 'Roar', 'Ano': 2013, 'Pontos': 3004, 'Peak': 100, 'Semanas': 35}\n",
      "{'Artista': 'Katy Perry', 'Titulo': 'Teenage Dream', 'Ano': 2010, 'Pontos': 2754, 'Peak': 100, 'Semanas': 33}\n",
      "{'Artista': 'Katy Perry', 'Titulo': 'Wide Awake', 'Ano': 2012, 'Pontos': 2234, 'Peak': 99, 'Semanas': 26}\n",
      "{'Artista': 'Katy Perry', 'Titulo': 'I Kissed A Girl', 'Ano': 2008, 'Pontos': 1973, 'Peak': 100, 'Semanas': 23}\n",
      "{'Artista': 'Katy Perry', 'Titulo': 'Last Friday Night (T.G.I.F.)', 'Ano': 2011, 'Pontos': 1960, 'Peak': 100, 'Semanas': 24}\n",
      "{'Artista': 'Katy Perry', 'Titulo': 'The One That Got Away', 'Ano': 2011, 'Pontos': 1897, 'Peak': 98, 'Semanas': 24}\n",
      "{'Artista': 'Katy Perry', 'Titulo': 'Waking Up In Vegas', 'Ano': 2009, 'Pontos': 1849, 'Peak': 92, 'Semanas': 23}\n",
      "{'Artista': 'Katy Perry', 'Titulo': 'Part Of Me', 'Ano': 2012, 'Pontos': 1829, 'Peak': 100, 'Semanas': 22}\n",
      "{'Artista': 'Katy Perry', 'Titulo': 'Birthday', 'Ano': 2014, 'Pontos': 958, 'Peak': 84, 'Semanas': 18}\n",
      "{'Artista': 'Katy Perry', 'Titulo': 'This Is How We Do', 'Ano': 2014, 'Pontos': 829, 'Peak': 77, 'Semanas': 18}\n",
      "{'Artista': 'Katy Perry', 'Titulo': 'Thinking Of You', 'Ano': 2009, 'Pontos': 733, 'Peak': 72, 'Semanas': 15}\n",
      "{'Artista': 'Katy Perry', 'Titulo': 'Unconditionally', 'Ano': 2013, 'Pontos': 654, 'Peak': 87, 'Semanas': 20}\n"
     ]
    }
   ],
   "source": [
    "relevancia(20, artista='Katy Perry')"
   ]
  }
 ],
 "metadata": {
  "kernelspec": {
   "display_name": "Python 3",
   "language": "python",
   "name": "python3"
  },
  "language_info": {
   "codemirror_mode": {
    "name": "ipython",
    "version": 3
   },
   "file_extension": ".py",
   "mimetype": "text/x-python",
   "name": "python",
   "nbconvert_exporter": "python",
   "pygments_lexer": "ipython3",
   "version": "3.6.4"
  }
 },
 "nbformat": 4,
 "nbformat_minor": 2
}
