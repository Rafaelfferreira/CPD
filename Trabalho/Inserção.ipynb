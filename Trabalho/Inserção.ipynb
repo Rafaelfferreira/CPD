{
 "cells": [
  {
   "cell_type": "markdown",
   "metadata": {},
   "source": [
    "# Inserção de elementos\n",
    "Notebook dedicado a incrementar as funções que serão usadas para adicionar"
   ]
  },
  {
   "cell_type": "markdown",
   "metadata": {},
   "source": [
    "#### Importando bibliotecas e importando as funções primárias"
   ]
  },
  {
   "cell_type": "code",
   "execution_count": 1,
   "metadata": {},
   "outputs": [],
   "source": [
    "#importa as bibliotecas\n",
    "import pandas as pd\n",
    "import xlrd\n",
    "import pickle #modulo usado para serializar dados para o arquivo binario\n",
    "import os\n",
    "import time\n",
    "from unicodedata import normalize #biblioteca usada para criar as arvores TRIE"
   ]
  },
  {
   "cell_type": "code",
   "execution_count": 2,
   "metadata": {},
   "outputs": [],
   "source": [
    "#Funcao que retira as features de artistas selecionados e salva apenas o artista principal da musica\n",
    "def retiraFeaturing(artistaString):\n",
    "    \n",
    "    if \" Featuring\" in artistaString:   # Se a música tiver um featuring, deve-se retirá-lo\n",
    "            indexFeat = artistaString.find(\" Featuring\")   # pega índice do char space antes de Featuring\n",
    "            artistaString = artistaString[:indexFeat]   # retorna apenas o primeiro artista\n",
    "        \n",
    "    return artistaString   # caso não caia no if, simplesmente retorna o artista assim como veio\n",
    "\n",
    "# Função que formata string desconsiderando maiúsculas e minúsculas e que remove acentos\n",
    "def formataString(string):\n",
    "    string = normalize('NFKD', string).encode('ASCII', 'ignore').decode('ASCII')\n",
    "    return string.upper()\n",
    "\n",
    "#------------------------------------------------------------\n",
    "#Definicao das funcoes usadas para gerar as arvores TRIE\n",
    "#------------------------------------------------------------\n",
    "#Definicao da classe de nodo das arvores TRIE\n",
    "class TrieNode(object):\n",
    "    def __init__(self, char: str):   # __init__ é um método especial para fazer construtores\n",
    "        self.char = char   # caractere do nodo atual\n",
    "        self.filhos = []   # nodos filhos\n",
    "        self.pFinalizada = False   # se é o último nodo e a palavra terminou\n",
    "        self.indices = []   # lista vazia para nodos que não são término de palavra\n",
    "        ### não é um índice único e sim uma lista, pois podem existir títulos de música repetidos com mais de um artista\n",
    "\n",
    "#Definicao da funcao que adiciona uma string na arvore TRIE\n",
    "def addString(raiz, palavra: str, indice: int):   # função usada para adicionar uma palavra nova à estrutura trie \n",
    "    palavra = formataString(palavra)   # formata string de entrada para o padrão (todas as letras maiúsculas sem acento)\n",
    "    nodo = raiz\n",
    "    for char in palavra:\n",
    "        encontradoEmFilho = False\n",
    "        # busca pelo caractere nos filhos do nodo atual\n",
    "        for filho in nodo.filhos:\n",
    "            if filho.char == char: \n",
    "                nodo = filho   # apontamos o nodo para o filho que contém esse char\n",
    "                encontradoEmFilho = True\n",
    "                break\n",
    "        \n",
    "        if not encontradoEmFilho:   # se o caractere não foi encontrado, adiciona novo filho\n",
    "            novoNodo = TrieNode(char)\n",
    "            nodo.filhos.append(novoNodo)\n",
    "            nodo = novoNodo   # apontamos, então, o nodo para seu novo filho e continuamos a iteração\n",
    "    \n",
    "    nodo.pFinalizada = True   # indica que até ali pode ser uma palavra (nome de música/artista completo)\n",
    "    nodo.indices.append(indice)   # assinala o indice passado\n",
    "    \n",
    "#Funcao que procura uma string na arvore TRIE \n",
    "def findString(select, dados, raiz, palavra: str) -> (bool, []):\n",
    "    \"\"\"\n",
    "      1. Se a palavra existe e tem algum índice associado, retorna verdadeiro e a lista de índices dela\n",
    "      2. Se a palavra não existe, retorna falso e uma lista com sugestões de palavras\n",
    "      \n",
    "      Sendo o parâmetro select utilizada para indicar se a busca é por artista ou música (0 música, 1 artista)\n",
    "    \"\"\"\n",
    "    palavra = formataString(palavra)   # formata string de entrada para o padrão (todas as letras maiúsculas sem acento)\n",
    "    nodo = raiz\n",
    "    stringSugerida = \"\"  # guarda os caracteres já encontrados para sugerir os próximos\n",
    "    \n",
    "    if not raiz.filhos:   # se o nodo raiz não tiver nenhum filho, trivial, retorna falso\n",
    "        return False, []\n",
    "    for char in palavra:\n",
    "        charNaoEncontrado = True\n",
    "        for filho in nodo.filhos:\n",
    "            if filho.char == char:\n",
    "                charNaoEncontrado = False   # assinala que o char foi encontrado\n",
    "                stringSugerida = stringSugerida+char\n",
    "                nodo = filho   # passa iteração para o nodo filho\n",
    "                break\n",
    "        \n",
    "        if charNaoEncontrado:   # chama a função que procura sugestões e retorna a tupla (False, lista de sugestões)\n",
    "            return False, sugereStrings(select, dados, nodo, stringSugerida, 15)\n",
    "    \n",
    "    # Caso passe por todos os caracteres sem retornar false, então significa que a palavra foi encontrada\n",
    "    # Resta saber se aquele nodo é um nodo final com um índice associado\n",
    "    if nodo.pFinalizada:\n",
    "        return True, nodo.indices\n",
    "    else:\n",
    "        return False, sugereStrings(select, dados, nodo, stringSugerida, 15)\n",
    "    \n",
    "#Funcoes utilizadas para sugerir buscas\n",
    "def sugereStrings(select, dados, nodo, string, maxSugestoes):   # onde select igual a 1 significa que se procura um artista e False, música\n",
    "        listaDeSugestoes = []   # cria lista vazia para adicionarmos as sugestões\n",
    "        procuraSugestoes(nodo, string, listaDeSugestoes)   # chama a função que percorre a trie procurando sugestões\n",
    "        \n",
    "        \n",
    "        itera = copy.deepcopy(listaDeSugestoes)   # utilizado para iteração na lista que está sendo modificada enquanto o loop itera\n",
    "        \n",
    "        # substitui os indices pelos títulos\n",
    "        for indice in itera:\n",
    "            listaDeSugestoes.remove(indice)   # remove o índice \n",
    "            if select:\n",
    "                listaDeSugestoes.append(dados[indice]['Artista']) \n",
    "            else:\n",
    "                listaDeSugestoes.append(dados[indice]['Titulo']) \n",
    "            \n",
    "        \n",
    "        listaDeSugestoes = sorted(listaDeSugestoes)   # ordena a lista alfabeticamente\n",
    "        return listaDeSugestoes[:maxSugestoes]   # retorna apenas os n elementos da lista definidos por maxSugestoes\n",
    "\n",
    "    \n",
    "# função que dado um nodo, uma parte correta de uma string (que existe na TRIE), uma lista de sugestoes, retorna uma lista de sugestões\n",
    "def procuraSugestoes(nodo, string, listaDeSugestoes):\n",
    "        \n",
    "        if nodo.pFinalizada:   \n",
    "            listaDeSugestoes.append(nodo.indices[0])   # adiciona nova sugestão na lista\n",
    "        \n",
    "        for filho in nodo.filhos:\n",
    "            \n",
    "            procuraSugestoes(filho, string+filho.char, listaDeSugestoes)   # recursão para cada filho \n",
    "            if filho.pFinalizada:   \n",
    "                listaDeSugestoes.append(filho.indices[0])   # adiciona nova sugestão na lista\n",
    "                \n",
    "        return  \n",
    "  \n",
    "# Função auxiliar para adicionar artista levando-se em consideração a retirada do possível \"feat\" da string\n",
    "# A função checa se a string passada como parâmetro contém uma sinalização de featuring para evitar que se crie um \"artista novo\"\n",
    "#\n",
    "'''def adicionaArtista(raiz, artista, indice):\n",
    "    \n",
    "    if \" Featuring\" in artista:   # Se a música tiver um featuring, deve-se retirá-lo\n",
    "        indexFeat = artista.find(\" Featuring\")\n",
    "        counter = 0\n",
    "        artistaNewString = \"\"\n",
    "        \n",
    "        # como artista = [:indexFeat] dá erro de sintaxe, precisa-se iterar e construir outra string \n",
    "        # um loop for com contador (e break) é necessário nesse caso para poder iterar pela sting \n",
    "        for char in artista:\n",
    "            if counter == indexFeat:\n",
    "                break\n",
    "            artistaNewString = artistaNewString + char\n",
    "            counter += 1\n",
    "\n",
    "        artista = artistaNewString   # atualiza nome do artista     \n",
    "\n",
    "    addString(raiz, artista, indice)\n",
    "'''"
   ]
  },
  {
   "cell_type": "code",
   "execution_count": 57,
   "metadata": {},
   "outputs": [],
   "source": [
    "#Aceita entradas no formato pandas.DataFrame no final do arquivo tem um exemplo de como criar essas estruturas a partir de dicionarios\n",
    "#Implementado desse jeito pois nossos exemplos de inserção serão baseados em novas entradas do excel geradas anualmente pela Billboard\n",
    "def adicionaAno(df):\n",
    "    \n",
    "    #----------------------------------------------------------\n",
    "    #Abrindo os arquivos com os tops de artistas\n",
    "    with (open('topArtistas.bin', 'rb')) as openfile:\n",
    "        topArtistas = pickle.load(openfile)\n",
    "        \n",
    "    with (open('topMusicas.bin', 'rb')) as openfile:\n",
    "        topMusicas = pickle.load(openfile)\n",
    "        \n",
    "    #Abrindo os arquivos com as arvores Trie      \n",
    "    with (open('trieMusicas.bin', 'rb')) as openfile:\n",
    "        trieMusicas = pickle.load(openfile)\n",
    "        \n",
    "    with (open('trieArtistas.bin', 'rb')) as openfile:\n",
    "        trieArtistas = pickle.load(openfile)\n",
    "    #----------------------------------------------------------\n",
    "    #Salva os indices finais dos arquivos pré-inserção + 1 \n",
    "    indiceIniArtist = len(topArtistas) \n",
    "    indiceIniMusic = len(topMusicas)\n",
    "    contador = {}\n",
    "    #Salva os registros do ano atual\n",
    "    for i in range(len(df)):\n",
    "        ano = df['WeekID'][0].split('-')\n",
    "        ano = ano[0]\n",
    "        if(df['SongID'][i] in contador): #testa se a musica ja esta no dicionario (ja foi computada)\n",
    "            contador[df['SongID'][i]]['Pontos'] += (101 - df['Week Position'][i])\n",
    "        else: #cai aqui se ainda nao foi computada\n",
    "            contador[df['SongID'][i]] = {}\n",
    "            contador[df['SongID'][i]]['Artista'] = df['Performer'][i]\n",
    "            contador[df['SongID'][i]]['Titulo'] = df['Song'][i]\n",
    "            contador[df['SongID'][i]]['Ano'] = ano\n",
    "            contador[df['SongID'][i]]['Pontos'] = (101 - df['Week Position'][i])\n",
    "            #A medida 'Peak' nao eh a posicao exata que ela atingiu mas os \"pontos maximos\" ganhos em uma semana (de 1 a 100)\n",
    "            contador[df['SongID'][i]]['Peak'] = (101 - df['Peak Position'][i]) #salva qual foi a maior posicao alcançada pela musica (usada para criterios de desempate)\n",
    "            contador[df['SongID'][i]]['Semanas'] = df['Weeks on Chart'][i] #Terceiro criterio de desempate\n",
    "        \n",
    "    #Faz o sort do ano atual\n",
    "    items = sorted(contador.items(), key = lambda tup: (tup[1][\"Pontos\"], tup[1][\"Peak\"], tup[1][\"Semanas\"]), reverse=True)\n",
    "    \n",
    "    #armazena as primeiras 200 entradas em um dicionário mais organizado\n",
    "    top = [dict() for x in range(200)] #cria uma lista de 200 dicionarios\n",
    "    for i in range(len(top)):\n",
    "    \n",
    "        for y in items[i][1]:\n",
    "            top[i][y] = items[i][1][y]\n",
    "        \n",
    "        # Adiciona no dicionário de todos os artistas (ou soma os pontos) para cianção do arquivo topArtistas.bin\n",
    "        artistaIterado = retiraFeaturing(str(top[i]['Artista']))   # retira o featuring caso tenha\n",
    "        if artistaIterado in topArtistas:   # testa se o artista já está no dicionário\n",
    "            topArtistas[artistaIterado] += top[i]['Pontos']   # se sim só soma nos seus pontos\n",
    "        else:   # caso não esteja, adicona\n",
    "            topArtistas[artistaIterado] = top[i]['Pontos']\n",
    "            \n",
    "        #Inserindo nas arvores TRIE\n",
    "        addString(raizMusicas, str(top[i]['Titulo']), indiceIniMusic)\n",
    "        addString(raizArtistas, artistaIterado, indiceIniArtist)\n",
    "        indiceIniMusic += 1\n",
    "        indiceIniArtist += 1\n",
    "    \n",
    "    #Concatena o dicionario no arquivo teste.bin\n",
    "    filename = 'database.bin'\n",
    "    topBytes = []\n",
    "    \n",
    "\n",
    "    if os.path.exists(filename): #confere se o arquivo existe\n",
    "        with open(filename,'rb') as openfile:  #with automaticamente da um close() no final\n",
    "            topBytes = pickle.load(openfile) #carrega o que ja esta salvo no arquivo\n",
    "\n",
    "\n",
    "    newData = top #Aqui vem a nova data que deve ser concatenada\n",
    "        \n",
    "    topBytes = topBytes + newData #concatena o que ja tinha no arquivo binario com a nova data\n",
    "    with (open(filename, 'wb+')) as openfile: #abre o arquivo no modo de leitura binaria 'wb' como openfile\n",
    "        pickle.dump(topBytes, openfile) \n",
    "        \n",
    "    #-----------------------------------------------------------------------------    \n",
    "    #Cria o arquivo de indice para consultas    \n",
    "    #-----------------------------------------------------------------------------\n",
    "    filename = 'indices.bin'\n",
    "    fileBytes = []\n",
    "\n",
    "    if os.path.exists(filename): #confere se o arquivo existe\n",
    "        with open(filename,'rb') as openfile:  #with automaticamente da um close() no final\n",
    "            fileBytes = pickle.load(openfile)\n",
    "\n",
    "\n",
    "    newData = {'Ano': ano, 'Min': len(topBytes) - 200, 'Max': len(topBytes) - 1} #Aqui vem a nova data que deve ser concatenada\n",
    "        \n",
    "    fileBytes.append(newData)#concatena o que ja tinha no arquivo binario com a nova data\n",
    "    with (open(filename, 'wb+')) as openfile: #abre o arquivo de teste no modo de leitura binaria 'wb' como openfile\n",
    "        pickle.dump(fileBytes, openfile)\n",
    "     \n",
    "    \n",
    "    #-----------------------------------------------------------------------------\n",
    "    #Cria e ordena o topMusicas - Reaproveitada da criação de arquivos\n",
    "    #-----------------------------------------------------------------------------\n",
    "    itera = 0\n",
    "    for x in topBytes:\n",
    "        topMusicas[itera] = x['Pontos']\n",
    "        itera += 1    \n",
    "    \n",
    "    topMusicasSorted = sorted(topMusicas.items(), key=lambda kv: kv[1], reverse=True)\n",
    "\n",
    "    #Salva ranking geral de musicas\n",
    "    with (open(\"topMusicas.bin\", 'wb+')) as openfile:\n",
    "        pickle.dump(artistasSorted, openfile)  "
   ]
  },
  {
   "cell_type": "markdown",
   "metadata": {},
   "source": [
    "#### Exemplo de como criar estruturas Dataframe"
   ]
  },
  {
   "cell_type": "code",
   "execution_count": 3,
   "metadata": {},
   "outputs": [
    {
     "name": "stdout",
     "output_type": "stream",
     "text": [
      "<class 'pandas.core.frame.DataFrame'>\n",
      "Index(['url', 'Song'], dtype='object')\n",
      "\n",
      " BBBBB GURLS\n"
     ]
    }
   ],
   "source": [
    "d = {'url': ['porra'], 'Song': ['BBBBB GURLS']}\n",
    "df = pd.DataFrame(data=d)\n",
    "print(type(df))\n",
    "print(df.columns)\n",
    "print(\"\\n\", df['Song'][0])"
   ]
  },
  {
   "cell_type": "markdown",
   "metadata": {},
   "source": [
    "### Teste de inserção de dados nos arquivos top"
   ]
  },
  {
   "cell_type": "code",
   "execution_count": 19,
   "metadata": {},
   "outputs": [],
   "source": [
    "#Abrindo os arquivos necessários para adicionar mais consultas     \n",
    "    with (open('topArtistas.bin', 'rb')) as openfile:\n",
    "        topArtistas = pickle.load(openfile)\n",
    "        \n",
    "    with (open('topMusicas.bin', 'rb')) as openfile:\n",
    "        topMusicas = pickle.load(openfile)"
   ]
  },
  {
   "cell_type": "code",
   "execution_count": 20,
   "metadata": {},
   "outputs": [
    {
     "name": "stdout",
     "output_type": "stream",
     "text": [
      "3701\n"
     ]
    }
   ],
   "source": [
    "topArtistas.append()\n",
    "topArtistas = sorted(topArtistas.items(), key=lambda kv: kv[1], reverse=True)"
   ]
  },
  {
   "cell_type": "markdown",
   "metadata": {},
   "source": [
    "### Teste inserção anos"
   ]
  },
  {
   "cell_type": "code",
   "execution_count": 34,
   "metadata": {},
   "outputs": [],
   "source": [
    "with (open('topArtistas.bin', 'rb')) as openfile:\n",
    "    topArtistas = pickle.load(openfile)\n",
    "        \n",
    "with (open('topMusicas.bin', 'rb')) as openfile:\n",
    "    topMusicas = pickle.load(openfile)\n",
    "        \n",
    "#Abrindo os arquivos com as arvores Trie      \n",
    "with (open('trieMusicas.bin', 'rb')) as openfile:\n",
    "    trieMusicas = pickle.load(openfile)\n",
    "        \n",
    "with (open('trieArtistas.bin', 'rb')) as openfile:\n",
    "    trieArtistas = pickle.load(openfile)\n",
    "    \n",
    "with (open('database.bin', 'rb')) as openfile:\n",
    "    database = pickle.load(openfile)\n",
    "        \n",
    "with (open('indices.bin', 'rb')) as openfile:\n",
    "    indices = pickle.load(openfile)"
   ]
  },
  {
   "cell_type": "code",
   "execution_count": 60,
   "metadata": {},
   "outputs": [
    {
     "name": "stdout",
     "output_type": "stream",
     "text": [
      "Kelly Clarkson\n",
      "cu\n"
     ]
    },
    {
     "ename": "TypeError",
     "evalue": "list indices must be integers or slices, not str",
     "output_type": "error",
     "traceback": [
      "\u001b[0;31m---------------------------------------------------------------------------\u001b[0m",
      "\u001b[0;31mTypeError\u001b[0m                                 Traceback (most recent call last)",
      "\u001b[0;32m<ipython-input-60-d9b30d41bfaa>\u001b[0m in \u001b[0;36m<module>\u001b[0;34m\u001b[0m\n\u001b[1;32m      5\u001b[0m \u001b[0;32melse\u001b[0m\u001b[0;34m:\u001b[0m\u001b[0;34m\u001b[0m\u001b[0m\n\u001b[1;32m      6\u001b[0m     \u001b[0mprint\u001b[0m\u001b[0;34m(\u001b[0m\u001b[0;34m\"cuzinh\"\u001b[0m\u001b[0;34m)\u001b[0m\u001b[0;34m\u001b[0m\u001b[0m\n\u001b[0;32m----> 7\u001b[0;31m \u001b[0madicionaAno\u001b[0m\u001b[0;34m(\u001b[0m\u001b[0mdf\u001b[0m\u001b[0;34m)\u001b[0m\u001b[0;34m\u001b[0m\u001b[0m\n\u001b[0m",
      "\u001b[0;32m<ipython-input-57-15540e42f60a>\u001b[0m in \u001b[0;36madicionaAno\u001b[0;34m(df)\u001b[0m\n\u001b[1;32m     53\u001b[0m             \u001b[0mtopArtistas\u001b[0m\u001b[0;34m[\u001b[0m\u001b[0martistaIterado\u001b[0m\u001b[0;34m]\u001b[0m \u001b[0;34m+=\u001b[0m \u001b[0mtop\u001b[0m\u001b[0;34m[\u001b[0m\u001b[0mi\u001b[0m\u001b[0;34m]\u001b[0m\u001b[0;34m[\u001b[0m\u001b[0;34m'Pontos'\u001b[0m\u001b[0;34m]\u001b[0m   \u001b[0;31m# se sim só soma nos seus pontos\u001b[0m\u001b[0;34m\u001b[0m\u001b[0m\n\u001b[1;32m     54\u001b[0m         \u001b[0;32melse\u001b[0m\u001b[0;34m:\u001b[0m   \u001b[0;31m# caso não esteja, adicona\u001b[0m\u001b[0;34m\u001b[0m\u001b[0m\n\u001b[0;32m---> 55\u001b[0;31m             \u001b[0mtopArtistas\u001b[0m\u001b[0;34m[\u001b[0m\u001b[0martistaIterado\u001b[0m\u001b[0;34m]\u001b[0m \u001b[0;34m=\u001b[0m \u001b[0mtop\u001b[0m\u001b[0;34m[\u001b[0m\u001b[0mi\u001b[0m\u001b[0;34m]\u001b[0m\u001b[0;34m[\u001b[0m\u001b[0;34m'Pontos'\u001b[0m\u001b[0;34m]\u001b[0m\u001b[0;34m\u001b[0m\u001b[0m\n\u001b[0m\u001b[1;32m     56\u001b[0m \u001b[0;34m\u001b[0m\u001b[0m\n\u001b[1;32m     57\u001b[0m         \u001b[0;31m#Inserindo nas arvores TRIE\u001b[0m\u001b[0;34m\u001b[0m\u001b[0;34m\u001b[0m\u001b[0m\n",
      "\u001b[0;31mTypeError\u001b[0m: list indices must be integers or slices, not str"
     ]
    }
   ],
   "source": [
    "df = pd.read_excel('2008Gurizada.xlsx')\n",
    "print(topArtistas[0][0])\n",
    "if \"Kelly Clarkson\" in topArtistas[0]:\n",
    "    print(\"cu\")\n",
    "else:\n",
    "    print(\"cuzinh\")\n",
    "adicionaAno(df)"
   ]
  },
  {
   "cell_type": "code",
   "execution_count": 43,
   "metadata": {},
   "outputs": [
    {
     "name": "stdout",
     "output_type": "stream",
     "text": [
      "Index(['url', 'WeekID', 'Week Position', 'Song', 'Performer', 'SongID',\n",
      "       'Instance', 'Previous Week Position', 'Peak Position',\n",
      "       'Weeks on Chart'],\n",
      "      dtype='object')\n",
      "2008-01-05\n",
      "2008\n"
     ]
    }
   ],
   "source": [
    "print(df.columns)\n",
    "print(df['WeekID'][0])\n",
    "var = df['WeekID'][0].split('-')\n",
    "var = var[0]\n",
    "print(var)"
   ]
  }
 ],
 "metadata": {
  "kernelspec": {
   "display_name": "Python 3",
   "language": "python",
   "name": "python3"
  },
  "language_info": {
   "codemirror_mode": {
    "name": "ipython",
    "version": 3
   },
   "file_extension": ".py",
   "mimetype": "text/x-python",
   "name": "python",
   "nbconvert_exporter": "python",
   "pygments_lexer": "ipython3",
   "version": "3.6.4"
  }
 },
 "nbformat": 4,
 "nbformat_minor": 2
}
