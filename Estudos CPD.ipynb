{
 "cells": [
  {
   "cell_type": "markdown",
   "metadata": {},
   "source": [
    "# Estudos de Classificação e Pesquisa de Dados\n",
    "## Algoritmo de inserção direta"
   ]
  },
  {
   "cell_type": "code",
   "execution_count": 11,
   "metadata": {},
   "outputs": [],
   "source": [
    "import numpy as np # Importando a biblioteca numpy (para trabalhar com arrays)\n",
    "import time #Biblioteca utilizada para contar o tempo\n",
    "import pandas as pd #biblioteca para trabalhar com dataframes\n",
    "\n",
    "gerador = np.random.RandomState() # Cria um gerador de números aleatórios\n",
    "\n",
    "# A função log imprime um log dos dados da execução de algum dos algoritmos\n",
    "# Dados registrados: algoritmo, tipo de array, quantidade de números, trocas e comparações e tempo em milissegundos\n",
    "# Os tipos de array podem ser 'R'andomicos, 'C'rescente ou 'D'ecrescente\n",
    "# lambda é uma keyword que permite gerar funcoes de uma linha, m é o argumento que ela recebe\n",
    "log = lambda m: print('[log: {algoritmo}, {tipo}, {quantidade:d}, {trocas:d}, {comparacoes:d},{tempo:f}]'.format(algoritmo=m['algoritmo'],\n",
    "                                                                                                                tipo=m['tipo'],\n",
    "                                                                                                                quantidade=m['quantidade'],\n",
    "                                                                                                                trocas=m['trocas'],\n",
    "                                                                                                                comparacoes=m['comparacoes'],\n",
    "                                                                                                                tempo=m['tempo']))\n",
    "\n",
    "medicoes=[] # Lista que armazena os resultados das medições em memória\n",
    "\n",
    "#Função de inserção direta com busca linear:\n",
    "def insertion_sort(array):\n",
    "    trocas = comparacoes = 0\n",
    "    for j in range(1, len(array)): #funcao range gera uma lista de numeros com o valor inicial de j (1) e depois o final (len(array))\n",
    "        chave = array[j] #chave a ser inserida no subarray ordenado\n",
    "        i = j-1 #i recebe o ultimo elemento do subarray ordenado\n",
    "        comparacoes += 1\n",
    "        while (i >= 0) and (array[i] > chave): #busca linear da direita para a esquerda dentro do array subordenado\n",
    "            array[i+1] = array[i]\n",
    "            i -= 1\n",
    "            trocas += 1\n",
    "        array[i+1] = chave\n",
    "    return {'trocas':trocas, 'comparacoes':comparacoes}"
   ]
  },
  {
   "cell_type": "code",
   "execution_count": 33,
   "metadata": {},
   "outputs": [
    {
     "name": "stdout",
     "output_type": "stream",
     "text": [
      "Array gerado ( 100 numeros ):\n",
      " [98 88 70 91  4 48 82 77 94 59  5 43  0 76 39 76 81 16 86 16 34 56 87 12 89\n",
      " 30 32 43 19 46 64 14 69  1 99 55 56 17 45 14 45  4  3 60 18 10 90 47 40 35\n",
      " 32 50 62  4 74 17 48 53 23 87 50 25 43 46 56  0  2 97 36 11 16 19 31 91 76\n",
      " 96 92 94  1 41  2 98 78 54 45 75  3 63 71 91 97 46 60 46  1 26 14 16 70  8]\n",
      "Array ordenado:\n",
      " [ 0  0  1  1  1  2  2  3  3  4  4  4  5  8 10 11 12 14 14 14 16 16 16 16 17\n",
      " 17 18 19 19 23 25 26 30 31 32 32 34 35 36 39 40 41 43 43 43 45 45 45 46 46\n",
      " 46 46 47 48 48 50 50 53 54 55 56 56 56 59 60 60 62 63 64 69 70 70 71 74 75\n",
      " 76 76 76 77 78 81 82 86 87 87 88 89 90 91 91 91 92 94 94 96 97 97 98 98 99]\n"
     ]
    }
   ],
   "source": [
    "#Teste do algoritmo de inserção direta com 10 elementos\n",
    "max = qtd = 100 #Quantidade de elementos que serão gerados aleatoriamente\n",
    "arrayRandomico = gerador.randint(0, max+1, qtd) #randint retorna inteiros aleatorio, nesse caso 'qtd' inteiros entre 0 e max \n",
    "print('Array gerado (',qtd, 'numeros ):\\n', arrayRandomico)\n",
    "\n",
    "tempo = time.process_time() #Armazena o tempo de inicio do processamento\n",
    "m = insertion_sort(arrayRandomico) #Ordena o Array e retorna a quantidade de trocas e comparacoes\n",
    "t = time.process_time() - tempo #Salva em t o tempo que o processo levou\n",
    "print('Array ordenado:\\n', arrayRandomico)\n",
    "\n",
    "#Armazenando as informacoes sobre a execucao do algoritmo em um dicionario\n",
    "medicao={}\n",
    "medicao['algoritmo']='IDBL'\n",
    "medicao['tipo']='R'\n",
    "medicao['quantidade'] = qtd\n",
    "medicao['trocas']=m['trocas']\n",
    "medicao['comparacoes']=m['comparacoes']\n",
    "medicao['tempo']=t\n",
    "\n",
    "medicoes.append(medicao) #Adiciona medição em uma lista de medições"
   ]
  },
  {
   "cell_type": "code",
   "execution_count": 34,
   "metadata": {},
   "outputs": [
    {
     "name": "stdout",
     "output_type": "stream",
     "text": [
      "  algoritmo tipo  quantidade  trocas  comparacoes  tempo\n",
      "0      IDBL    R         100    2278           99    0.0\n",
      "1      IDBL    R         100    2589           99    0.0\n"
     ]
    }
   ],
   "source": [
    "#Exibe os dados relacionados as execuções do algoritmo de ordenação\n",
    "df = pd.DataFrame(medicoes) #Estrutura de tabela da biblioteca pandas\n",
    "cols = ['algoritmo', 'tipo', 'quantidade', 'trocas', 'comparacoes', 'tempo'] #Colocando as colunas na ordem certa\n",
    "df = df[cols]\n",
    "\n",
    "print(df)"
   ]
  },
  {
   "cell_type": "code",
   "execution_count": null,
   "metadata": {
    "collapsed": true
   },
   "outputs": [],
   "source": []
  }
 ],
 "metadata": {
  "kernelspec": {
   "display_name": "Python 3",
   "language": "python",
   "name": "python3"
  },
  "language_info": {
   "codemirror_mode": {
    "name": "ipython",
    "version": 3
   },
   "file_extension": ".py",
   "mimetype": "text/x-python",
   "name": "python",
   "nbconvert_exporter": "python",
   "pygments_lexer": "ipython3",
   "version": "3.6.3"
  }
 },
 "nbformat": 4,
 "nbformat_minor": 2
}
