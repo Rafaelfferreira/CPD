{
 "cells": [
  {
   "cell_type": "code",
   "execution_count": 27,
   "metadata": {},
   "outputs": [],
   "source": [
    "from typing import Tuple\n",
    "\n",
    "\n",
    "class TrieNode(object):\n",
    "\n",
    "    \n",
    "    def __init__(self, char: str):   # __init__ é um método especial para fazer construtores\n",
    "        self.char = char   # caractere do nodo atual\n",
    "        self.filhos = []   # nodos filhos\n",
    "        self.pFinalizada = False   # se é o último nodo e a palavra terminou\n",
    "        self.indice = 0   # sempre zero para nodos que não são término de palavra"
   ]
  },
  {
   "cell_type": "code",
   "execution_count": 28,
   "metadata": {},
   "outputs": [],
   "source": [
    "def addString(raiz, palavra: str, indice: int):   # função usada para adicionar uma palavra nova à estrutura trie\n",
    "\n",
    "    nodo = raiz\n",
    "    for char in palavra:\n",
    "        encontradoEmFilho = False\n",
    "        # busca pelo caractere nos filhos do nodo atual\n",
    "        for filho in nodo.filhos:\n",
    "            if filho.char == char: \n",
    "                nodo = filho   # apontamos o nodo para o filho que contém esse char\n",
    "                encontradoEmFilho = True\n",
    "                break\n",
    "        \n",
    "        if not encontradoEmFilho:   # se o caractere não foi encontrado, adiciona novo filho\n",
    "            novoNodo = TrieNode(char)\n",
    "            nodo.filhos.append(novoNodo)\n",
    "            nodo = novoNodo   # apontamos, então, o nodo para seu novo filho e continuamos a iteração\n",
    "    \n",
    "    nodo.pFinalizada = True   # indica que até ali pode ser uma palavra (nome de música/artista completo)\n",
    "    nodo.indice = indice   # assinala o indice passado"
   ]
  },
  {
   "cell_type": "code",
   "execution_count": 47,
   "metadata": {},
   "outputs": [
    {
     "name": "stdout",
     "output_type": "stream",
     "text": [
      "@\n",
      "0\n",
      "20\n"
     ]
    }
   ],
   "source": [
    "raiz = TrieNode('@')   # raiz com char denotado por @\n",
    "print(raiz.char)\n",
    "addString(raiz, 'tudo trocado', 100)\n",
    "print(raiz.filhos[0].filhos[0].indice)\n",
    "addString(raiz, 'tnt', 20)\n",
    "print(raiz.filhos[0].filhos[1].filhos[0].indice)"
   ]
  },
  {
   "cell_type": "code",
   "execution_count": 48,
   "metadata": {},
   "outputs": [],
   "source": [
    "def findString(raiz, palavra: str) -> Tuple[bool, int]:\n",
    "    \"\"\"\n",
    "      1. Se a palavra existe e tem um índice associado, retorna verdadeiro e o índice dela\n",
    "      2. Se a palavra não existe, retorna falso e 0\n",
    "    \"\"\"\n",
    "    nodo = raiz\n",
    "\n",
    "    if not raiz.filhos:   # se o nodo raiz não tiver nenhum filho, trivial, retorna falso\n",
    "        return False, 0\n",
    "    for char in palavra:\n",
    "        charNaoEncontrado = True\n",
    "        for filho in nodo.filhos:\n",
    "            if filho.char == char:\n",
    "                charNaoEncontrado = False   # assinala que o char foi encontrado\n",
    "                nodo = filho   # passa iteração para o nodo filho\n",
    "                break\n",
    "        \n",
    "        if charNaoEncontrado:   # retorna falso quando não encontrar algum char da palavra sendo procurada\n",
    "            return False, 0\n",
    "    \n",
    "    # Caso passe por todos os caracteres sem retornar [False, 0], então significa que a palavra foi encontrada\n",
    "    # Resta saber se aquele nodo é um nodo final com um índice associado\n",
    "    if nodo.pFinalizada:\n",
    "        return True, nodo.indice\n",
    "    else:\n",
    "        return False, 0"
   ]
  },
  {
   "cell_type": "code",
   "execution_count": 49,
   "metadata": {},
   "outputs": [
    {
     "name": "stdout",
     "output_type": "stream",
     "text": [
      "(True, 100)\n"
     ]
    }
   ],
   "source": [
    "tupla = findString(raiz, \"tudo trocado\")\n",
    "print(tupla)"
   ]
  }
 ],
 "metadata": {
  "kernelspec": {
   "display_name": "Python 3",
   "language": "python",
   "name": "python3"
  },
  "language_info": {
   "codemirror_mode": {
    "name": "ipython",
    "version": 3
   },
   "file_extension": ".py",
   "mimetype": "text/x-python",
   "name": "python",
   "nbconvert_exporter": "python",
   "pygments_lexer": "ipython3",
   "version": "3.7.0"
  }
 },
 "nbformat": 4,
 "nbformat_minor": 2
}
